{
  "nbformat": 4,
  "nbformat_minor": 0,
  "metadata": {
    "colab": {
      "name": "붓꽃 품종 예측해보자1021.ipynb",
      "provenance": [],
      "collapsed_sections": [],
      "authorship_tag": "ABX9TyMIA+LtI3dCFGd2SUugqb8H",
      "include_colab_link": true
    },
    "kernelspec": {
      "name": "python3",
      "display_name": "Python 3"
    },
    "language_info": {
      "name": "python"
    }
  },
  "cells": [
    {
      "cell_type": "markdown",
      "metadata": {
        "id": "view-in-github",
        "colab_type": "text"
      },
      "source": [
        "<a href=\"https://colab.research.google.com/github/HayeonKimm/project/blob/master/project/python_machine_pjt/toy_machine_pjt/%EB%B6%93%EA%BD%83_%ED%92%88%EC%A2%85_%EC%98%88%EC%B8%A1%ED%95%B4%EB%B3%B4%EC%9E%901021.ipynb\" target=\"_parent\"><img src=\"https://colab.research.google.com/assets/colab-badge.svg\" alt=\"Open In Colab\"/></a>"
      ]
    },
    {
      "cell_type": "markdown",
      "metadata": {
        "id": "h2YP6irSoMtO"
      },
      "source": [
        "## 파이썬 머신러닝 완벽가이드 (위키북스) 기반으로 실습.\n",
        "\n",
        "## 붖꽃 품종 예측 (1021)"
      ]
    },
    {
      "cell_type": "markdown",
      "metadata": {
        "id": "N-mhveIR5E0l"
      },
      "source": [
        "## 붓꽃 데이터 세트로 분류를 예측한 프로세스\n",
        "\n",
        "1.데이터 세트 분리  \n",
        "2.모델 학습  \n",
        "3.예측 수행  \n",
        "4.평가  "
      ]
    },
    {
      "cell_type": "code",
      "metadata": {
        "id": "cyLS_yHunIXT"
      },
      "source": [
        "from sklearn.datasets import load_iris # 사이킷런에서 자체적으로 제공하는 데이터 세트를 생성하는 모듈의 모임.\n",
        "from sklearn.tree import DecisionTreeClassifier # 트리기반 ML알고리즘을 구현한 클래스의 모임 \n",
        "from sklearn.model_selection import train_test_split # 데이터 분리, 최적의 하이퍼 파라미터로 평가하기 위한 다양한 모듈의 모임"
      ],
      "execution_count": 1,
      "outputs": []
    },
    {
      "cell_type": "code",
      "metadata": {
        "id": "tyJR0t33ni41"
      },
      "source": [
        "import pandas as pd"
      ],
      "execution_count": 2,
      "outputs": []
    },
    {
      "cell_type": "code",
      "metadata": {
        "id": "0Qtdv3ploKOU"
      },
      "source": [
        "iris = load_iris() # 원래 자체적으로 주어지는 데이터 "
      ],
      "execution_count": 3,
      "outputs": []
    },
    {
      "cell_type": "code",
      "metadata": {
        "id": "EQlvjVBKohJ1"
      },
      "source": [
        "iris_data=iris.data # iris의 데이터만 따로 할당"
      ],
      "execution_count": 4,
      "outputs": []
    },
    {
      "cell_type": "code",
      "metadata": {
        "colab": {
          "base_uri": "https://localhost:8080/"
        },
        "id": "aTdFRCDZokil",
        "outputId": "74648746-3a7f-4baf-b800-735afcb84d60"
      },
      "source": [
        "iris_label = iris.target # 타겟값은 따로 할당.\n",
        "\n",
        "print('iris target값:', iris_label) # 타겟 값을 보여줘.\n",
        "print('iris target값 네임:', iris.target_names) # 타겟 이름을 알려줘 "
      ],
      "execution_count": 5,
      "outputs": [
        {
          "output_type": "stream",
          "name": "stdout",
          "text": [
            "iris target값: [0 0 0 0 0 0 0 0 0 0 0 0 0 0 0 0 0 0 0 0 0 0 0 0 0 0 0 0 0 0 0 0 0 0 0 0 0\n",
            " 0 0 0 0 0 0 0 0 0 0 0 0 0 1 1 1 1 1 1 1 1 1 1 1 1 1 1 1 1 1 1 1 1 1 1 1 1\n",
            " 1 1 1 1 1 1 1 1 1 1 1 1 1 1 1 1 1 1 1 1 1 1 1 1 1 1 2 2 2 2 2 2 2 2 2 2 2\n",
            " 2 2 2 2 2 2 2 2 2 2 2 2 2 2 2 2 2 2 2 2 2 2 2 2 2 2 2 2 2 2 2 2 2 2 2 2 2\n",
            " 2 2]\n",
            "iris target값 네임: ['setosa' 'versicolor' 'virginica']\n"
          ]
        }
      ]
    },
    {
      "cell_type": "code",
      "metadata": {
        "colab": {
          "base_uri": "https://localhost:8080/"
        },
        "id": "edWbwkXRpIQz",
        "outputId": "fdc3e2b7-4848-4e57-ee22-1b480145b66a"
      },
      "source": [
        "dir(iris) # 대충 이런 것들을 쓸 수 있다."
      ],
      "execution_count": 6,
      "outputs": [
        {
          "output_type": "execute_result",
          "data": {
            "text/plain": [
              "['DESCR', 'data', 'feature_names', 'filename', 'target', 'target_names']"
            ]
          },
          "metadata": {},
          "execution_count": 6
        }
      ]
    },
    {
      "cell_type": "code",
      "metadata": {
        "id": "LRbrbG6cpL6w"
      },
      "source": [
        "X_train, X_test, y_train, y_test = train_test_split(iris_data, iris_label, test_size=0.2, random_state = 11)  # 트레이닝 셋 , 테스트 셋으로 나누었다. 테스트 셋 사이즈는 0.2 , 고로 트레이닝 사이즈는 0.8이다. \n",
        "\n",
        "# random_state = 11 로 고정시켰다. 수행 할 때마다 동일한 데이터 세트로 분리하기 위해서."
      ],
      "execution_count": 7,
      "outputs": []
    },
    {
      "cell_type": "markdown",
      "metadata": {
        "id": "vHvnKhfFqnVw"
      },
      "source": [
        "## 학습 데이터를 확보했으니, 머신러닝 분류 알고리즘의 하나인 의사 결정 트리를 이용해 학습과 예측을 수행 해보자."
      ]
    },
    {
      "cell_type": "code",
      "metadata": {
        "colab": {
          "base_uri": "https://localhost:8080/"
        },
        "id": "quOCmpKyp1V3",
        "outputId": "615b8184-59a0-41d8-c7fa-ca11d305c0fe"
      },
      "source": [
        "# DecisionTreeClassifier 객체 생성\n",
        "dt_clf = DecisionTreeClassifier(random_state=11)\n",
        "\n",
        "# 학습을 수행하자 !\n",
        "dt_clf.fit(X_train, y_train)"
      ],
      "execution_count": 8,
      "outputs": [
        {
          "output_type": "execute_result",
          "data": {
            "text/plain": [
              "DecisionTreeClassifier(ccp_alpha=0.0, class_weight=None, criterion='gini',\n",
              "                       max_depth=None, max_features=None, max_leaf_nodes=None,\n",
              "                       min_impurity_decrease=0.0, min_impurity_split=None,\n",
              "                       min_samples_leaf=1, min_samples_split=2,\n",
              "                       min_weight_fraction_leaf=0.0, presort='deprecated',\n",
              "                       random_state=11, splitter='best')"
            ]
          },
          "metadata": {},
          "execution_count": 8
        }
      ]
    },
    {
      "cell_type": "markdown",
      "metadata": {
        "id": "7kg4rhnPrQLB"
      },
      "source": [
        "## 학습이 완료됐다."
      ]
    },
    {
      "cell_type": "code",
      "metadata": {
        "id": "cFMqga3JrT1f"
      },
      "source": [
        "# 학습이 완료 됐다. 테스트 데이터로 잘 수행되었는지 알아보자.\n",
        "\n",
        "pred = dt_clf.predict(X_test) # X 테스트 데이터로 y 테스트 데이터 예측을 수행해보자. "
      ],
      "execution_count": 9,
      "outputs": []
    },
    {
      "cell_type": "markdown",
      "metadata": {
        "id": "WJ4tRzENrqnK"
      },
      "source": [
        "## 일반적으로 머신러닝 모델의 성능 평가 방법은 여러 가지가 있지만, 여기서는 '정확도' 를 이용해 측정하겠다."
      ]
    },
    {
      "cell_type": "markdown",
      "metadata": {
        "id": "9MC-PXBxr3lw"
      },
      "source": [
        ""
      ]
    },
    {
      "cell_type": "code",
      "metadata": {
        "colab": {
          "base_uri": "https://localhost:8080/"
        },
        "id": "ok6H4qqEri1t",
        "outputId": "79c5da7b-bce0-4b33-e239-996699c308a3"
      },
      "source": [
        "# accuracy_score 임포트\n",
        "from sklearn.metrics import accuracy_score \n",
        "\n",
        "print('예측 정확도: {0:.4f}'.format(accuracy_score(y_test,pred)))"
      ],
      "execution_count": 10,
      "outputs": [
        {
          "output_type": "stream",
          "name": "stdout",
          "text": [
            "예측 정확도: 0.9333\n"
          ]
        }
      ]
    },
    {
      "cell_type": "markdown",
      "metadata": {
        "id": "sEMvIjvP38Yf"
      },
      "source": [
        "##예측 정확도는 0.9333이 나왔다.\n",
        "--------------------------"
      ]
    },
    {
      "cell_type": "markdown",
      "metadata": {
        "id": "h_dydmv15hGw"
      },
      "source": [
        "## 번외로 트레이닝 , 테스트 셋 비율을 바꿔서 다시 실행해보자."
      ]
    },
    {
      "cell_type": "code",
      "metadata": {
        "colab": {
          "base_uri": "https://localhost:8080/"
        },
        "id": "yA3EK6x55gHl",
        "outputId": "9d038c4c-9cc4-49e0-acb9-24d40e1bd449"
      },
      "source": [
        "# 테스트 사이즈 0.1 높여서 0.3으로 실행\n",
        "\n",
        "X_train, X_test, y_train, y_test = train_test_split(iris_data, iris_label, test_size=0.3, random_state = 12)\n",
        "\n",
        "# DecisionTreeClassifier 객체 생성\n",
        "dt_clf = DecisionTreeClassifier(random_state=12)\n",
        "\n",
        "# 학습을 수행하자 !\n",
        "dt_clf.fit(X_train, y_train)"
      ],
      "execution_count": 11,
      "outputs": [
        {
          "output_type": "execute_result",
          "data": {
            "text/plain": [
              "DecisionTreeClassifier(ccp_alpha=0.0, class_weight=None, criterion='gini',\n",
              "                       max_depth=None, max_features=None, max_leaf_nodes=None,\n",
              "                       min_impurity_decrease=0.0, min_impurity_split=None,\n",
              "                       min_samples_leaf=1, min_samples_split=2,\n",
              "                       min_weight_fraction_leaf=0.0, presort='deprecated',\n",
              "                       random_state=12, splitter='best')"
            ]
          },
          "metadata": {},
          "execution_count": 11
        }
      ]
    },
    {
      "cell_type": "code",
      "metadata": {
        "colab": {
          "base_uri": "https://localhost:8080/"
        },
        "id": "5SfQL5Nx6NCQ",
        "outputId": "6a505af9-d609-4060-f342-37a578d8f0c1"
      },
      "source": [
        "pred = dt_clf.predict(X_test)\n",
        "\n",
        "from sklearn.metrics import accuracy_score \n",
        "\n",
        "print('예측 정확도: {0:.4f}'.format(accuracy_score(y_test,pred)))"
      ],
      "execution_count": 12,
      "outputs": [
        {
          "output_type": "stream",
          "name": "stdout",
          "text": [
            "예측 정확도: 0.9556\n"
          ]
        }
      ]
    },
    {
      "cell_type": "code",
      "metadata": {
        "colab": {
          "base_uri": "https://localhost:8080/"
        },
        "id": "yQ61Nfl75d3E",
        "outputId": "4bd32e4f-9578-4602-e15e-0f0f800519bb"
      },
      "source": [
        "# 테스트 사이즈 0.1 낮춰서 0.1으로 실행\n",
        "\n",
        "\n",
        "X_train, X_test, y_train, y_test = train_test_split(iris_data, iris_label, test_size=0.1, random_state = 13)\n",
        "\n",
        "# DecisionTreeClassifier 객체 생성\n",
        "dt_clf = DecisionTreeClassifier(random_state=13)\n",
        "\n",
        "# 학습을 수행하자 !\n",
        "dt_clf.fit(X_train, y_train)"
      ],
      "execution_count": 13,
      "outputs": [
        {
          "output_type": "execute_result",
          "data": {
            "text/plain": [
              "DecisionTreeClassifier(ccp_alpha=0.0, class_weight=None, criterion='gini',\n",
              "                       max_depth=None, max_features=None, max_leaf_nodes=None,\n",
              "                       min_impurity_decrease=0.0, min_impurity_split=None,\n",
              "                       min_samples_leaf=1, min_samples_split=2,\n",
              "                       min_weight_fraction_leaf=0.0, presort='deprecated',\n",
              "                       random_state=13, splitter='best')"
            ]
          },
          "metadata": {},
          "execution_count": 13
        }
      ]
    },
    {
      "cell_type": "code",
      "metadata": {
        "colab": {
          "base_uri": "https://localhost:8080/"
        },
        "id": "adrTxzDQ6TV5",
        "outputId": "8e1c18a8-9f6d-46c5-9218-6dc841f820fe"
      },
      "source": [
        "pred = dt_clf.predict(X_test)\n",
        "\n",
        "from sklearn.metrics import accuracy_score \n",
        "\n",
        "print('예측 정확도: {0:.4f}'.format(accuracy_score(y_test,pred)))"
      ],
      "execution_count": 14,
      "outputs": [
        {
          "output_type": "stream",
          "name": "stdout",
          "text": [
            "예측 정확도: 0.8667\n"
          ]
        }
      ]
    },
    {
      "cell_type": "markdown",
      "metadata": {
        "id": "vPeq0mLI6n6O"
      },
      "source": [
        "# 결론 : 테스트 사이즈 0.3 이 가장 정확도가 높다 ! "
      ]
    }
  ]
}