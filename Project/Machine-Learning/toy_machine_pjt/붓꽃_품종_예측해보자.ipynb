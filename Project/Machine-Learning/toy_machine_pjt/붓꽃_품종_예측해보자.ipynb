{
 "cells": [
  {
   "cell_type": "markdown",
   "metadata": {
    "colab_type": "text",
    "id": "view-in-github"
   },
   "source": [
    "<a href=\"https://colab.research.google.com/github/HayeonKimm/project/blob/master/python_machine-pjt/toy_machine_pjt/%EB%B6%93%EA%BD%83_%ED%92%88%EC%A2%85_%EC%98%88%EC%B8%A1%ED%95%B4%EB%B3%B4%EC%9E%901021.ipynb\" target=\"_parent\"><img src=\"https://colab.research.google.com/assets/colab-badge.svg\" alt=\"Open In Colab\"/></a>"
   ]
  },
  {
   "cell_type": "markdown",
   "metadata": {
    "id": "h2YP6irSoMtO"
   },
   "source": [
    "## 파이썬 머신러닝 완벽가이드 (위키북스) 기반으로 실습.\n",
    "\n",
    "## 붖꽃 품종 예측 (1021)"
   ]
  },
  {
   "cell_type": "markdown",
   "metadata": {
    "id": "N-mhveIR5E0l"
   },
   "source": [
    "## 붓꽃 데이터 세트로 분류를 예측한 프로세스\n",
    "\n",
    "1.데이터 세트 분리  \n",
    "2.모델 학습  \n",
    "3.예측 수행  \n",
    "4.평가  "
   ]
  },
  {
   "cell_type": "code",
   "execution_count": 15,
   "metadata": {
    "ExecuteTime": {
     "end_time": "2021-11-11T03:56:43.080154Z",
     "start_time": "2021-11-11T03:56:43.057207Z"
    },
    "id": "cyLS_yHunIXT"
   },
   "outputs": [],
   "source": [
    "from sklearn.datasets import load_iris # 사이킷런에서 자체적으로 제공하는 데이터 세트를 생성하는 모듈의 모임.\n",
    "from sklearn.tree import DecisionTreeClassifier # 트리기반 ML알고리즘을 구현한 클래스의 모임 \n",
    "from sklearn.model_selection import train_test_split # 데이터 분리, 최적의 하이퍼 파라미터로 평가하기 위한 다양한 모듈의 모임"
   ]
  },
  {
   "cell_type": "code",
   "execution_count": 16,
   "metadata": {
    "ExecuteTime": {
     "end_time": "2021-11-11T03:56:43.173846Z",
     "start_time": "2021-11-11T03:56:43.163872Z"
    },
    "id": "tyJR0t33ni41"
   },
   "outputs": [],
   "source": [
    "import pandas as pd"
   ]
  },
  {
   "cell_type": "code",
   "execution_count": 17,
   "metadata": {
    "ExecuteTime": {
     "end_time": "2021-11-11T03:56:43.328893Z",
     "start_time": "2021-11-11T03:56:43.309941Z"
    },
    "id": "0Qtdv3ploKOU"
   },
   "outputs": [],
   "source": [
    "iris = load_iris() # 원래 자체적으로 주어지는 데이터 "
   ]
  },
  {
   "cell_type": "code",
   "execution_count": 18,
   "metadata": {
    "ExecuteTime": {
     "end_time": "2021-11-11T03:56:43.513512Z",
     "start_time": "2021-11-11T03:56:43.494529Z"
    },
    "id": "EQlvjVBKohJ1"
   },
   "outputs": [],
   "source": [
    "iris_data=iris.data # iris의 데이터만 따로 할당"
   ]
  },
  {
   "cell_type": "code",
   "execution_count": 19,
   "metadata": {
    "ExecuteTime": {
     "end_time": "2021-11-11T03:56:43.652206Z",
     "start_time": "2021-11-11T03:56:43.639241Z"
    },
    "colab": {
     "base_uri": "https://localhost:8080/"
    },
    "id": "aTdFRCDZokil",
    "outputId": "74648746-3a7f-4baf-b800-735afcb84d60"
   },
   "outputs": [
    {
     "name": "stdout",
     "output_type": "stream",
     "text": [
      "iris target값: [0 0 0 0 0 0 0 0 0 0 0 0 0 0 0 0 0 0 0 0 0 0 0 0 0 0 0 0 0 0 0 0 0 0 0 0 0\n",
      " 0 0 0 0 0 0 0 0 0 0 0 0 0 1 1 1 1 1 1 1 1 1 1 1 1 1 1 1 1 1 1 1 1 1 1 1 1\n",
      " 1 1 1 1 1 1 1 1 1 1 1 1 1 1 1 1 1 1 1 1 1 1 1 1 1 1 2 2 2 2 2 2 2 2 2 2 2\n",
      " 2 2 2 2 2 2 2 2 2 2 2 2 2 2 2 2 2 2 2 2 2 2 2 2 2 2 2 2 2 2 2 2 2 2 2 2 2\n",
      " 2 2]\n",
      "iris target값 네임: ['setosa' 'versicolor' 'virginica']\n"
     ]
    }
   ],
   "source": [
    "iris_label = iris.target # 타겟값은 따로 할당.\n",
    "\n",
    "print('iris target값:', iris_label) # 타겟 값을 보여줘.\n",
    "print('iris target값 네임:', iris.target_names) # 타겟 이름을 알려줘 "
   ]
  },
  {
   "cell_type": "code",
   "execution_count": 20,
   "metadata": {
    "ExecuteTime": {
     "end_time": "2021-11-11T03:56:43.805700Z",
     "start_time": "2021-11-11T03:56:43.785720Z"
    },
    "colab": {
     "base_uri": "https://localhost:8080/"
    },
    "id": "edWbwkXRpIQz",
    "outputId": "fdc3e2b7-4848-4e57-ee22-1b480145b66a"
   },
   "outputs": [
    {
     "data": {
      "text/plain": [
       "['DESCR',\n",
       " 'data',\n",
       " 'feature_names',\n",
       " 'filename',\n",
       " 'frame',\n",
       " 'target',\n",
       " 'target_names']"
      ]
     },
     "execution_count": 20,
     "metadata": {},
     "output_type": "execute_result"
    }
   ],
   "source": [
    "dir(iris) # 대충 이런 것들을 쓸 수 있다."
   ]
  },
  {
   "cell_type": "code",
   "execution_count": 21,
   "metadata": {
    "ExecuteTime": {
     "end_time": "2021-11-11T03:56:45.371398Z",
     "start_time": "2021-11-11T03:56:45.355424Z"
    },
    "id": "LRbrbG6cpL6w"
   },
   "outputs": [],
   "source": [
    "X_train, X_test, y_train, y_test = train_test_split(iris_data, iris_label, test_size=0.2, random_state = 11)  # 트레이닝 셋 , 테스트 셋으로 나누었다. 테스트 셋 사이즈는 0.2 , 고로 트레이닝 사이즈는 0.8이다. \n",
    "\n",
    "# random_state = 11 로 고정시켰다. 수행 할 때마다 동일한 데이터 세트로 분리하기 위해서."
   ]
  },
  {
   "cell_type": "markdown",
   "metadata": {
    "id": "vHvnKhfFqnVw"
   },
   "source": [
    "## 학습 데이터를 확보했으니, 머신러닝 분류 알고리즘의 하나인 의사 결정 트리를 이용해 학습과 예측을 수행 해보자."
   ]
  },
  {
   "cell_type": "code",
   "execution_count": 22,
   "metadata": {
    "ExecuteTime": {
     "end_time": "2021-11-11T03:56:47.181538Z",
     "start_time": "2021-11-11T03:56:47.157639Z"
    },
    "colab": {
     "base_uri": "https://localhost:8080/"
    },
    "id": "quOCmpKyp1V3",
    "outputId": "615b8184-59a0-41d8-c7fa-ca11d305c0fe"
   },
   "outputs": [
    {
     "data": {
      "text/plain": [
       "DecisionTreeClassifier(random_state=11)"
      ]
     },
     "execution_count": 22,
     "metadata": {},
     "output_type": "execute_result"
    }
   ],
   "source": [
    "# DecisionTreeClassifier 객체 생성\n",
    "dt_clf = DecisionTreeClassifier(random_state=11)\n",
    "\n",
    "# 학습을 수행하자 !\n",
    "dt_clf.fit(X_train, y_train)"
   ]
  },
  {
   "cell_type": "markdown",
   "metadata": {
    "id": "7kg4rhnPrQLB"
   },
   "source": [
    "## 학습이 완료됐다."
   ]
  },
  {
   "cell_type": "code",
   "execution_count": 23,
   "metadata": {
    "ExecuteTime": {
     "end_time": "2021-11-11T03:56:51.940546Z",
     "start_time": "2021-11-11T03:56:51.923612Z"
    },
    "id": "cFMqga3JrT1f"
   },
   "outputs": [],
   "source": [
    "# 학습이 완료 됐다. 테스트 데이터로 잘 수행되었는지 알아보자.\n",
    "\n",
    "pred = dt_clf.predict(X_test) # X 테스트 데이터로 y 테스트 데이터 예측을 수행해보자. "
   ]
  },
  {
   "cell_type": "markdown",
   "metadata": {
    "id": "WJ4tRzENrqnK"
   },
   "source": [
    "## 일반적으로 머신러닝 모델의 성능 평가 방법은 여러 가지가 있지만, 여기서는 '정확도' 를 이용해 측정하겠다."
   ]
  },
  {
   "cell_type": "markdown",
   "metadata": {
    "id": "9MC-PXBxr3lw"
   },
   "source": []
  },
  {
   "cell_type": "code",
   "execution_count": 24,
   "metadata": {
    "ExecuteTime": {
     "end_time": "2021-11-11T03:56:54.536380Z",
     "start_time": "2021-11-11T03:56:54.523413Z"
    },
    "colab": {
     "base_uri": "https://localhost:8080/"
    },
    "id": "ok6H4qqEri1t",
    "outputId": "79c5da7b-bce0-4b33-e239-996699c308a3"
   },
   "outputs": [
    {
     "name": "stdout",
     "output_type": "stream",
     "text": [
      "예측 정확도: 0.9333\n"
     ]
    }
   ],
   "source": [
    "# accuracy_score 임포트\n",
    "from sklearn.metrics import accuracy_score \n",
    "\n",
    "print('예측 정확도: {0:.4f}'.format(accuracy_score(y_test,pred)))"
   ]
  },
  {
   "cell_type": "code",
   "execution_count": 27,
   "metadata": {
    "ExecuteTime": {
     "end_time": "2021-11-11T03:57:32.601018Z",
     "start_time": "2021-11-11T03:57:31.085487Z"
    },
    "scrolled": false
   },
   "outputs": [
    {
     "data": {
      "text/plain": [
       "[Text(103.01538461538462, 199.32, 'X[3] <= 0.8\\ngini = 0.667\\nsamples = 120\\nvalue = [41, 40, 39]'),\n",
       " Text(77.26153846153846, 163.07999999999998, 'gini = 0.0\\nsamples = 41\\nvalue = [41, 0, 0]'),\n",
       " Text(128.76923076923077, 163.07999999999998, 'X[3] <= 1.55\\ngini = 0.5\\nsamples = 79\\nvalue = [0, 40, 39]'),\n",
       " Text(51.50769230769231, 126.83999999999999, 'X[2] <= 5.25\\ngini = 0.051\\nsamples = 38\\nvalue = [0, 37, 1]'),\n",
       " Text(25.753846153846155, 90.6, 'gini = 0.0\\nsamples = 37\\nvalue = [0, 37, 0]'),\n",
       " Text(77.26153846153846, 90.6, 'gini = 0.0\\nsamples = 1\\nvalue = [0, 0, 1]'),\n",
       " Text(206.03076923076924, 126.83999999999999, 'X[3] <= 1.75\\ngini = 0.136\\nsamples = 41\\nvalue = [0, 3, 38]'),\n",
       " Text(128.76923076923077, 90.6, 'X[0] <= 5.45\\ngini = 0.5\\nsamples = 4\\nvalue = [0, 2, 2]'),\n",
       " Text(103.01538461538462, 54.359999999999985, 'gini = 0.0\\nsamples = 1\\nvalue = [0, 0, 1]'),\n",
       " Text(154.52307692307693, 54.359999999999985, 'X[2] <= 5.45\\ngini = 0.444\\nsamples = 3\\nvalue = [0, 2, 1]'),\n",
       " Text(128.76923076923077, 18.119999999999976, 'gini = 0.0\\nsamples = 2\\nvalue = [0, 2, 0]'),\n",
       " Text(180.27692307692308, 18.119999999999976, 'gini = 0.0\\nsamples = 1\\nvalue = [0, 0, 1]'),\n",
       " Text(283.2923076923077, 90.6, 'X[2] <= 4.85\\ngini = 0.053\\nsamples = 37\\nvalue = [0, 1, 36]'),\n",
       " Text(257.53846153846155, 54.359999999999985, 'X[0] <= 5.95\\ngini = 0.444\\nsamples = 3\\nvalue = [0, 1, 2]'),\n",
       " Text(231.7846153846154, 18.119999999999976, 'gini = 0.0\\nsamples = 1\\nvalue = [0, 1, 0]'),\n",
       " Text(283.2923076923077, 18.119999999999976, 'gini = 0.0\\nsamples = 2\\nvalue = [0, 0, 2]'),\n",
       " Text(309.04615384615386, 54.359999999999985, 'gini = 0.0\\nsamples = 34\\nvalue = [0, 0, 34]')]"
      ]
     },
     "execution_count": 27,
     "metadata": {},
     "output_type": "execute_result"
    },
    {
     "data": {
      "image/png": "[encoded data removed]",
      "text/plain": [
       "<Figure size 432x288 with 1 Axes>"
      ]
     },
     "metadata": {
      "needs_background": "light"
     },
     "output_type": "display_data"
    }
   ],
   "source": [
    "from sklearn import tree\n",
    "\n",
    "tree.plot_tree(dt_clf)"
   ]
  },
  {
   "cell_type": "markdown",
   "metadata": {
    "id": "sEMvIjvP38Yf"
   },
   "source": [
    "## 예측 정확도는 0.9333이 나왔다.\n",
    "--------------------------"
   ]
  },
  {
   "cell_type": "markdown",
   "metadata": {
    "id": "h_dydmv15hGw"
   },
   "source": [
    "## 번외로 트레이닝 , 테스트 셋 비율을 바꿔서 다시 실행해보자."
   ]
  },
  {
   "cell_type": "code",
   "execution_count": 11,
   "metadata": {
    "ExecuteTime": {
     "end_time": "2021-11-11T03:53:11.095520Z",
     "start_time": "2021-11-11T03:53:11.066569Z"
    },
    "colab": {
     "base_uri": "https://localhost:8080/"
    },
    "id": "yA3EK6x55gHl",
    "outputId": "9d038c4c-9cc4-49e0-acb9-24d40e1bd449"
   },
   "outputs": [
    {
     "data": {
      "text/plain": [
       "DecisionTreeClassifier(random_state=12)"
      ]
     },
     "execution_count": 11,
     "metadata": {},
     "output_type": "execute_result"
    }
   ],
   "source": [
    "# 테스트 사이즈 0.1 높여서 0.3으로 실행\n",
    "\n",
    "X_train, X_test, y_train, y_test = train_test_split(iris_data, iris_label, test_size=0.3, random_state = 12)\n",
    "\n",
    "# DecisionTreeClassifier 객체 생성\n",
    "dt_clf = DecisionTreeClassifier(random_state=12)\n",
    "\n",
    "# 학습을 수행하자 !\n",
    "dt_clf.fit(X_train, y_train)"
   ]
  },
  {
   "cell_type": "code",
   "execution_count": 12,
   "metadata": {
    "ExecuteTime": {
     "end_time": "2021-11-11T03:53:35.186974Z",
     "start_time": "2021-11-11T03:53:35.170056Z"
    },
    "colab": {
     "base_uri": "https://localhost:8080/"
    },
    "id": "5SfQL5Nx6NCQ",
    "outputId": "6a505af9-d609-4060-f342-37a578d8f0c1"
   },
   "outputs": [
    {
     "name": "stdout",
     "output_type": "stream",
     "text": [
      "예측 정확도: 0.9556\n"
     ]
    }
   ],
   "source": [
    "pred = dt_clf.predict(X_test)\n",
    "\n",
    "from sklearn.metrics import accuracy_score \n",
    "\n",
    "print('예측 정확도: {0:.4f}'.format(accuracy_score(y_test,pred)))"
   ]
  },
  {
   "cell_type": "code",
   "execution_count": 13,
   "metadata": {
    "ExecuteTime": {
     "end_time": "2021-11-11T03:53:39.498022Z",
     "start_time": "2021-11-11T03:53:39.472092Z"
    },
    "colab": {
     "base_uri": "https://localhost:8080/"
    },
    "id": "yQ61Nfl75d3E",
    "outputId": "4bd32e4f-9578-4602-e15e-0f0f800519bb"
   },
   "outputs": [
    {
     "data": {
      "text/plain": [
       "DecisionTreeClassifier(random_state=13)"
      ]
     },
     "execution_count": 13,
     "metadata": {},
     "output_type": "execute_result"
    }
   ],
   "source": [
    "# 테스트 사이즈 0.1 낮춰서 0.1으로 실행\n",
    "\n",
    "\n",
    "X_train, X_test, y_train, y_test = train_test_split(iris_data, iris_label, test_size=0.1, random_state = 13)\n",
    "\n",
    "# DecisionTreeClassifier 객체 생성\n",
    "dt_clf = DecisionTreeClassifier(random_state=13)\n",
    "\n",
    "# 학습을 수행하자 !\n",
    "dt_clf.fit(X_train, y_train)"
   ]
  },
  {
   "cell_type": "code",
   "execution_count": 14,
   "metadata": {
    "ExecuteTime": {
     "end_time": "2021-11-11T03:53:40.589133Z",
     "start_time": "2021-11-11T03:53:40.571184Z"
    },
    "colab": {
     "base_uri": "https://localhost:8080/"
    },
    "id": "adrTxzDQ6TV5",
    "outputId": "8e1c18a8-9f6d-46c5-9218-6dc841f820fe"
   },
   "outputs": [
    {
     "name": "stdout",
     "output_type": "stream",
     "text": [
      "예측 정확도: 0.8667\n"
     ]
    }
   ],
   "source": [
    "pred = dt_clf.predict(X_test)\n",
    "\n",
    "from sklearn.metrics import accuracy_score \n",
    "\n",
    "print('예측 정확도: {0:.4f}'.format(accuracy_score(y_test,pred)))"
   ]
  },
  {
   "cell_type": "code",
   "execution_count": 39,
   "metadata": {
    "ExecuteTime": {
     "end_time": "2021-11-11T04:30:41.368876Z",
     "start_time": "2021-11-11T04:30:41.355911Z"
    }
   },
   "outputs": [
    {
     "data": {
      "text/plain": [
       "array([2, 2, 1, 1, 2, 0, 1, 0, 0, 1, 1, 1, 1, 2, 2, 0, 2, 1, 2, 2, 1, 0,\n",
       "       0, 1, 0, 0, 2, 1, 0, 1])"
      ]
     },
     "execution_count": 39,
     "metadata": {},
     "output_type": "execute_result"
    }
   ],
   "source": [
    "pred\n",
    "# len(pred)"
   ]
  },
  {
   "cell_type": "code",
   "execution_count": 38,
   "metadata": {
    "ExecuteTime": {
     "end_time": "2021-11-11T04:30:39.321328Z",
     "start_time": "2021-11-11T04:30:39.303376Z"
    }
   },
   "outputs": [
    {
     "data": {
      "text/plain": [
       "array([[6.8, 3. , 5.5, 2.1],\n",
       "       [6.7, 3. , 5.2, 2.3],\n",
       "       [6.3, 2.8, 5.1, 1.5],\n",
       "       [6.3, 3.3, 4.7, 1.6],\n",
       "       [6.4, 2.7, 5.3, 1.9],\n",
       "       [4.9, 3.1, 1.5, 0.1],\n",
       "       [6.7, 3.1, 4.4, 1.4],\n",
       "       [5.7, 4.4, 1.5, 0.4],\n",
       "       [4.8, 3.1, 1.6, 0.2],\n",
       "       [6.1, 2.9, 4.7, 1.4],\n",
       "       [6. , 2.2, 5. , 1.5],\n",
       "       [6. , 2.2, 4. , 1. ],\n",
       "       [5.4, 3. , 4.5, 1.5],\n",
       "       [5.7, 2.5, 5. , 2. ],\n",
       "       [6.9, 3.1, 5.4, 2.1],\n",
       "       [4.5, 2.3, 1.3, 0.3],\n",
       "       [6.3, 2.9, 5.6, 1.8],\n",
       "       [5.6, 3. , 4.5, 1.5],\n",
       "       [6.5, 3.2, 5.1, 2. ],\n",
       "       [5.8, 2.7, 5.1, 1.9],\n",
       "       [5.6, 2.5, 3.9, 1.1],\n",
       "       [4.7, 3.2, 1.3, 0.2],\n",
       "       [4.6, 3.6, 1. , 0.2],\n",
       "       [6.4, 3.2, 4.5, 1.5],\n",
       "       [4.8, 3. , 1.4, 0.1],\n",
       "       [4.8, 3.4, 1.6, 0.2],\n",
       "       [5.9, 3. , 5.1, 1.8],\n",
       "       [6.6, 3. , 4.4, 1.4],\n",
       "       [5.4, 3.9, 1.3, 0.4],\n",
       "       [6. , 3.4, 4.5, 1.6]])"
      ]
     },
     "execution_count": 38,
     "metadata": {},
     "output_type": "execute_result"
    }
   ],
   "source": [
    "X_test\n",
    "# len(X_test)"
   ]
  },
  {
   "cell_type": "code",
   "execution_count": 41,
   "metadata": {
    "ExecuteTime": {
     "end_time": "2021-11-11T04:31:26.115148Z",
     "start_time": "2021-11-11T04:31:26.106137Z"
    }
   },
   "outputs": [
    {
     "data": {
      "text/plain": [
       "['sepal length (cm)',\n",
       " 'sepal width (cm)',\n",
       " 'petal length (cm)',\n",
       " 'petal width (cm)']"
      ]
     },
     "execution_count": 41,
     "metadata": {},
     "output_type": "execute_result"
    }
   ],
   "source": [
    "iris.feature_names"
   ]
  },
  {
   "cell_type": "code",
   "execution_count": 34,
   "metadata": {
    "ExecuteTime": {
     "end_time": "2021-11-11T04:28:09.493037Z",
     "start_time": "2021-11-11T04:28:09.487990Z"
    }
   },
   "outputs": [],
   "source": [
    "# myDf=pd.concat([X_test, pred], axis=1, sort=False)\n",
    "# myDf"
   ]
  },
  {
   "cell_type": "code",
   "execution_count": null,
   "metadata": {},
   "outputs": [],
   "source": [
    "# iris target값 네임: ['setosa' 'versicolor' 'virginica']"
   ]
  },
  {
   "cell_type": "code",
   "execution_count": null,
   "metadata": {},
   "outputs": [],
   "source": [
    "tree.plot_tree(clf)"
   ]
  },
  {
   "cell_type": "markdown",
   "metadata": {
    "id": "vPeq0mLI6n6O"
   },
   "source": [
    "# 결론 : 테스트 사이즈 0.3 이 가장 정확도가 높다 ! "
   ]
  }
 ],
 "metadata": {
  "colab": {
   "authorship_tag": "ABX9TyMIA+LtI3dCFGd2SUugqb8H",
   "collapsed_sections": [],
   "include_colab_link": true,
   "name": "붓꽃 품종 예측해보자1021.ipynb",
   "provenance": []
  },
  "hide_input": false,
  "kernelspec": {
   "display_name": "Python 3 (ipykernel)",
   "language": "python",
   "name": "python3"
  },
  "language_info": {
   "codemirror_mode": {
    "name": "ipython",
    "version": 3
   },
   "file_extension": ".py",
   "mimetype": "text/x-python",
   "name": "python",
   "nbconvert_exporter": "python",
   "pygments_lexer": "ipython3",
   "version": "3.8.11"
  },
  "toc": {
   "base_numbering": 1,
   "nav_menu": {},
   "number_sections": true,
   "sideBar": true,
   "skip_h1_title": false,
   "title_cell": "Table of Contents",
   "title_sidebar": "Contents",
   "toc_cell": false,
   "toc_position": {},
   "toc_section_display": true,
   "toc_window_display": false
  }
 },
 "nbformat": 4,
 "nbformat_minor": 1
}
