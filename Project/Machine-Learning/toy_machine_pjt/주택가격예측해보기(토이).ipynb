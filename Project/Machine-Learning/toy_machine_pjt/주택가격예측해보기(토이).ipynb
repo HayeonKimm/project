{
 "cells": [
  {
   "cell_type": "code",
   "execution_count": 38,
   "id": "6bef9fc4",
   "metadata": {
    "ExecuteTime": {
     "end_time": "2021-11-17T17:22:05.741868Z",
     "start_time": "2021-11-17T17:22:05.724367Z"
    }
   },
   "outputs": [],
   "source": [
    "import pandas as pd \n",
    "import numpy as np \n",
    "import matplotlib as plt\n",
    "import tensorflow as tf\n",
    "# import data_process\n",
    "from keras.datasets import imdb\n",
    "from keras.preprocessing import sequence\n",
    "from sklearn.model_selection import train_test_split"
   ]
  },
  {
   "cell_type": "code",
   "execution_count": 39,
   "id": "de58cdbf",
   "metadata": {
    "ExecuteTime": {
     "end_time": "2021-11-17T17:22:05.996124Z",
     "start_time": "2021-11-17T17:22:05.970267Z"
    }
   },
   "outputs": [
    {
     "data": {
      "text/html": [
       "<div>\n",
       "<style scoped>\n",
       "    .dataframe tbody tr th:only-of-type {\n",
       "        vertical-align: middle;\n",
       "    }\n",
       "\n",
       "    .dataframe tbody tr th {\n",
       "        vertical-align: top;\n",
       "    }\n",
       "\n",
       "    .dataframe thead th {\n",
       "        text-align: right;\n",
       "    }\n",
       "</style>\n",
       "<table border=\"1\" class=\"dataframe\">\n",
       "  <thead>\n",
       "    <tr style=\"text-align: right;\">\n",
       "      <th></th>\n",
       "      <th>시도</th>\n",
       "      <th>시군구</th>\n",
       "      <th>일련번호</th>\n",
       "      <th>소재지</th>\n",
       "      <th>도로명주소</th>\n",
       "      <th>지목</th>\n",
       "      <th>건물용도</th>\n",
       "      <th>대지면적</th>\n",
       "      <th>연면적</th>\n",
       "      <th>건축면적</th>\n",
       "      <th>...</th>\n",
       "      <th>건폐율</th>\n",
       "      <th>동수</th>\n",
       "      <th>층수(지상/지하)</th>\n",
       "      <th>용도지역</th>\n",
       "      <th>도로교통</th>\n",
       "      <th>형상지세</th>\n",
       "      <th>주건물구조</th>\n",
       "      <th>사용승인일</th>\n",
       "      <th>주위환경</th>\n",
       "      <th>주택공시가격</th>\n",
       "    </tr>\n",
       "  </thead>\n",
       "  <tbody>\n",
       "    <tr>\n",
       "      <th>0</th>\n",
       "      <td>서울특별시</td>\n",
       "      <td>종로구</td>\n",
       "      <td>1</td>\n",
       "      <td>청운동 4-18</td>\n",
       "      <td>자하문로36길 34</td>\n",
       "      <td>대</td>\n",
       "      <td>단독주택</td>\n",
       "      <td>1193.4</td>\n",
       "      <td>499.24</td>\n",
       "      <td>268.70</td>\n",
       "      <td>...</td>\n",
       "      <td>22.52</td>\n",
       "      <td>1</td>\n",
       "      <td>(2/1)</td>\n",
       "      <td>제1종일반주거지역</td>\n",
       "      <td>세로(가)</td>\n",
       "      <td>정방형</td>\n",
       "      <td>연와조</td>\n",
       "      <td>1994</td>\n",
       "      <td>고급 주택지대</td>\n",
       "      <td>4655000000</td>\n",
       "    </tr>\n",
       "    <tr>\n",
       "      <th>1</th>\n",
       "      <td>서울특별시</td>\n",
       "      <td>종로구</td>\n",
       "      <td>2</td>\n",
       "      <td>청운동 8-3</td>\n",
       "      <td>자하문로35길 5</td>\n",
       "      <td>대</td>\n",
       "      <td>단독주택</td>\n",
       "      <td>924.0</td>\n",
       "      <td>374.15</td>\n",
       "      <td>220.93</td>\n",
       "      <td>...</td>\n",
       "      <td>23.91</td>\n",
       "      <td>1</td>\n",
       "      <td>(2/1)</td>\n",
       "      <td>제1종일반주거지역</td>\n",
       "      <td>세로(가)</td>\n",
       "      <td>사다리형</td>\n",
       "      <td>연와조 철근콘크리트조(RC조  RS조)</td>\n",
       "      <td>1965</td>\n",
       "      <td>일반 주택지대</td>\n",
       "      <td>3134000000</td>\n",
       "    </tr>\n",
       "    <tr>\n",
       "      <th>2</th>\n",
       "      <td>서울특별시</td>\n",
       "      <td>종로구</td>\n",
       "      <td>3</td>\n",
       "      <td>청운동 12-9</td>\n",
       "      <td>자하문로36길 11</td>\n",
       "      <td>대</td>\n",
       "      <td>단독주택</td>\n",
       "      <td>237.0</td>\n",
       "      <td>159.74</td>\n",
       "      <td>91.54</td>\n",
       "      <td>...</td>\n",
       "      <td>38.62</td>\n",
       "      <td>1</td>\n",
       "      <td>(2/0)</td>\n",
       "      <td>제1종일반주거지역</td>\n",
       "      <td>소로한면</td>\n",
       "      <td>부정형</td>\n",
       "      <td>연와조</td>\n",
       "      <td>1967</td>\n",
       "      <td>고급 주택지대</td>\n",
       "      <td>941000000</td>\n",
       "    </tr>\n",
       "  </tbody>\n",
       "</table>\n",
       "<p>3 rows × 21 columns</p>\n",
       "</div>"
      ],
      "text/plain": [
       "      시도  시군구  일련번호        소재지         도로명주소 지목  건물용도    대지면적     연면적    건축면적  \\\n",
       "0  서울특별시  종로구     1   청운동 4-18  자하문로36길 34    대  단독주택  1193.4  499.24  268.70   \n",
       "1  서울특별시  종로구     2    청운동 8-3   자하문로35길 5    대  단독주택   924.0  374.15  220.93   \n",
       "2  서울특별시  종로구     3   청운동 12-9  자하문로36길 11    대  단독주택   237.0  159.74   91.54   \n",
       "\n",
       "   ...    건폐율  동수  층수(지상/지하)       용도지역   도로교통  형상지세                  주건물구조  \\\n",
       "0  ...  22.52   1      (2/1)  제1종일반주거지역  세로(가)   정방형                   연와조    \n",
       "1  ...  23.91   1      (2/1)  제1종일반주거지역  세로(가)  사다리형  연와조 철근콘크리트조(RC조  RS조)   \n",
       "2  ...  38.62   1      (2/0)  제1종일반주거지역   소로한면   부정형                   연와조    \n",
       "\n",
       "  사용승인일     주위환경      주택공시가격  \n",
       "0  1994  고급 주택지대  4655000000  \n",
       "1  1965  일반 주택지대  3134000000  \n",
       "2  1967  고급 주택지대   941000000  \n",
       "\n",
       "[3 rows x 21 columns]"
      ]
     },
     "execution_count": 39,
     "metadata": {},
     "output_type": "execute_result"
    }
   ],
   "source": [
    "df.head(3)"
   ]
  },
  {
   "cell_type": "code",
   "execution_count": 40,
   "id": "a44cdbfe",
   "metadata": {
    "ExecuteTime": {
     "end_time": "2021-11-17T17:22:09.282019Z",
     "start_time": "2021-11-17T17:22:07.646769Z"
    }
   },
   "outputs": [
    {
     "name": "stdout",
     "output_type": "stream",
     "text": [
      "<class 'pandas.core.frame.DataFrame'>\n",
      "RangeIndex: 230000 entries, 0 to 229999\n",
      "Data columns (total 22 columns):\n",
      " #   Column     Non-Null Count   Dtype  \n",
      "---  ------     --------------   -----  \n",
      " 0   시도         229824 non-null  object \n",
      " 1   시군구        228852 non-null  object \n",
      " 2   일련번호       230000 non-null  int64  \n",
      " 3   소재지        230000 non-null  object \n",
      " 4   도로명주소      230000 non-null  object \n",
      " 5   지목         230000 non-null  object \n",
      " 6   건물용도       230000 non-null  object \n",
      " 7   대지면적       230000 non-null  float64\n",
      " 8   연면적        230000 non-null  float64\n",
      " 9   건축면적       230000 non-null  float64\n",
      " 10  용적률        230000 non-null  float64\n",
      " 11  건폐율        230000 non-null  float64\n",
      " 12  동수         230000 non-null  int64  \n",
      " 13  층수(지상/지하)  230000 non-null  object \n",
      " 14  용도지역       230000 non-null  object \n",
      " 15  용도지구       54462 non-null   object \n",
      " 16  도로교통       230000 non-null  object \n",
      " 17  형상지세       230000 non-null  object \n",
      " 18  주건물구조      230000 non-null  object \n",
      " 19  사용승인일      230000 non-null  int64  \n",
      " 20  주위환경       230000 non-null  object \n",
      " 21  주택공시가격     230000 non-null  int64  \n",
      "dtypes: float64(5), int64(4), object(13)\n",
      "memory usage: 38.6+ MB\n"
     ]
    }
   ],
   "source": [
    "df=pd.read_csv('국토교통부_표준주택가격_20210101.csv',encoding='cp949')\n",
    "df.head()\n",
    "df.info()"
   ]
  },
  {
   "cell_type": "code",
   "execution_count": 41,
   "id": "e886a383",
   "metadata": {
    "ExecuteTime": {
     "end_time": "2021-11-17T17:22:14.919513Z",
     "start_time": "2021-11-17T17:22:14.900529Z"
    }
   },
   "outputs": [],
   "source": [
    "import missingno\n",
    "plt.rcParams['font.family']='Malgun Gothic'"
   ]
  },
  {
   "cell_type": "code",
   "execution_count": 42,
   "id": "99f90e2d",
   "metadata": {
    "ExecuteTime": {
     "end_time": "2021-11-17T17:22:16.790513Z",
     "start_time": "2021-11-17T17:22:15.182766Z"
    }
   },
   "outputs": [
    {
     "data": {
      "text/plain": [
       "<AxesSubplot:>"
      ]
     },
     "execution_count": 42,
     "metadata": {},
     "output_type": "execute_result"
    },
    {
     "data": {
      "image/png": "[encoded data removed]",
      "text/plain": [
       "<Figure size 1800x720 with 2 Axes>"
      ]
     },
     "metadata": {
      "needs_background": "light"
     },
     "output_type": "display_data"
    }
   ],
   "source": [
    "missingno.matrix(df)"
   ]
  },
  {
   "cell_type": "code",
   "execution_count": 43,
   "id": "498da6e3",
   "metadata": {
    "ExecuteTime": {
     "end_time": "2021-11-17T17:22:18.930120Z",
     "start_time": "2021-11-17T17:22:18.785482Z"
    }
   },
   "outputs": [
    {
     "data": {
      "text/plain": [
       "시도              176\n",
       "시군구            1148\n",
       "일련번호              0\n",
       "소재지               0\n",
       "도로명주소             0\n",
       "지목                0\n",
       "건물용도              0\n",
       "대지면적              0\n",
       "연면적               0\n",
       "건축면적              0\n",
       "용적률               0\n",
       "건폐율               0\n",
       "동수                0\n",
       "층수(지상/지하)         0\n",
       "용도지역              0\n",
       "용도지구         175538\n",
       "도로교통              0\n",
       "형상지세              0\n",
       "주건물구조             0\n",
       "사용승인일             0\n",
       "주위환경              0\n",
       "주택공시가격            0\n",
       "dtype: int64"
      ]
     },
     "execution_count": 43,
     "metadata": {},
     "output_type": "execute_result"
    }
   ],
   "source": [
    "df.isnull().sum()"
   ]
  },
  {
   "cell_type": "code",
   "execution_count": 37,
   "id": "f4c67595",
   "metadata": {
    "ExecuteTime": {
     "end_time": "2021-11-17T17:21:58.575832Z",
     "start_time": "2021-11-17T17:21:58.567783Z"
    }
   },
   "outputs": [
    {
     "data": {
      "text/plain": [
       "Index(['시도', '시군구', '일련번호', '소재지', '도로명주소', '지목', '건물용도', '대지면적', '연면적',\n",
       "       '건축면적', '용적률', '건폐율', '동수', '층수(지상/지하)', '용도지역', '도로교통', '형상지세',\n",
       "       '주건물구조', '사용승인일', '주위환경', '주택공시가격'],\n",
       "      dtype='object')"
      ]
     },
     "execution_count": 37,
     "metadata": {},
     "output_type": "execute_result"
    }
   ],
   "source": [
    "df.columns"
   ]
  },
  {
   "cell_type": "markdown",
   "id": "7808f718",
   "metadata": {},
   "source": [
    "## 범주형 변수 드랍"
   ]
  },
  {
   "cell_type": "code",
   "execution_count": 50,
   "id": "e8a2aa3a",
   "metadata": {
    "ExecuteTime": {
     "end_time": "2021-11-17T17:25:03.484111Z",
     "start_time": "2021-11-17T17:25:03.430860Z"
    }
   },
   "outputs": [
    {
     "data": {
      "text/html": [
       "<div>\n",
       "<style scoped>\n",
       "    .dataframe tbody tr th:only-of-type {\n",
       "        vertical-align: middle;\n",
       "    }\n",
       "\n",
       "    .dataframe tbody tr th {\n",
       "        vertical-align: top;\n",
       "    }\n",
       "\n",
       "    .dataframe thead th {\n",
       "        text-align: right;\n",
       "    }\n",
       "</style>\n",
       "<table border=\"1\" class=\"dataframe\">\n",
       "  <thead>\n",
       "    <tr style=\"text-align: right;\">\n",
       "      <th></th>\n",
       "      <th>시도</th>\n",
       "      <th>시군구</th>\n",
       "      <th>소재지</th>\n",
       "      <th>건물용도</th>\n",
       "      <th>대지면적</th>\n",
       "      <th>연면적</th>\n",
       "      <th>건축면적</th>\n",
       "      <th>용적률</th>\n",
       "      <th>건폐율</th>\n",
       "      <th>동수</th>\n",
       "      <th>층수(지상/지하)</th>\n",
       "      <th>용도지역</th>\n",
       "      <th>도로교통</th>\n",
       "      <th>사용승인일</th>\n",
       "      <th>주위환경</th>\n",
       "      <th>주택공시가격</th>\n",
       "    </tr>\n",
       "  </thead>\n",
       "  <tbody>\n",
       "    <tr>\n",
       "      <th>0</th>\n",
       "      <td>서울특별시</td>\n",
       "      <td>종로구</td>\n",
       "      <td>청운동 4-18</td>\n",
       "      <td>단독주택</td>\n",
       "      <td>1193.4</td>\n",
       "      <td>499.24</td>\n",
       "      <td>268.7</td>\n",
       "      <td>32.45</td>\n",
       "      <td>22.52</td>\n",
       "      <td>1</td>\n",
       "      <td>(2/1)</td>\n",
       "      <td>제1종일반주거지역</td>\n",
       "      <td>세로(가)</td>\n",
       "      <td>1994</td>\n",
       "      <td>고급 주택지대</td>\n",
       "      <td>4655000000</td>\n",
       "    </tr>\n",
       "  </tbody>\n",
       "</table>\n",
       "</div>"
      ],
      "text/plain": [
       "      시도  시군구        소재지  건물용도    대지면적     연면적   건축면적    용적률    건폐율  동수  \\\n",
       "0  서울특별시  종로구   청운동 4-18  단독주택  1193.4  499.24  268.7  32.45  22.52   1   \n",
       "\n",
       "  층수(지상/지하)       용도지역   도로교통  사용승인일     주위환경      주택공시가격  \n",
       "0     (2/1)  제1종일반주거지역  세로(가)   1994  고급 주택지대  4655000000  "
      ]
     },
     "execution_count": 50,
     "metadata": {},
     "output_type": "execute_result"
    }
   ],
   "source": [
    "# df.drop(['용도지구','도로명주소','일련번호','형상지세','주건물구조','지목','층수(지상/지하)'],axis=1,inplace=True)\n",
    "df.head(1)"
   ]
  },
  {
   "cell_type": "code",
   "execution_count": 51,
   "id": "2c673d1d",
   "metadata": {
    "ExecuteTime": {
     "end_time": "2021-11-17T17:25:35.990202Z",
     "start_time": "2021-11-17T17:25:35.895619Z"
    }
   },
   "outputs": [],
   "source": [
    "df.drop(['층수(지상/지하)'],axis=1,inplace=True)"
   ]
  },
  {
   "cell_type": "code",
   "execution_count": 52,
   "id": "2096280e",
   "metadata": {
    "ExecuteTime": {
     "end_time": "2021-11-17T17:25:37.954853Z",
     "start_time": "2021-11-17T17:25:37.901991Z"
    },
    "scrolled": true
   },
   "outputs": [
    {
     "data": {
      "text/html": [
       "<div>\n",
       "<style scoped>\n",
       "    .dataframe tbody tr th:only-of-type {\n",
       "        vertical-align: middle;\n",
       "    }\n",
       "\n",
       "    .dataframe tbody tr th {\n",
       "        vertical-align: top;\n",
       "    }\n",
       "\n",
       "    .dataframe thead th {\n",
       "        text-align: right;\n",
       "    }\n",
       "</style>\n",
       "<table border=\"1\" class=\"dataframe\">\n",
       "  <thead>\n",
       "    <tr style=\"text-align: right;\">\n",
       "      <th></th>\n",
       "      <th>시도</th>\n",
       "      <th>시군구</th>\n",
       "      <th>소재지</th>\n",
       "      <th>건물용도</th>\n",
       "      <th>대지면적</th>\n",
       "      <th>연면적</th>\n",
       "      <th>건축면적</th>\n",
       "      <th>용적률</th>\n",
       "      <th>건폐율</th>\n",
       "      <th>동수</th>\n",
       "      <th>용도지역</th>\n",
       "      <th>도로교통</th>\n",
       "      <th>사용승인일</th>\n",
       "      <th>주위환경</th>\n",
       "      <th>주택공시가격</th>\n",
       "    </tr>\n",
       "  </thead>\n",
       "  <tbody>\n",
       "    <tr>\n",
       "      <th>0</th>\n",
       "      <td>서울특별시</td>\n",
       "      <td>종로구</td>\n",
       "      <td>청운동 4-18</td>\n",
       "      <td>단독주택</td>\n",
       "      <td>1193.4</td>\n",
       "      <td>499.24</td>\n",
       "      <td>268.70</td>\n",
       "      <td>32.45</td>\n",
       "      <td>22.52</td>\n",
       "      <td>1</td>\n",
       "      <td>제1종일반주거지역</td>\n",
       "      <td>세로(가)</td>\n",
       "      <td>1994</td>\n",
       "      <td>고급 주택지대</td>\n",
       "      <td>4655000000</td>\n",
       "    </tr>\n",
       "    <tr>\n",
       "      <th>1</th>\n",
       "      <td>서울특별시</td>\n",
       "      <td>종로구</td>\n",
       "      <td>청운동 8-3</td>\n",
       "      <td>단독주택</td>\n",
       "      <td>924.0</td>\n",
       "      <td>374.15</td>\n",
       "      <td>220.93</td>\n",
       "      <td>33.00</td>\n",
       "      <td>23.91</td>\n",
       "      <td>1</td>\n",
       "      <td>제1종일반주거지역</td>\n",
       "      <td>세로(가)</td>\n",
       "      <td>1965</td>\n",
       "      <td>일반 주택지대</td>\n",
       "      <td>3134000000</td>\n",
       "    </tr>\n",
       "    <tr>\n",
       "      <th>2</th>\n",
       "      <td>서울특별시</td>\n",
       "      <td>종로구</td>\n",
       "      <td>청운동 12-9</td>\n",
       "      <td>단독주택</td>\n",
       "      <td>237.0</td>\n",
       "      <td>159.74</td>\n",
       "      <td>91.54</td>\n",
       "      <td>67.40</td>\n",
       "      <td>38.62</td>\n",
       "      <td>1</td>\n",
       "      <td>제1종일반주거지역</td>\n",
       "      <td>소로한면</td>\n",
       "      <td>1967</td>\n",
       "      <td>고급 주택지대</td>\n",
       "      <td>941000000</td>\n",
       "    </tr>\n",
       "  </tbody>\n",
       "</table>\n",
       "</div>"
      ],
      "text/plain": [
       "      시도  시군구        소재지  건물용도    대지면적     연면적    건축면적    용적률    건폐율  동수  \\\n",
       "0  서울특별시  종로구   청운동 4-18  단독주택  1193.4  499.24  268.70  32.45  22.52   1   \n",
       "1  서울특별시  종로구    청운동 8-3  단독주택   924.0  374.15  220.93  33.00  23.91   1   \n",
       "2  서울특별시  종로구   청운동 12-9  단독주택   237.0  159.74   91.54  67.40  38.62   1   \n",
       "\n",
       "        용도지역   도로교통  사용승인일     주위환경      주택공시가격  \n",
       "0  제1종일반주거지역  세로(가)   1994  고급 주택지대  4655000000  \n",
       "1  제1종일반주거지역  세로(가)   1965  일반 주택지대  3134000000  \n",
       "2  제1종일반주거지역   소로한면   1967  고급 주택지대   941000000  "
      ]
     },
     "execution_count": 52,
     "metadata": {},
     "output_type": "execute_result"
    }
   ],
   "source": [
    "# df.isnull().sum()\n",
    "df.head(3)"
   ]
  },
  {
   "cell_type": "code",
   "execution_count": 53,
   "id": "d821f56b",
   "metadata": {
    "ExecuteTime": {
     "end_time": "2021-11-17T17:25:59.578425Z",
     "start_time": "2021-11-17T17:25:59.539495Z"
    }
   },
   "outputs": [
    {
     "data": {
      "text/plain": [
       "array(['제1종일반주거지역', '자연녹지지역', '제2종일반주거지역', '제3종일반주거지역', '일반상업지역', '준주거지역',\n",
       "       '개발제한구역', '제1종전용주거지역', '근린상업지역', '준공업지역', '일반공업지역', '보전녹지지역',\n",
       "       '중심상업지역', '자연환경보전지역', '생산녹지지역', '제2종전용주거지역', '보전관리지역', '농림지역',\n",
       "       '계획관리지역', '생산관리지역', '유통상업지역', '용도미지정지역', '전용공업지역', '관리지역'],\n",
       "      dtype=object)"
      ]
     },
     "execution_count": 53,
     "metadata": {},
     "output_type": "execute_result"
    }
   ],
   "source": [
    "df['용도지역'].unique()"
   ]
  },
  {
   "cell_type": "code",
   "execution_count": 59,
   "id": "a4076dd5",
   "metadata": {
    "ExecuteTime": {
     "end_time": "2021-11-17T17:32:34.436600Z",
     "start_time": "2021-11-17T17:32:34.207970Z"
    }
   },
   "outputs": [
    {
     "data": {
      "text/html": [
       "<div>\n",
       "<style scoped>\n",
       "    .dataframe tbody tr th:only-of-type {\n",
       "        vertical-align: middle;\n",
       "    }\n",
       "\n",
       "    .dataframe tbody tr th {\n",
       "        vertical-align: top;\n",
       "    }\n",
       "\n",
       "    .dataframe thead th {\n",
       "        text-align: right;\n",
       "    }\n",
       "</style>\n",
       "<table border=\"1\" class=\"dataframe\">\n",
       "  <thead>\n",
       "    <tr style=\"text-align: right;\">\n",
       "      <th></th>\n",
       "      <th>시도</th>\n",
       "      <th>시군구</th>\n",
       "      <th>소재지</th>\n",
       "      <th>건물용도</th>\n",
       "      <th>대지면적</th>\n",
       "      <th>연면적</th>\n",
       "      <th>건축면적</th>\n",
       "      <th>용적률</th>\n",
       "      <th>건폐율</th>\n",
       "      <th>동수</th>\n",
       "      <th>...</th>\n",
       "      <th>용도지역_자연환경보전지역</th>\n",
       "      <th>용도지역_전용공업지역</th>\n",
       "      <th>용도지역_제1종일반주거지역</th>\n",
       "      <th>용도지역_제1종전용주거지역</th>\n",
       "      <th>용도지역_제2종일반주거지역</th>\n",
       "      <th>용도지역_제2종전용주거지역</th>\n",
       "      <th>용도지역_제3종일반주거지역</th>\n",
       "      <th>용도지역_준공업지역</th>\n",
       "      <th>용도지역_준주거지역</th>\n",
       "      <th>용도지역_중심상업지역</th>\n",
       "    </tr>\n",
       "  </thead>\n",
       "  <tbody>\n",
       "    <tr>\n",
       "      <th>0</th>\n",
       "      <td>서울특별시</td>\n",
       "      <td>종로구</td>\n",
       "      <td>청운동 4-18</td>\n",
       "      <td>단독주택</td>\n",
       "      <td>1193.4</td>\n",
       "      <td>499.24</td>\n",
       "      <td>268.70</td>\n",
       "      <td>32.45</td>\n",
       "      <td>22.52</td>\n",
       "      <td>1</td>\n",
       "      <td>...</td>\n",
       "      <td>0</td>\n",
       "      <td>0</td>\n",
       "      <td>1</td>\n",
       "      <td>0</td>\n",
       "      <td>0</td>\n",
       "      <td>0</td>\n",
       "      <td>0</td>\n",
       "      <td>0</td>\n",
       "      <td>0</td>\n",
       "      <td>0</td>\n",
       "    </tr>\n",
       "    <tr>\n",
       "      <th>1</th>\n",
       "      <td>서울특별시</td>\n",
       "      <td>종로구</td>\n",
       "      <td>청운동 8-3</td>\n",
       "      <td>단독주택</td>\n",
       "      <td>924.0</td>\n",
       "      <td>374.15</td>\n",
       "      <td>220.93</td>\n",
       "      <td>33.00</td>\n",
       "      <td>23.91</td>\n",
       "      <td>1</td>\n",
       "      <td>...</td>\n",
       "      <td>0</td>\n",
       "      <td>0</td>\n",
       "      <td>1</td>\n",
       "      <td>0</td>\n",
       "      <td>0</td>\n",
       "      <td>0</td>\n",
       "      <td>0</td>\n",
       "      <td>0</td>\n",
       "      <td>0</td>\n",
       "      <td>0</td>\n",
       "    </tr>\n",
       "    <tr>\n",
       "      <th>2</th>\n",
       "      <td>서울특별시</td>\n",
       "      <td>종로구</td>\n",
       "      <td>청운동 12-9</td>\n",
       "      <td>단독주택</td>\n",
       "      <td>237.0</td>\n",
       "      <td>159.74</td>\n",
       "      <td>91.54</td>\n",
       "      <td>67.40</td>\n",
       "      <td>38.62</td>\n",
       "      <td>1</td>\n",
       "      <td>...</td>\n",
       "      <td>0</td>\n",
       "      <td>0</td>\n",
       "      <td>1</td>\n",
       "      <td>0</td>\n",
       "      <td>0</td>\n",
       "      <td>0</td>\n",
       "      <td>0</td>\n",
       "      <td>0</td>\n",
       "      <td>0</td>\n",
       "      <td>0</td>\n",
       "    </tr>\n",
       "    <tr>\n",
       "      <th>3</th>\n",
       "      <td>서울특별시</td>\n",
       "      <td>종로구</td>\n",
       "      <td>청운동 15-10</td>\n",
       "      <td>단독주택</td>\n",
       "      <td>637.5</td>\n",
       "      <td>508.97</td>\n",
       "      <td>189.33</td>\n",
       "      <td>54.42</td>\n",
       "      <td>29.70</td>\n",
       "      <td>2</td>\n",
       "      <td>...</td>\n",
       "      <td>0</td>\n",
       "      <td>0</td>\n",
       "      <td>1</td>\n",
       "      <td>0</td>\n",
       "      <td>0</td>\n",
       "      <td>0</td>\n",
       "      <td>0</td>\n",
       "      <td>0</td>\n",
       "      <td>0</td>\n",
       "      <td>0</td>\n",
       "    </tr>\n",
       "    <tr>\n",
       "      <th>4</th>\n",
       "      <td>서울특별시</td>\n",
       "      <td>종로구</td>\n",
       "      <td>청운동 15-26</td>\n",
       "      <td>단독주택</td>\n",
       "      <td>62.8</td>\n",
       "      <td>33.06</td>\n",
       "      <td>33.06</td>\n",
       "      <td>52.64</td>\n",
       "      <td>52.64</td>\n",
       "      <td>1</td>\n",
       "      <td>...</td>\n",
       "      <td>0</td>\n",
       "      <td>0</td>\n",
       "      <td>0</td>\n",
       "      <td>0</td>\n",
       "      <td>0</td>\n",
       "      <td>0</td>\n",
       "      <td>0</td>\n",
       "      <td>0</td>\n",
       "      <td>0</td>\n",
       "      <td>0</td>\n",
       "    </tr>\n",
       "    <tr>\n",
       "      <th>...</th>\n",
       "      <td>...</td>\n",
       "      <td>...</td>\n",
       "      <td>...</td>\n",
       "      <td>...</td>\n",
       "      <td>...</td>\n",
       "      <td>...</td>\n",
       "      <td>...</td>\n",
       "      <td>...</td>\n",
       "      <td>...</td>\n",
       "      <td>...</td>\n",
       "      <td>...</td>\n",
       "      <td>...</td>\n",
       "      <td>...</td>\n",
       "      <td>...</td>\n",
       "      <td>...</td>\n",
       "      <td>...</td>\n",
       "      <td>...</td>\n",
       "      <td>...</td>\n",
       "      <td>...</td>\n",
       "      <td>...</td>\n",
       "      <td>...</td>\n",
       "    </tr>\n",
       "    <tr>\n",
       "      <th>229995</th>\n",
       "      <td>제주특별자치도</td>\n",
       "      <td>서귀포시</td>\n",
       "      <td>표선면 토산리 540</td>\n",
       "      <td>단독주택</td>\n",
       "      <td>577.0</td>\n",
       "      <td>137.88</td>\n",
       "      <td>137.88</td>\n",
       "      <td>23.90</td>\n",
       "      <td>23.90</td>\n",
       "      <td>1</td>\n",
       "      <td>...</td>\n",
       "      <td>0</td>\n",
       "      <td>0</td>\n",
       "      <td>0</td>\n",
       "      <td>0</td>\n",
       "      <td>0</td>\n",
       "      <td>0</td>\n",
       "      <td>0</td>\n",
       "      <td>0</td>\n",
       "      <td>0</td>\n",
       "      <td>0</td>\n",
       "    </tr>\n",
       "    <tr>\n",
       "      <th>229996</th>\n",
       "      <td>제주특별자치도</td>\n",
       "      <td>서귀포시</td>\n",
       "      <td>표선면 토산리 936-3</td>\n",
       "      <td>단독주택</td>\n",
       "      <td>410.0</td>\n",
       "      <td>78.45</td>\n",
       "      <td>78.45</td>\n",
       "      <td>19.13</td>\n",
       "      <td>19.13</td>\n",
       "      <td>2</td>\n",
       "      <td>...</td>\n",
       "      <td>0</td>\n",
       "      <td>0</td>\n",
       "      <td>0</td>\n",
       "      <td>0</td>\n",
       "      <td>0</td>\n",
       "      <td>0</td>\n",
       "      <td>0</td>\n",
       "      <td>0</td>\n",
       "      <td>0</td>\n",
       "      <td>0</td>\n",
       "    </tr>\n",
       "    <tr>\n",
       "      <th>229997</th>\n",
       "      <td>제주특별자치도</td>\n",
       "      <td>서귀포시</td>\n",
       "      <td>표선면 토산리 1363-4</td>\n",
       "      <td>단독주택</td>\n",
       "      <td>413.0</td>\n",
       "      <td>88.00</td>\n",
       "      <td>88.00</td>\n",
       "      <td>21.31</td>\n",
       "      <td>21.31</td>\n",
       "      <td>2</td>\n",
       "      <td>...</td>\n",
       "      <td>0</td>\n",
       "      <td>0</td>\n",
       "      <td>0</td>\n",
       "      <td>0</td>\n",
       "      <td>0</td>\n",
       "      <td>0</td>\n",
       "      <td>0</td>\n",
       "      <td>0</td>\n",
       "      <td>0</td>\n",
       "      <td>0</td>\n",
       "    </tr>\n",
       "    <tr>\n",
       "      <th>229998</th>\n",
       "      <td>제주특별자치도</td>\n",
       "      <td>서귀포시</td>\n",
       "      <td>표선면 토산리 1416-3</td>\n",
       "      <td>단독주택</td>\n",
       "      <td>217.0</td>\n",
       "      <td>78.76</td>\n",
       "      <td>78.76</td>\n",
       "      <td>36.29</td>\n",
       "      <td>36.29</td>\n",
       "      <td>1</td>\n",
       "      <td>...</td>\n",
       "      <td>0</td>\n",
       "      <td>0</td>\n",
       "      <td>0</td>\n",
       "      <td>0</td>\n",
       "      <td>0</td>\n",
       "      <td>0</td>\n",
       "      <td>0</td>\n",
       "      <td>0</td>\n",
       "      <td>0</td>\n",
       "      <td>0</td>\n",
       "    </tr>\n",
       "    <tr>\n",
       "      <th>229999</th>\n",
       "      <td>제주특별자치도</td>\n",
       "      <td>서귀포시</td>\n",
       "      <td>표선면 토산리 1826-1</td>\n",
       "      <td>단독주택</td>\n",
       "      <td>602.0</td>\n",
       "      <td>98.30</td>\n",
       "      <td>98.30</td>\n",
       "      <td>16.33</td>\n",
       "      <td>16.33</td>\n",
       "      <td>1</td>\n",
       "      <td>...</td>\n",
       "      <td>0</td>\n",
       "      <td>0</td>\n",
       "      <td>0</td>\n",
       "      <td>0</td>\n",
       "      <td>0</td>\n",
       "      <td>0</td>\n",
       "      <td>0</td>\n",
       "      <td>0</td>\n",
       "      <td>0</td>\n",
       "      <td>0</td>\n",
       "    </tr>\n",
       "  </tbody>\n",
       "</table>\n",
       "<p>230000 rows × 38 columns</p>\n",
       "</div>"
      ],
      "text/plain": [
       "             시도   시군구             소재지  건물용도    대지면적     연면적    건축면적    용적률  \\\n",
       "0         서울특별시   종로구        청운동 4-18  단독주택  1193.4  499.24  268.70  32.45   \n",
       "1         서울특별시   종로구         청운동 8-3  단독주택   924.0  374.15  220.93  33.00   \n",
       "2         서울특별시   종로구        청운동 12-9  단독주택   237.0  159.74   91.54  67.40   \n",
       "3         서울특별시   종로구       청운동 15-10  단독주택   637.5  508.97  189.33  54.42   \n",
       "4         서울특별시   종로구       청운동 15-26  단독주택    62.8   33.06   33.06  52.64   \n",
       "...         ...   ...             ...   ...     ...     ...     ...    ...   \n",
       "229995  제주특별자치도  서귀포시     표선면 토산리 540  단독주택   577.0  137.88  137.88  23.90   \n",
       "229996  제주특별자치도  서귀포시   표선면 토산리 936-3  단독주택   410.0   78.45   78.45  19.13   \n",
       "229997  제주특별자치도  서귀포시  표선면 토산리 1363-4  단독주택   413.0   88.00   88.00  21.31   \n",
       "229998  제주특별자치도  서귀포시  표선면 토산리 1416-3  단독주택   217.0   78.76   78.76  36.29   \n",
       "229999  제주특별자치도  서귀포시  표선면 토산리 1826-1  단독주택   602.0   98.30   98.30  16.33   \n",
       "\n",
       "          건폐율  동수  ... 용도지역_자연환경보전지역  용도지역_전용공업지역 용도지역_제1종일반주거지역  \\\n",
       "0       22.52   1  ...             0            0              1   \n",
       "1       23.91   1  ...             0            0              1   \n",
       "2       38.62   1  ...             0            0              1   \n",
       "3       29.70   2  ...             0            0              1   \n",
       "4       52.64   1  ...             0            0              0   \n",
       "...       ...  ..  ...           ...          ...            ...   \n",
       "229995  23.90   1  ...             0            0              0   \n",
       "229996  19.13   2  ...             0            0              0   \n",
       "229997  21.31   2  ...             0            0              0   \n",
       "229998  36.29   1  ...             0            0              0   \n",
       "229999  16.33   1  ...             0            0              0   \n",
       "\n",
       "        용도지역_제1종전용주거지역  용도지역_제2종일반주거지역  용도지역_제2종전용주거지역  용도지역_제3종일반주거지역  \\\n",
       "0                    0               0               0               0   \n",
       "1                    0               0               0               0   \n",
       "2                    0               0               0               0   \n",
       "3                    0               0               0               0   \n",
       "4                    0               0               0               0   \n",
       "...                ...             ...             ...             ...   \n",
       "229995               0               0               0               0   \n",
       "229996               0               0               0               0   \n",
       "229997               0               0               0               0   \n",
       "229998               0               0               0               0   \n",
       "229999               0               0               0               0   \n",
       "\n",
       "        용도지역_준공업지역  용도지역_준주거지역  용도지역_중심상업지역  \n",
       "0                0           0            0  \n",
       "1                0           0            0  \n",
       "2                0           0            0  \n",
       "3                0           0            0  \n",
       "4                0           0            0  \n",
       "...            ...         ...          ...  \n",
       "229995           0           0            0  \n",
       "229996           0           0            0  \n",
       "229997           0           0            0  \n",
       "229998           0           0            0  \n",
       "229999           0           0            0  \n",
       "\n",
       "[230000 rows x 38 columns]"
      ]
     },
     "execution_count": 59,
     "metadata": {},
     "output_type": "execute_result"
    }
   ],
   "source": [
    "# pd.get_dummies(df['용도지역'])\n",
    "\n",
    "pd.get_dummies(data = df, columns = ['용도지역'], prefix = '용도지역')"
   ]
  },
  {
   "cell_type": "markdown",
   "id": "15c288ce",
   "metadata": {},
   "source": [
    "## 쉬었다가 낼 진행"
   ]
  },
  {
   "cell_type": "code",
   "execution_count": null,
   "id": "9221188e",
   "metadata": {},
   "outputs": [],
   "source": []
  },
  {
   "cell_type": "code",
   "execution_count": 16,
   "id": "92c934ce",
   "metadata": {
    "ExecuteTime": {
     "end_time": "2021-11-17T17:07:27.888786Z",
     "start_time": "2021-11-17T17:07:27.745161Z"
    }
   },
   "outputs": [],
   "source": [
    "X=df.drop(['주택공시가격'],axis=1)\n",
    "y=df['주택공시가격']\n",
    "\n",
    "train_x,test_x,train_y,test_y=train_test_split(X,y,shuffle=True,test_size=0.3)"
   ]
  },
  {
   "cell_type": "code",
   "execution_count": 20,
   "id": "b6b44fc6",
   "metadata": {
    "ExecuteTime": {
     "end_time": "2021-11-17T17:10:13.349883Z",
     "start_time": "2021-11-17T17:10:13.330933Z"
    }
   },
   "outputs": [
    {
     "name": "stdout",
     "output_type": "stream",
     "text": [
      "train_x shape: (161000, 21)\n",
      "train_y shape: (161000,)\n",
      "test_x shape: (69000, 21)\n",
      "test_y shape: (69000,)\n"
     ]
    }
   ],
   "source": [
    "print('train_x shape:',train_x.shape)\n",
    "print('train_y shape:',train_y.shape)\n",
    "print('test_x shape:',test_x.shape)\n",
    "print('test_y shape:',test_y.shape)"
   ]
  },
  {
   "cell_type": "code",
   "execution_count": 22,
   "id": "888172ef",
   "metadata": {
    "ExecuteTime": {
     "end_time": "2021-11-17T17:12:47.394277Z",
     "start_time": "2021-11-17T17:12:47.384289Z"
    }
   },
   "outputs": [],
   "source": [
    "import xgboost as xgb\n",
    "from xgboost.sklearn import XGBClassifier\n",
    "from xgboost.sklearn import XGBRegressor"
   ]
  },
  {
   "cell_type": "code",
   "execution_count": 23,
   "id": "9486e2bb",
   "metadata": {
    "ExecuteTime": {
     "end_time": "2021-11-17T17:15:15.798881Z",
     "start_time": "2021-11-17T17:15:15.717067Z"
    }
   },
   "outputs": [
    {
     "ename": "ValueError",
     "evalue": "DataFrame.dtypes for data must be int, float, bool or categorical.  When\n                categorical type is supplied, DMatrix parameter\n                `enable_categorical` must be set to `True`.시도, 시군구, 소재지, 도로명주소, 지목, 건물용도, 층수(지상/지하), 용도지역, 용도지구, 도로교통, 형상지세, 주건물구조, 주위환경",
     "output_type": "error",
     "traceback": [
      "\u001b[1;31m---------------------------------------------------------------------------\u001b[0m",
      "\u001b[1;31mValueError\u001b[0m                                Traceback (most recent call last)",
      "\u001b[1;32m~\\AppData\\Local\\Temp/ipykernel_21224/1526712314.py\u001b[0m in \u001b[0;36m<module>\u001b[1;34m\u001b[0m\n\u001b[0;32m      1\u001b[0m \u001b[0mxgb\u001b[0m\u001b[1;33m=\u001b[0m\u001b[0mXGBRegressor\u001b[0m\u001b[1;33m(\u001b[0m\u001b[1;33m)\u001b[0m\u001b[1;33m\u001b[0m\u001b[1;33m\u001b[0m\u001b[0m\n\u001b[1;32m----> 2\u001b[1;33m \u001b[0mxgb\u001b[0m\u001b[1;33m.\u001b[0m\u001b[0mfit\u001b[0m\u001b[1;33m(\u001b[0m\u001b[0mtrain_x\u001b[0m\u001b[1;33m,\u001b[0m\u001b[0mtrain_y\u001b[0m\u001b[1;33m)\u001b[0m\u001b[1;33m\u001b[0m\u001b[1;33m\u001b[0m\u001b[0m\n\u001b[0m\u001b[0;32m      3\u001b[0m \u001b[0mxgb\u001b[0m\u001b[1;33m.\u001b[0m\u001b[0mpredict\u001b[0m\u001b[1;33m(\u001b[0m\u001b[0mtest_x\u001b[0m\u001b[1;33m)\u001b[0m\u001b[1;33m\u001b[0m\u001b[1;33m\u001b[0m\u001b[0m\n",
      "\u001b[1;32m~\\anaconda3\\lib\\site-packages\\xgboost\\core.py\u001b[0m in \u001b[0;36minner_f\u001b[1;34m(*args, **kwargs)\u001b[0m\n\u001b[0;32m    434\u001b[0m         \u001b[1;32mfor\u001b[0m \u001b[0mk\u001b[0m\u001b[1;33m,\u001b[0m \u001b[0marg\u001b[0m \u001b[1;32min\u001b[0m \u001b[0mzip\u001b[0m\u001b[1;33m(\u001b[0m\u001b[0msig\u001b[0m\u001b[1;33m.\u001b[0m\u001b[0mparameters\u001b[0m\u001b[1;33m,\u001b[0m \u001b[0margs\u001b[0m\u001b[1;33m)\u001b[0m\u001b[1;33m:\u001b[0m\u001b[1;33m\u001b[0m\u001b[1;33m\u001b[0m\u001b[0m\n\u001b[0;32m    435\u001b[0m             \u001b[0mkwargs\u001b[0m\u001b[1;33m[\u001b[0m\u001b[0mk\u001b[0m\u001b[1;33m]\u001b[0m \u001b[1;33m=\u001b[0m \u001b[0marg\u001b[0m\u001b[1;33m\u001b[0m\u001b[1;33m\u001b[0m\u001b[0m\n\u001b[1;32m--> 436\u001b[1;33m         \u001b[1;32mreturn\u001b[0m \u001b[0mf\u001b[0m\u001b[1;33m(\u001b[0m\u001b[1;33m**\u001b[0m\u001b[0mkwargs\u001b[0m\u001b[1;33m)\u001b[0m\u001b[1;33m\u001b[0m\u001b[1;33m\u001b[0m\u001b[0m\n\u001b[0m\u001b[0;32m    437\u001b[0m \u001b[1;33m\u001b[0m\u001b[0m\n\u001b[0;32m    438\u001b[0m     \u001b[1;32mreturn\u001b[0m \u001b[0minner_f\u001b[0m\u001b[1;33m\u001b[0m\u001b[1;33m\u001b[0m\u001b[0m\n",
      "\u001b[1;32m~\\anaconda3\\lib\\site-packages\\xgboost\\sklearn.py\u001b[0m in \u001b[0;36mfit\u001b[1;34m(self, X, y, sample_weight, base_margin, eval_set, eval_metric, early_stopping_rounds, verbose, xgb_model, sample_weight_eval_set, base_margin_eval_set, feature_weights, callbacks)\u001b[0m\n\u001b[0;32m    709\u001b[0m         \u001b[0mevals_result\u001b[0m \u001b[1;33m=\u001b[0m \u001b[1;33m{\u001b[0m\u001b[1;33m}\u001b[0m\u001b[1;33m\u001b[0m\u001b[1;33m\u001b[0m\u001b[0m\n\u001b[0;32m    710\u001b[0m \u001b[1;33m\u001b[0m\u001b[0m\n\u001b[1;32m--> 711\u001b[1;33m         train_dmatrix, evals = _wrap_evaluation_matrices(\n\u001b[0m\u001b[0;32m    712\u001b[0m             \u001b[0mmissing\u001b[0m\u001b[1;33m=\u001b[0m\u001b[0mself\u001b[0m\u001b[1;33m.\u001b[0m\u001b[0mmissing\u001b[0m\u001b[1;33m,\u001b[0m\u001b[1;33m\u001b[0m\u001b[1;33m\u001b[0m\u001b[0m\n\u001b[0;32m    713\u001b[0m             \u001b[0mX\u001b[0m\u001b[1;33m=\u001b[0m\u001b[0mX\u001b[0m\u001b[1;33m,\u001b[0m\u001b[1;33m\u001b[0m\u001b[1;33m\u001b[0m\u001b[0m\n",
      "\u001b[1;32m~\\anaconda3\\lib\\site-packages\\xgboost\\sklearn.py\u001b[0m in \u001b[0;36m_wrap_evaluation_matrices\u001b[1;34m(missing, X, y, group, qid, sample_weight, base_margin, feature_weights, eval_set, sample_weight_eval_set, base_margin_eval_set, eval_group, eval_qid, create_dmatrix, label_transform)\u001b[0m\n\u001b[0;32m    234\u001b[0m \u001b[1;33m\u001b[0m\u001b[0m\n\u001b[0;32m    235\u001b[0m     \"\"\"\n\u001b[1;32m--> 236\u001b[1;33m     train_dmatrix = create_dmatrix(\n\u001b[0m\u001b[0;32m    237\u001b[0m         \u001b[0mdata\u001b[0m\u001b[1;33m=\u001b[0m\u001b[0mX\u001b[0m\u001b[1;33m,\u001b[0m\u001b[1;33m\u001b[0m\u001b[1;33m\u001b[0m\u001b[0m\n\u001b[0;32m    238\u001b[0m         \u001b[0mlabel\u001b[0m\u001b[1;33m=\u001b[0m\u001b[0mlabel_transform\u001b[0m\u001b[1;33m(\u001b[0m\u001b[0my\u001b[0m\u001b[1;33m)\u001b[0m\u001b[1;33m,\u001b[0m\u001b[1;33m\u001b[0m\u001b[1;33m\u001b[0m\u001b[0m\n",
      "\u001b[1;32m~\\anaconda3\\lib\\site-packages\\xgboost\\sklearn.py\u001b[0m in \u001b[0;36m<lambda>\u001b[1;34m(**kwargs)\u001b[0m\n\u001b[0;32m    723\u001b[0m             \u001b[0meval_group\u001b[0m\u001b[1;33m=\u001b[0m\u001b[1;32mNone\u001b[0m\u001b[1;33m,\u001b[0m\u001b[1;33m\u001b[0m\u001b[1;33m\u001b[0m\u001b[0m\n\u001b[0;32m    724\u001b[0m             \u001b[0meval_qid\u001b[0m\u001b[1;33m=\u001b[0m\u001b[1;32mNone\u001b[0m\u001b[1;33m,\u001b[0m\u001b[1;33m\u001b[0m\u001b[1;33m\u001b[0m\u001b[0m\n\u001b[1;32m--> 725\u001b[1;33m             \u001b[0mcreate_dmatrix\u001b[0m\u001b[1;33m=\u001b[0m\u001b[1;32mlambda\u001b[0m \u001b[1;33m**\u001b[0m\u001b[0mkwargs\u001b[0m\u001b[1;33m:\u001b[0m \u001b[0mDMatrix\u001b[0m\u001b[1;33m(\u001b[0m\u001b[0mnthread\u001b[0m\u001b[1;33m=\u001b[0m\u001b[0mself\u001b[0m\u001b[1;33m.\u001b[0m\u001b[0mn_jobs\u001b[0m\u001b[1;33m,\u001b[0m \u001b[1;33m**\u001b[0m\u001b[0mkwargs\u001b[0m\u001b[1;33m)\u001b[0m\u001b[1;33m,\u001b[0m\u001b[1;33m\u001b[0m\u001b[1;33m\u001b[0m\u001b[0m\n\u001b[0m\u001b[0;32m    726\u001b[0m         )\n\u001b[0;32m    727\u001b[0m         \u001b[0mparams\u001b[0m \u001b[1;33m=\u001b[0m \u001b[0mself\u001b[0m\u001b[1;33m.\u001b[0m\u001b[0mget_xgb_params\u001b[0m\u001b[1;33m(\u001b[0m\u001b[1;33m)\u001b[0m\u001b[1;33m\u001b[0m\u001b[1;33m\u001b[0m\u001b[0m\n",
      "\u001b[1;32m~\\anaconda3\\lib\\site-packages\\xgboost\\core.py\u001b[0m in \u001b[0;36minner_f\u001b[1;34m(*args, **kwargs)\u001b[0m\n\u001b[0;32m    434\u001b[0m         \u001b[1;32mfor\u001b[0m \u001b[0mk\u001b[0m\u001b[1;33m,\u001b[0m \u001b[0marg\u001b[0m \u001b[1;32min\u001b[0m \u001b[0mzip\u001b[0m\u001b[1;33m(\u001b[0m\u001b[0msig\u001b[0m\u001b[1;33m.\u001b[0m\u001b[0mparameters\u001b[0m\u001b[1;33m,\u001b[0m \u001b[0margs\u001b[0m\u001b[1;33m)\u001b[0m\u001b[1;33m:\u001b[0m\u001b[1;33m\u001b[0m\u001b[1;33m\u001b[0m\u001b[0m\n\u001b[0;32m    435\u001b[0m             \u001b[0mkwargs\u001b[0m\u001b[1;33m[\u001b[0m\u001b[0mk\u001b[0m\u001b[1;33m]\u001b[0m \u001b[1;33m=\u001b[0m \u001b[0marg\u001b[0m\u001b[1;33m\u001b[0m\u001b[1;33m\u001b[0m\u001b[0m\n\u001b[1;32m--> 436\u001b[1;33m         \u001b[1;32mreturn\u001b[0m \u001b[0mf\u001b[0m\u001b[1;33m(\u001b[0m\u001b[1;33m**\u001b[0m\u001b[0mkwargs\u001b[0m\u001b[1;33m)\u001b[0m\u001b[1;33m\u001b[0m\u001b[1;33m\u001b[0m\u001b[0m\n\u001b[0m\u001b[0;32m    437\u001b[0m \u001b[1;33m\u001b[0m\u001b[0m\n\u001b[0;32m    438\u001b[0m     \u001b[1;32mreturn\u001b[0m \u001b[0minner_f\u001b[0m\u001b[1;33m\u001b[0m\u001b[1;33m\u001b[0m\u001b[0m\n",
      "\u001b[1;32m~\\anaconda3\\lib\\site-packages\\xgboost\\core.py\u001b[0m in \u001b[0;36m__init__\u001b[1;34m(self, data, label, weight, base_margin, missing, silent, feature_names, feature_types, nthread, group, qid, label_lower_bound, label_upper_bound, feature_weights, enable_categorical)\u001b[0m\n\u001b[0;32m    539\u001b[0m         \u001b[1;32mfrom\u001b[0m \u001b[1;33m.\u001b[0m\u001b[0mdata\u001b[0m \u001b[1;32mimport\u001b[0m \u001b[0mdispatch_data_backend\u001b[0m\u001b[1;33m\u001b[0m\u001b[1;33m\u001b[0m\u001b[0m\n\u001b[0;32m    540\u001b[0m \u001b[1;33m\u001b[0m\u001b[0m\n\u001b[1;32m--> 541\u001b[1;33m         handle, feature_names, feature_types = dispatch_data_backend(\n\u001b[0m\u001b[0;32m    542\u001b[0m             \u001b[0mdata\u001b[0m\u001b[1;33m,\u001b[0m\u001b[1;33m\u001b[0m\u001b[1;33m\u001b[0m\u001b[0m\n\u001b[0;32m    543\u001b[0m             \u001b[0mmissing\u001b[0m\u001b[1;33m=\u001b[0m\u001b[0mself\u001b[0m\u001b[1;33m.\u001b[0m\u001b[0mmissing\u001b[0m\u001b[1;33m,\u001b[0m\u001b[1;33m\u001b[0m\u001b[1;33m\u001b[0m\u001b[0m\n",
      "\u001b[1;32m~\\anaconda3\\lib\\site-packages\\xgboost\\data.py\u001b[0m in \u001b[0;36mdispatch_data_backend\u001b[1;34m(data, missing, threads, feature_names, feature_types, enable_categorical)\u001b[0m\n\u001b[0;32m    571\u001b[0m         \u001b[1;32mreturn\u001b[0m \u001b[0m_from_tuple\u001b[0m\u001b[1;33m(\u001b[0m\u001b[0mdata\u001b[0m\u001b[1;33m,\u001b[0m \u001b[0mmissing\u001b[0m\u001b[1;33m,\u001b[0m \u001b[0mfeature_names\u001b[0m\u001b[1;33m,\u001b[0m \u001b[0mfeature_types\u001b[0m\u001b[1;33m)\u001b[0m\u001b[1;33m\u001b[0m\u001b[1;33m\u001b[0m\u001b[0m\n\u001b[0;32m    572\u001b[0m     \u001b[1;32mif\u001b[0m \u001b[0m_is_pandas_df\u001b[0m\u001b[1;33m(\u001b[0m\u001b[0mdata\u001b[0m\u001b[1;33m)\u001b[0m\u001b[1;33m:\u001b[0m\u001b[1;33m\u001b[0m\u001b[1;33m\u001b[0m\u001b[0m\n\u001b[1;32m--> 573\u001b[1;33m         return _from_pandas_df(data, enable_categorical, missing, threads,\n\u001b[0m\u001b[0;32m    574\u001b[0m                                feature_names, feature_types)\n\u001b[0;32m    575\u001b[0m     \u001b[1;32mif\u001b[0m \u001b[0m_is_pandas_series\u001b[0m\u001b[1;33m(\u001b[0m\u001b[0mdata\u001b[0m\u001b[1;33m)\u001b[0m\u001b[1;33m:\u001b[0m\u001b[1;33m\u001b[0m\u001b[1;33m\u001b[0m\u001b[0m\n",
      "\u001b[1;32m~\\anaconda3\\lib\\site-packages\\xgboost\\data.py\u001b[0m in \u001b[0;36m_from_pandas_df\u001b[1;34m(data, enable_categorical, missing, nthread, feature_names, feature_types)\u001b[0m\n\u001b[0;32m    256\u001b[0m def _from_pandas_df(data, enable_categorical, missing, nthread,\n\u001b[0;32m    257\u001b[0m                     feature_names, feature_types):\n\u001b[1;32m--> 258\u001b[1;33m     data, feature_names, feature_types = _transform_pandas_df(\n\u001b[0m\u001b[0;32m    259\u001b[0m         data, enable_categorical, feature_names, feature_types)\n\u001b[0;32m    260\u001b[0m     return _from_numpy_array(data, missing, nthread, feature_names,\n",
      "\u001b[1;32m~\\anaconda3\\lib\\site-packages\\xgboost\\data.py\u001b[0m in \u001b[0;36m_transform_pandas_df\u001b[1;34m(data, enable_categorical, feature_names, feature_types, meta, meta_type)\u001b[0m\n\u001b[0;32m    221\u001b[0m                 \u001b[0mcategorical\u001b[0m \u001b[0mtype\u001b[0m \u001b[1;32mis\u001b[0m \u001b[0msupplied\u001b[0m\u001b[1;33m,\u001b[0m \u001b[0mDMatrix\u001b[0m \u001b[0mparameter\u001b[0m\u001b[1;33m\u001b[0m\u001b[1;33m\u001b[0m\u001b[0m\n\u001b[0;32m    222\u001b[0m                 `enable_categorical` must be set to `True`.\"\"\"\n\u001b[1;32m--> 223\u001b[1;33m         \u001b[1;32mraise\u001b[0m \u001b[0mValueError\u001b[0m\u001b[1;33m(\u001b[0m\u001b[0mmsg\u001b[0m \u001b[1;33m+\u001b[0m \u001b[1;34m', '\u001b[0m\u001b[1;33m.\u001b[0m\u001b[0mjoin\u001b[0m\u001b[1;33m(\u001b[0m\u001b[0mbad_fields\u001b[0m\u001b[1;33m)\u001b[0m\u001b[1;33m)\u001b[0m\u001b[1;33m\u001b[0m\u001b[1;33m\u001b[0m\u001b[0m\n\u001b[0m\u001b[0;32m    224\u001b[0m \u001b[1;33m\u001b[0m\u001b[0m\n\u001b[0;32m    225\u001b[0m     \u001b[1;32mif\u001b[0m \u001b[0mfeature_names\u001b[0m \u001b[1;32mis\u001b[0m \u001b[1;32mNone\u001b[0m \u001b[1;32mand\u001b[0m \u001b[0mmeta\u001b[0m \u001b[1;32mis\u001b[0m \u001b[1;32mNone\u001b[0m\u001b[1;33m:\u001b[0m\u001b[1;33m\u001b[0m\u001b[1;33m\u001b[0m\u001b[0m\n",
      "\u001b[1;31mValueError\u001b[0m: DataFrame.dtypes for data must be int, float, bool or categorical.  When\n                categorical type is supplied, DMatrix parameter\n                `enable_categorical` must be set to `True`.시도, 시군구, 소재지, 도로명주소, 지목, 건물용도, 층수(지상/지하), 용도지역, 용도지구, 도로교통, 형상지세, 주건물구조, 주위환경"
     ]
    }
   ],
   "source": [
    "xgb=XGBRegressor()\n",
    "xgb.fit(train_x,train_y)\n",
    "xgb.predict(test_x)"
   ]
  },
  {
   "cell_type": "code",
   "execution_count": null,
   "id": "c315079c",
   "metadata": {},
   "outputs": [],
   "source": []
  }
 ],
 "metadata": {
  "hide_input": false,
  "kernelspec": {
   "display_name": "Python 3 (ipykernel)",
   "language": "python",
   "name": "python3"
  },
  "language_info": {
   "codemirror_mode": {
    "name": "ipython",
    "version": 3
   },
   "file_extension": ".py",
   "mimetype": "text/x-python",
   "name": "python",
   "nbconvert_exporter": "python",
   "pygments_lexer": "ipython3",
   "version": "3.8.11"
  },
  "toc": {
   "base_numbering": 1,
   "nav_menu": {},
   "number_sections": true,
   "sideBar": true,
   "skip_h1_title": false,
   "title_cell": "Table of Contents",
   "title_sidebar": "Contents",
   "toc_cell": false,
   "toc_position": {},
   "toc_section_display": true,
   "toc_window_display": false
  }
 },
 "nbformat": 4,
 "nbformat_minor": 5
}
