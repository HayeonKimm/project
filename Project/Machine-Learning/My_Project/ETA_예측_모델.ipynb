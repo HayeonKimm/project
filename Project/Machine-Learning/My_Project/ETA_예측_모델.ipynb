{
  "nbformat": 4,
  "nbformat_minor": 0,
  "metadata": {
    "celltoolbar": "Raw Cell Format",
    "kernelspec": {
      "display_name": "Python 3",
      "language": "python",
      "name": "python3"
    },
    "language_info": {
      "codemirror_mode": {
        "name": "ipython",
        "version": 3
      },
      "file_extension": ".py",
      "mimetype": "text/x-python",
      "name": "python",
      "nbconvert_exporter": "python",
      "pygments_lexer": "ipython3",
      "version": "3.6.8"
    },
    "colab": {
      "name": "ETA_예측_모델.ipynb",
      "provenance": [],
      "collapsed_sections": [],
      "toc_visible": true,
      "include_colab_link": true
    },
    "accelerator": "GPU"
  },
  "cells": [
    {
      "cell_type": "markdown",
      "metadata": {
        "id": "view-in-github",
        "colab_type": "text"
      },
      "source": [
        "<a href=\"https://colab.research.google.com/github/HayeonKimm/project/blob/master/Project/Machine-Learning/My_Project/ETA_%EC%98%88%EC%B8%A1_%EB%AA%A8%EB%8D%B8.ipynb\" target=\"_parent\"><img src=\"https://colab.research.google.com/assets/colab-badge.svg\" alt=\"Open In Colab\"/></a>"
      ]
    },
    {
      "cell_type": "markdown",
      "metadata": {
        "id": "Fo0i64ct8Hma"
      },
      "source": [
        "# Make the best model for TADA ETA"
      ]
    },
    {
      "cell_type": "code",
      "metadata": {
        "id": "ZYMRyUBeLD02",
        "colab": {
          "base_uri": "https://localhost:8080/"
        },
        "outputId": "d55307e5-9969-413f-875a-b8290abff7c7"
      },
      "source": [
        "from google.colab import drive\n",
        "drive.mount('/content/drive')"
      ],
      "execution_count": 42,
      "outputs": [
        {
          "output_type": "stream",
          "name": "stdout",
          "text": [
            "Drive already mounted at /content/drive; to attempt to forcibly remount, call drive.mount(\"/content/drive\", force_remount=True).\n"
          ]
        }
      ]
    },
    {
      "cell_type": "code",
      "metadata": {
        "id": "KoZswxPe2qFw"
      },
      "source": [
        "import pandas as pd\n",
        "import numpy as np\n",
        "import matplotlib.pyplot as plt\n",
        "%matplotlib inline"
      ],
      "execution_count": null,
      "outputs": []
    },
    {
      "cell_type": "code",
      "metadata": {
        "colab": {
          "base_uri": "https://localhost:8080/"
        },
        "id": "cGly7e8mTu-K",
        "outputId": "4d130f89-73e0-45eb-b21c-12968d993da1"
      },
      "source": [
        "# scikit-learn 최신 버전으로 업그레이드\n",
        "!pip install -U scikit-learn\n",
        "import sklearn\n",
        "print(\"scikit-learn version: \", sklearn.__version__)"
      ],
      "execution_count": null,
      "outputs": [
        {
          "output_type": "stream",
          "name": "stdout",
          "text": [
            "Requirement already satisfied: scikit-learn in /usr/local/lib/python3.7/dist-packages (1.0.1)\n",
            "Requirement already satisfied: threadpoolctl>=2.0.0 in /usr/local/lib/python3.7/dist-packages (from scikit-learn) (3.0.0)\n",
            "Requirement already satisfied: joblib>=0.11 in /usr/local/lib/python3.7/dist-packages (from scikit-learn) (1.1.0)\n",
            "Requirement already satisfied: scipy>=1.1.0 in /usr/local/lib/python3.7/dist-packages (from scikit-learn) (1.4.1)\n",
            "Requirement already satisfied: numpy>=1.14.6 in /usr/local/lib/python3.7/dist-packages (from scikit-learn) (1.19.5)\n",
            "scikit-learn version:  1.0.1\n"
          ]
        }
      ]
    },
    {
      "cell_type": "markdown",
      "metadata": {
        "id": "y5Zlc0A0wimF"
      },
      "source": [
        "### Regression Tree with Tada ETA data"
      ]
    },
    {
      "cell_type": "markdown",
      "metadata": {
        "id": "X2N0yhHUyVAV"
      },
      "source": [
        "\n",
        "\n",
        "*   ATA: Actual Time of Arrival\n",
        "*   ETA: Expected Time of Arrival\n",
        "*   api_eta: 앱 API에서 예측된 ETA\n",
        "\n"
      ]
    },
    {
      "cell_type": "code",
      "metadata": {
        "id": "THzp4Jbj2_WJ",
        "colab": {
          "base_uri": "https://localhost:8080/",
          "height": 279
        },
        "outputId": "87c9c582-e50d-4221-a4cb-a77f9db77f85"
      },
      "source": [
        "tada_eta = pd.read_excel('/content/drive/MyDrive/Colab Notebooks/data/tada_eta.xlsx')\n",
        "print(tada_eta.columns)\n",
        "tada_eta.head()"
      ],
      "execution_count": null,
      "outputs": [
        {
          "output_type": "stream",
          "name": "stdout",
          "text": [
            "Index(['ATA', 'id', 'api_eta', 'created_at_kst', 'month', 'pickup_lng',\n",
            "       'pickup_lat', 'pickup_gu', 'driver_id', 'driver_lng', 'driver_lat',\n",
            "       'hour'],\n",
            "      dtype='object')\n"
          ]
        },
        {
          "output_type": "execute_result",
          "data": {
            "text/html": [
              "<div>\n",
              "<style scoped>\n",
              "    .dataframe tbody tr th:only-of-type {\n",
              "        vertical-align: middle;\n",
              "    }\n",
              "\n",
              "    .dataframe tbody tr th {\n",
              "        vertical-align: top;\n",
              "    }\n",
              "\n",
              "    .dataframe thead th {\n",
              "        text-align: right;\n",
              "    }\n",
              "</style>\n",
              "<table border=\"1\" class=\"dataframe\">\n",
              "  <thead>\n",
              "    <tr style=\"text-align: right;\">\n",
              "      <th></th>\n",
              "      <th>ATA</th>\n",
              "      <th>id</th>\n",
              "      <th>api_eta</th>\n",
              "      <th>created_at_kst</th>\n",
              "      <th>month</th>\n",
              "      <th>pickup_lng</th>\n",
              "      <th>pickup_lat</th>\n",
              "      <th>pickup_gu</th>\n",
              "      <th>driver_id</th>\n",
              "      <th>driver_lng</th>\n",
              "      <th>driver_lat</th>\n",
              "      <th>hour</th>\n",
              "    </tr>\n",
              "  </thead>\n",
              "  <tbody>\n",
              "    <tr>\n",
              "      <th>0</th>\n",
              "      <td>10.60</td>\n",
              "      <td>R4L9FL6NVEL4D0</td>\n",
              "      <td>5.65</td>\n",
              "      <td>2019-12-01T00:55:09</td>\n",
              "      <td>12</td>\n",
              "      <td>127.091399</td>\n",
              "      <td>37.624545</td>\n",
              "      <td>노원구</td>\n",
              "      <td>DST52944</td>\n",
              "      <td>127.069978</td>\n",
              "      <td>37.616472</td>\n",
              "      <td>0</td>\n",
              "    </tr>\n",
              "    <tr>\n",
              "      <th>1</th>\n",
              "      <td>9.20</td>\n",
              "      <td>R3A7JBY7CS6TPD</td>\n",
              "      <td>8.60</td>\n",
              "      <td>2019-12-01T00:09:39</td>\n",
              "      <td>12</td>\n",
              "      <td>127.023351</td>\n",
              "      <td>37.625564</td>\n",
              "      <td>강북구</td>\n",
              "      <td>DPC72995</td>\n",
              "      <td>127.026479</td>\n",
              "      <td>37.604711</td>\n",
              "      <td>0</td>\n",
              "    </tr>\n",
              "    <tr>\n",
              "      <th>2</th>\n",
              "      <td>10.85</td>\n",
              "      <td>R2BIUY1TDK14XE</td>\n",
              "      <td>10.53</td>\n",
              "      <td>2019-12-15T00:18:42</td>\n",
              "      <td>12</td>\n",
              "      <td>126.881154</td>\n",
              "      <td>37.481641</td>\n",
              "      <td>금천구</td>\n",
              "      <td>DPP94923</td>\n",
              "      <td>126.906225</td>\n",
              "      <td>37.452167</td>\n",
              "      <td>0</td>\n",
              "    </tr>\n",
              "    <tr>\n",
              "      <th>3</th>\n",
              "      <td>5.52</td>\n",
              "      <td>R31PU5GNHSGU6C</td>\n",
              "      <td>1.92</td>\n",
              "      <td>2019-07-31T00:24:11</td>\n",
              "      <td>7</td>\n",
              "      <td>126.988375</td>\n",
              "      <td>37.567897</td>\n",
              "      <td>중구</td>\n",
              "      <td>DCT73585</td>\n",
              "      <td>126.991170</td>\n",
              "      <td>37.566416</td>\n",
              "      <td>0</td>\n",
              "    </tr>\n",
              "    <tr>\n",
              "      <th>4</th>\n",
              "      <td>8.60</td>\n",
              "      <td>R41WR6N1VT42DJ</td>\n",
              "      <td>7.10</td>\n",
              "      <td>2019-07-05T00:40:34</td>\n",
              "      <td>7</td>\n",
              "      <td>126.988684</td>\n",
              "      <td>37.566716</td>\n",
              "      <td>중구</td>\n",
              "      <td>DPJ86237</td>\n",
              "      <td>127.006860</td>\n",
              "      <td>37.571164</td>\n",
              "      <td>0</td>\n",
              "    </tr>\n",
              "  </tbody>\n",
              "</table>\n",
              "</div>"
            ],
            "text/plain": [
              "     ATA              id  api_eta  ...  driver_lng  driver_lat  hour\n",
              "0  10.60  R4L9FL6NVEL4D0     5.65  ...  127.069978   37.616472     0\n",
              "1   9.20  R3A7JBY7CS6TPD     8.60  ...  127.026479   37.604711     0\n",
              "2  10.85  R2BIUY1TDK14XE    10.53  ...  126.906225   37.452167     0\n",
              "3   5.52  R31PU5GNHSGU6C     1.92  ...  126.991170   37.566416     0\n",
              "4   8.60  R41WR6N1VT42DJ     7.10  ...  127.006860   37.571164     0\n",
              "\n",
              "[5 rows x 12 columns]"
            ]
          },
          "metadata": {},
          "execution_count": 5
        }
      ]
    },
    {
      "cell_type": "code",
      "metadata": {
        "id": "wRJxzcksZMar",
        "colab": {
          "base_uri": "https://localhost:8080/",
          "height": 206
        },
        "outputId": "5f7757a7-fd47-40fa-8ec9-61bc2d3680f0"
      },
      "source": [
        "tada_eta['distance'] = ((tada_eta['pickup_lat']-tada_eta['driver_lat'])**2 + (tada_eta['pickup_lng']-tada_eta['driver_lng'])**2)*100000\n",
        "tada_eta = tada_eta.drop(['id', 'created_at_kst', 'driver_id', 'pickup_lng', 'pickup_lat', 'driver_lng','driver_lat','pickup_gu'],1)\n",
        "tada_eta.head()\n",
        "\n",
        "# sklearn의 tree는 범주 데이터는 다루지 못함. 이 경우에 one-hot encoding은 비효율적. 구 데이터도 활용하고 싶다면 h2o 참고"
      ],
      "execution_count": null,
      "outputs": [
        {
          "output_type": "execute_result",
          "data": {
            "text/html": [
              "<div>\n",
              "<style scoped>\n",
              "    .dataframe tbody tr th:only-of-type {\n",
              "        vertical-align: middle;\n",
              "    }\n",
              "\n",
              "    .dataframe tbody tr th {\n",
              "        vertical-align: top;\n",
              "    }\n",
              "\n",
              "    .dataframe thead th {\n",
              "        text-align: right;\n",
              "    }\n",
              "</style>\n",
              "<table border=\"1\" class=\"dataframe\">\n",
              "  <thead>\n",
              "    <tr style=\"text-align: right;\">\n",
              "      <th></th>\n",
              "      <th>ATA</th>\n",
              "      <th>api_eta</th>\n",
              "      <th>month</th>\n",
              "      <th>hour</th>\n",
              "      <th>distance</th>\n",
              "    </tr>\n",
              "  </thead>\n",
              "  <tbody>\n",
              "    <tr>\n",
              "      <th>0</th>\n",
              "      <td>10.60</td>\n",
              "      <td>5.65</td>\n",
              "      <td>12</td>\n",
              "      <td>0</td>\n",
              "      <td>52.400202</td>\n",
              "    </tr>\n",
              "    <tr>\n",
              "      <th>1</th>\n",
              "      <td>9.20</td>\n",
              "      <td>8.60</td>\n",
              "      <td>12</td>\n",
              "      <td>0</td>\n",
              "      <td>44.465889</td>\n",
              "    </tr>\n",
              "    <tr>\n",
              "      <th>2</th>\n",
              "      <td>10.85</td>\n",
              "      <td>10.53</td>\n",
              "      <td>12</td>\n",
              "      <td>0</td>\n",
              "      <td>149.731535</td>\n",
              "    </tr>\n",
              "    <tr>\n",
              "      <th>3</th>\n",
              "      <td>5.52</td>\n",
              "      <td>1.92</td>\n",
              "      <td>7</td>\n",
              "      <td>0</td>\n",
              "      <td>1.000535</td>\n",
              "    </tr>\n",
              "    <tr>\n",
              "      <th>4</th>\n",
              "      <td>8.60</td>\n",
              "      <td>7.10</td>\n",
              "      <td>7</td>\n",
              "      <td>0</td>\n",
              "      <td>35.014797</td>\n",
              "    </tr>\n",
              "  </tbody>\n",
              "</table>\n",
              "</div>"
            ],
            "text/plain": [
              "     ATA  api_eta  month  hour    distance\n",
              "0  10.60     5.65     12     0   52.400202\n",
              "1   9.20     8.60     12     0   44.465889\n",
              "2  10.85    10.53     12     0  149.731535\n",
              "3   5.52     1.92      7     0    1.000535\n",
              "4   8.60     7.10      7     0   35.014797"
            ]
          },
          "metadata": {},
          "execution_count": 6
        }
      ]
    },
    {
      "cell_type": "markdown",
      "metadata": {
        "id": "cA7WjdP9zP-m"
      },
      "source": [
        "## 샘플링"
      ]
    },
    {
      "cell_type": "code",
      "metadata": {
        "id": "uEwB3AeKyD77",
        "colab": {
          "base_uri": "https://localhost:8080/",
          "height": 206
        },
        "outputId": "fcd9a195-80d4-479e-b535-b777d3dcb744"
      },
      "source": [
        "tada_eta = tada_eta.sample(frac=1, random_state=0).reset_index(drop=True)\n",
        "tada_eta.head()"
      ],
      "execution_count": null,
      "outputs": [
        {
          "output_type": "execute_result",
          "data": {
            "text/html": [
              "<div>\n",
              "<style scoped>\n",
              "    .dataframe tbody tr th:only-of-type {\n",
              "        vertical-align: middle;\n",
              "    }\n",
              "\n",
              "    .dataframe tbody tr th {\n",
              "        vertical-align: top;\n",
              "    }\n",
              "\n",
              "    .dataframe thead th {\n",
              "        text-align: right;\n",
              "    }\n",
              "</style>\n",
              "<table border=\"1\" class=\"dataframe\">\n",
              "  <thead>\n",
              "    <tr style=\"text-align: right;\">\n",
              "      <th></th>\n",
              "      <th>ATA</th>\n",
              "      <th>api_eta</th>\n",
              "      <th>month</th>\n",
              "      <th>hour</th>\n",
              "      <th>distance</th>\n",
              "    </tr>\n",
              "  </thead>\n",
              "  <tbody>\n",
              "    <tr>\n",
              "      <th>0</th>\n",
              "      <td>6.13</td>\n",
              "      <td>8.32</td>\n",
              "      <td>12</td>\n",
              "      <td>22</td>\n",
              "      <td>44.521977</td>\n",
              "    </tr>\n",
              "    <tr>\n",
              "      <th>1</th>\n",
              "      <td>5.37</td>\n",
              "      <td>3.05</td>\n",
              "      <td>12</td>\n",
              "      <td>11</td>\n",
              "      <td>3.989066</td>\n",
              "    </tr>\n",
              "    <tr>\n",
              "      <th>2</th>\n",
              "      <td>6.27</td>\n",
              "      <td>5.00</td>\n",
              "      <td>7</td>\n",
              "      <td>19</td>\n",
              "      <td>4.814699</td>\n",
              "    </tr>\n",
              "    <tr>\n",
              "      <th>3</th>\n",
              "      <td>10.52</td>\n",
              "      <td>8.47</td>\n",
              "      <td>12</td>\n",
              "      <td>21</td>\n",
              "      <td>77.341173</td>\n",
              "    </tr>\n",
              "    <tr>\n",
              "      <th>4</th>\n",
              "      <td>12.45</td>\n",
              "      <td>6.65</td>\n",
              "      <td>7</td>\n",
              "      <td>12</td>\n",
              "      <td>14.888851</td>\n",
              "    </tr>\n",
              "  </tbody>\n",
              "</table>\n",
              "</div>"
            ],
            "text/plain": [
              "     ATA  api_eta  month  hour   distance\n",
              "0   6.13     8.32     12    22  44.521977\n",
              "1   5.37     3.05     12    11   3.989066\n",
              "2   6.27     5.00      7    19   4.814699\n",
              "3  10.52     8.47     12    21  77.341173\n",
              "4  12.45     6.65      7    12  14.888851"
            ]
          },
          "metadata": {},
          "execution_count": 7
        }
      ]
    },
    {
      "cell_type": "code",
      "metadata": {
        "id": "JSvO1kHyxYBB",
        "colab": {
          "base_uri": "https://localhost:8080/"
        },
        "outputId": "abc898b7-6f72-4553-bc3f-c472b1ccee37"
      },
      "source": [
        "tada_eta.shape"
      ],
      "execution_count": null,
      "outputs": [
        {
          "output_type": "execute_result",
          "data": {
            "text/plain": [
              "(13916, 5)"
            ]
          },
          "metadata": {},
          "execution_count": 8
        }
      ]
    },
    {
      "cell_type": "code",
      "metadata": {
        "id": "0MM11kIzxuQN"
      },
      "source": [
        "train = tada_eta[:12000]\n",
        "test = tada_eta[12000:]"
      ],
      "execution_count": null,
      "outputs": []
    },
    {
      "cell_type": "code",
      "metadata": {
        "id": "IIGs4dK9zXIQ"
      },
      "source": [
        "x_train = np.asarray(train.drop('ATA',1))\n",
        "y_train = np.asarray(train['ATA'])\n",
        "x_test = np.asarray(test.drop('ATA',1))\n",
        "y_test = np.asarray(test['ATA'])\n",
        "eta_features = [x for i,x in enumerate(tada_eta.columns) if i!=0]"
      ],
      "execution_count": null,
      "outputs": []
    },
    {
      "cell_type": "markdown",
      "metadata": {
        "id": "bfkarT5X6pej"
      },
      "source": [
        "# PCA"
      ]
    },
    {
      "cell_type": "markdown",
      "metadata": {
        "id": "aRWDhCqMyEbX"
      },
      "source": [
        "## x_train과 x_test 를 PCA한다."
      ]
    },
    {
      "cell_type": "code",
      "metadata": {
        "colab": {
          "base_uri": "https://localhost:8080/"
        },
        "id": "71_FtGfqVCZV",
        "outputId": "0e0fcaa1-8a89-4137-d3d0-78bd00c900f7"
      },
      "source": [
        "train = tada_eta[:12000]\n",
        "test = tada_eta[12000:]\n",
        "\n",
        "\n",
        "x_train = np.asarray(train.drop('ATA',1))\n",
        "y_train = np.asarray(train['ATA'])\n",
        "x_test = np.asarray(test.drop('ATA',1))\n",
        "y_test = np.asarray(test['ATA'])\n",
        "eta_features = [x for i,x in enumerate(tada_eta.columns) if i!=0]\n",
        "\n",
        "\n",
        "# Principal Components Analysis (PCA)\n",
        "# Using PCA to find the first two principal components of the breast cancer dataset\n",
        "from sklearn.preprocessing import StandardScaler\n",
        "from sklearn.decomposition import PCA\n",
        "from sklearn.datasets import load_breast_cancer\n",
        "\n",
        "# Before applying PCA, each feature should be centered (zero mean) and with unit variance\n",
        "# PCA를 하기전에는 정규화를 해야한다. 그렇지 않으면 성능이 좋지 않을 수 있다..!\n",
        "\n",
        "X_normalized = StandardScaler().fit(x_train).transform(x_train)  \n",
        "pca = PCA(n_components = 2).fit(X_normalized) # n_componets =2 는 2차원으로 변환한다는 걸 뜻한다. \n",
        "X_pca = pca.transform(X_normalized) # transform은 해줘야 한다.\n",
        "\n",
        "# print(train.shape, X_pca.shape)\n",
        "\n",
        "\n",
        "x_normalized = StandardScaler().fit(x_test).transform(x_test)  \n",
        "pca = PCA(n_components = 2).fit(x_normalized) # n_componets =2 는 2차원으로 변환한다는 걸 뜻한다. \n",
        "x_pca = pca.transform(x_normalized) # transform은 해줘야 한다.\n",
        "\n",
        "print(x_train.shape, X_pca.shape,x_test.shape,x_pca.shape)"
      ],
      "execution_count": null,
      "outputs": [
        {
          "output_type": "stream",
          "name": "stdout",
          "text": [
            "(12000, 4) (12000, 2) (1916, 4) (1916, 2)\n"
          ]
        }
      ]
    },
    {
      "cell_type": "code",
      "metadata": {
        "colab": {
          "base_uri": "https://localhost:8080/"
        },
        "id": "6YN-hpMmzG24",
        "outputId": "ef842b1e-faf2-4b91-c43b-c225afeca221"
      },
      "source": [
        "type(X_pca)"
      ],
      "execution_count": null,
      "outputs": [
        {
          "output_type": "execute_result",
          "data": {
            "text/plain": [
              "numpy.ndarray"
            ]
          },
          "metadata": {},
          "execution_count": 12
        }
      ]
    },
    {
      "cell_type": "code",
      "metadata": {
        "id": "X4qxqNuSifK-",
        "colab": {
          "base_uri": "https://localhost:8080/"
        },
        "outputId": "3fbfe51a-5433-4bfc-bb18-f17ed701d8da"
      },
      "source": [
        "eta_features"
      ],
      "execution_count": null,
      "outputs": [
        {
          "output_type": "execute_result",
          "data": {
            "text/plain": [
              "['api_eta', 'month', 'hour', 'distance']"
            ]
          },
          "metadata": {},
          "execution_count": 13
        }
      ]
    },
    {
      "cell_type": "code",
      "metadata": {
        "id": "c3UNZ14cz82-"
      },
      "source": [
        "from sklearn.metrics import mean_squared_error\n",
        "from sklearn.metrics import mean_absolute_error # 절대값\n",
        "from sklearn import ensemble"
      ],
      "execution_count": null,
      "outputs": []
    },
    {
      "cell_type": "markdown",
      "metadata": {
        "id": "ajX_IcJ6zzir"
      },
      "source": [
        "# 1 way + gridsearchCV"
      ]
    },
    {
      "cell_type": "code",
      "metadata": {
        "colab": {
          "base_uri": "https://localhost:8080/"
        },
        "id": "Y-NuKh8y1NwS",
        "outputId": "6691ea01-58ea-43b5-ac44-a6c15f374894"
      },
      "source": [
        "from sklearn import ensemble\n",
        "from sklearn.metrics import mean_squared_error\n",
        "from sklearn.model_selection import GridSearchCV\n",
        "# Hyperparameter 조합 정의\n",
        "param_grid = {'n_estimators': [100, 200, 300],\n",
        "  'max_depth': [2, 3, 4, 5],\n",
        "   'min_samples_leaf': [1, 20, 100],\n",
        "  'learning_rate': [0.01, 0.02, 0.05],\n",
        "  'loss': ['ls']} \n",
        "# grid search 모델 정의, 학습 및 model selection\n",
        "grid_search = GridSearchCV(estimator=ensemble.GradientBoostingRegressor(), \n",
        "                   param_grid=param_grid, \n",
        "                   cv=3, n_jobs=-1, scoring='neg_mean_squared_error', verbose=2)\n",
        "grid_search.fit(X_pca, y_train)\n",
        "print(grid_search.best_params_)\n",
        "reg = ensemble.GradientBoostingRegressor(**grid_search.best_params_)"
      ],
      "execution_count": null,
      "outputs": [
        {
          "output_type": "stream",
          "name": "stdout",
          "text": [
            "Fitting 3 folds for each of 108 candidates, totalling 324 fits\n"
          ]
        },
        {
          "output_type": "stream",
          "name": "stderr",
          "text": [
            "/usr/local/lib/python3.7/dist-packages/sklearn/ensemble/_gb.py:290: FutureWarning: The loss 'ls' was deprecated in v1.0 and will be removed in version 1.2. Use 'squared_error' which is equivalent.\n",
            "  FutureWarning,\n"
          ]
        },
        {
          "output_type": "stream",
          "name": "stdout",
          "text": [
            "{'learning_rate': 0.05, 'loss': 'ls', 'max_depth': 5, 'min_samples_leaf': 20, 'n_estimators': 200}\n"
          ]
        }
      ]
    },
    {
      "cell_type": "code",
      "metadata": {
        "colab": {
          "base_uri": "https://localhost:8080/"
        },
        "id": "P9uvJC8a20Pa",
        "outputId": "32f8faec-c5d5-481a-adcb-6a8e0b21339a"
      },
      "source": [
        "params = {'n_estimators': 200, # 트리의 개수\n",
        "          'max_depth': 5,\n",
        "           'min_samples_leaf': 20,\n",
        "          'learning_rate': 0.05,\n",
        "          'loss': 'ls'} # 'squared_error'와 같음\n",
        "\n",
        "\n",
        "reg = ensemble.GradientBoostingRegressor(**params)\n",
        "reg.fit(X_pca, y_train)\n",
        "\n",
        "mse = mean_squared_error(y_test, reg.predict(x_pca))\n",
        "print(\"The mean squared error (MSE) on test set: {:.4f}\".format(mse))\n",
        "print(\"The initial error of API ETA on test set: {:.4f}\".format(mean_squared_error(y_test, x_pca[:,0]) ))\n",
        "\n",
        "mae = mean_absolute_error(y_test, reg.predict(x_pca))\n",
        "print(\"The mean absolute error (MAE) on test set: {:.4f}\".format(mae))\n",
        "print(\"The initial error of API ETA on test set: {:.4f}\".format(mean_absolute_error(y_test, x_pca[:,0]) ))"
      ],
      "execution_count": null,
      "outputs": [
        {
          "output_type": "stream",
          "name": "stderr",
          "text": [
            "/usr/local/lib/python3.7/dist-packages/sklearn/ensemble/_gb.py:290: FutureWarning: The loss 'ls' was deprecated in v1.0 and will be removed in version 1.2. Use 'squared_error' which is equivalent.\n",
            "  FutureWarning,\n"
          ]
        },
        {
          "output_type": "stream",
          "name": "stdout",
          "text": [
            "The mean squared error (MSE) on test set: 11.3281\n",
            "The initial error of API ETA on test set: 94.1883\n",
            "The mean absolute error (MAE) on test set: 2.5202\n",
            "The initial error of API ETA on test set: 8.4648\n"
          ]
        }
      ]
    },
    {
      "cell_type": "markdown",
      "metadata": {
        "id": "hE7DHeLcySCr"
      },
      "source": [
        "값이 8단위에서 11로 높아졌다. pca 효과가 없는 듯하다"
      ]
    },
    {
      "cell_type": "markdown",
      "metadata": {
        "id": "u4PtAnM3bq4Y"
      },
      "source": [
        "## prefinedSplit"
      ]
    },
    {
      "cell_type": "code",
      "metadata": {
        "id": "-BI-PxInzzff",
        "colab": {
          "base_uri": "https://localhost:8080/"
        },
        "outputId": "2dcb1408-c18a-4156-dd4f-a605f2c4c8ea"
      },
      "source": [
        "from sklearn.model_selection import GridSearchCV\n",
        "from sklearn.model_selection import PredefinedSplit    \n",
        "\n",
        "\n",
        "# train set과 test set의 input과 output를 각각 이어 붙여서 X,y를 정의 \n",
        "X = np.concatenate((x_train,x_test), axis=0)\n",
        "y = np.concatenate((y_train,y_test), axis=0)\n",
        "\n",
        "# 전체 데이터 X에서 training data에 해당하는 index는 -1, test data에 해당하는 index는 0이 되도록, \n",
        "# 여기서는 [-1, -1, ... , -1, 0, 0, ... , 0] 같은 형태의 1차원 배열 test fold와 predefined split을 정의\n",
        "pds = PredefinedSplit(test_fold=[-1]*len(x_train)+[0]*len(x_test))\n",
        "# grid search 모델 정의, 학습 및 model selection\n",
        "grid_search = GridSearchCV(estimator=ensemble.GradientBoostingRegressor(), \n",
        "                   param_grid=param_grid, \n",
        "                   cv=pds, n_jobs=-1, scoring='neg_mean_squared_error', verbose=2)\n",
        "grid_search.fit(X, y)\n",
        "print(grid_search.best_params_)"
      ],
      "execution_count": null,
      "outputs": [
        {
          "output_type": "stream",
          "name": "stdout",
          "text": [
            "Fitting 1 folds for each of 108 candidates, totalling 108 fits\n"
          ]
        },
        {
          "output_type": "stream",
          "name": "stderr",
          "text": [
            "/usr/local/lib/python3.7/dist-packages/sklearn/ensemble/_gb.py:290: FutureWarning: The loss 'ls' was deprecated in v1.0 and will be removed in version 1.2. Use 'squared_error' which is equivalent.\n",
            "  FutureWarning,\n"
          ]
        },
        {
          "output_type": "stream",
          "name": "stdout",
          "text": [
            "{'learning_rate': 0.05, 'loss': 'ls', 'max_depth': 2, 'min_samples_leaf': 100, 'n_estimators': 300}\n"
          ]
        }
      ]
    },
    {
      "cell_type": "code",
      "metadata": {
        "id": "n4IjGxxkzzcn",
        "colab": {
          "base_uri": "https://localhost:8080/"
        },
        "outputId": "50c54be6-6879-401d-fce2-8597ff1e13c1"
      },
      "source": [
        "params = {'n_estimators': 300, # 트리의 개수\n",
        "          'max_depth': 2,\n",
        "           'min_samples_leaf': 100,\n",
        "          'learning_rate': 0.05,\n",
        "          'loss': 'ls'} # 'squared_error'와 같음\n",
        "\n",
        "\n",
        "reg = ensemble.GradientBoostingRegressor(**params)\n",
        "reg.fit(x_train, y_train)\n",
        "\n",
        "mse = mean_squared_error(y_test, reg.predict(x_test))\n",
        "print(\"The mean squared error (MSE) on test set: {:.4f}\".format(mse))\n",
        "print(\"The initial error of API ETA on test set: {:.4f}\".format(mean_squared_error(y_test, x_test[:,0]) ))\n",
        "\n",
        "mae = mean_absolute_error(y_test, reg.predict(x_test))\n",
        "print(\"The mean absolute error (MAE) on test set: {:.4f}\".format(mae))\n",
        "print(\"The initial error of API ETA on test set: {:.4f}\".format(mean_absolute_error(y_test, x_test[:,0]) ))"
      ],
      "execution_count": null,
      "outputs": [
        {
          "output_type": "stream",
          "name": "stderr",
          "text": [
            "/usr/local/lib/python3.7/dist-packages/sklearn/ensemble/_gb.py:290: FutureWarning: The loss 'ls' was deprecated in v1.0 and will be removed in version 1.2. Use 'squared_error' which is equivalent.\n",
            "  FutureWarning,\n"
          ]
        },
        {
          "output_type": "stream",
          "name": "stdout",
          "text": [
            "The mean squared error (MSE) on test set: 8.2712\n",
            "The initial error of API ETA on test set: 13.7135\n",
            "The mean absolute error (MAE) on test set: 2.0724\n",
            "The initial error of API ETA on test set: 2.7047\n"
          ]
        }
      ]
    },
    {
      "cell_type": "markdown",
      "source": [
        "## 8.2712"
      ],
      "metadata": {
        "id": "6VvEU8bTy5Eh"
      }
    },
    {
      "cell_type": "code",
      "metadata": {
        "colab": {
          "base_uri": "https://localhost:8080/"
        },
        "id": "bQrcYTwozzYl",
        "outputId": "ca20ce21-b45f-47b3-e1cd-0486c432b71e"
      },
      "source": [
        "feature_importance = reg.feature_importances_\n",
        "sorted_idx = np.argsort(feature_importance)\n",
        "pos = np.arange(sorted_idx.shape[0]) + .5\n",
        "plt.figure()\n",
        "plt.barh(pos, feature_importance[sorted_idx], align='center')\n",
        "plt.yticks(pos, np.array(eta_features)[sorted_idx])\n",
        "plt.title('Feature Importance (MDI)')\n",
        "plt.show()"
      ],
      "execution_count": null,
      "outputs": [
        {
          "output_type": "display_data",
          "data": {
            "image/png": "[encoded data removed]",
            "text/plain": [
              "<Figure size 432x288 with 1 Axes>"
            ]
          },
          "metadata": {
            "needs_background": "light"
          }
        }
      ]
    },
    {
      "cell_type": "markdown",
      "metadata": {
        "id": "CMpud_lQ5bml"
      },
      "source": [
        "HistGradientBoostingRegressor를 쓰면 데이터의 갯수가 많을때 연산 속도가 훨씬 빠르다.\n",
        "\n",
        "이 모델은 input feature로 category feature도 사용가능합니다. 그러기 위해서는 우선 아래 예시와 같이 category feature를 ordinal encoding을 통해서 0부터 (category갯수-1)까지의 숫자 중 하나로 변환해줘야 합니다. "
      ]
    },
    {
      "cell_type": "markdown",
      "metadata": {
        "id": "gsd8djJi6REb"
      },
      "source": [
        "ordinal encoding을 한 후, HistGradientBoostingRegressor을 정의할 때 input parameter인 categorical_feature를 통해 몇 번째 feature가 categorical feature인지 알려줘야 합니다. 예를 들어 세 번째(index는 2) feature가 categorical feature라면 categorical_features=[2]가 됩니다.\n",
        "\n",
        "\n",
        "categorical feature를 쓰지 않더라도 이 HistGradientBoostingRegressor를 쓰면 데이터의 갯수가 많을때 연산 속도가 훨씬 빠르니 GradientBoostingRegressor 대신 사용을 추천드립니다."
      ]
    },
    {
      "cell_type": "markdown",
      "metadata": {
        "id": "VKLNCmweHWQS"
      },
      "source": [
        "#HistGradientBoostingRegressor"
      ]
    },
    {
      "cell_type": "code",
      "metadata": {
        "id": "h1yU-buD9Zgm"
      },
      "source": [
        "import sklearn.preprocessing"
      ],
      "execution_count": 43,
      "outputs": []
    },
    {
      "cell_type": "code",
      "metadata": {
        "id": "74yKfGdA433m"
      },
      "source": [
        "tada_eta = pd.read_excel('/content/drive/MyDrive/Colab Notebooks/data/tada_eta.xlsx')\n",
        "# Ordianl Encoding\n",
        "enc = sklearn.preprocessing.OrdinalEncoder(dtype=np.int32)\n",
        "ordinal = enc.fit_transform(np.asarray(tada_eta['pickup_gu']).reshape(-1,1))\n",
        "tada_eta['pickup_gu'] = ordinal[:,0] # 0번째 인덱스 칼럼\n",
        "tada_eta['distance'] = ((tada_eta['pickup_lat']-tada_eta['driver_lat'])**2 + (tada_eta['pickup_lng']-tada_eta['driver_lng'])**2)*100000\n",
        "tada_eta = tada_eta.drop(['id', 'created_at_kst', 'driver_id', 'pickup_lng', 'pickup_lat', 'driver_lng','driver_lat'],1)"
      ],
      "execution_count": 44,
      "outputs": []
    },
    {
      "cell_type": "code",
      "source": [
        "tada_eta = tada_eta.sample(frac=1, random_state=0).reset_index(drop=True)\n",
        "tada_eta.head()"
      ],
      "metadata": {
        "colab": {
          "base_uri": "https://localhost:8080/",
          "height": 206
        },
        "id": "jFFdc_NDssd2",
        "outputId": "9594d26a-37a8-4f61-c4a8-70e95df879d0"
      },
      "execution_count": 45,
      "outputs": [
        {
          "output_type": "execute_result",
          "data": {
            "text/html": [
              "<div>\n",
              "<style scoped>\n",
              "    .dataframe tbody tr th:only-of-type {\n",
              "        vertical-align: middle;\n",
              "    }\n",
              "\n",
              "    .dataframe tbody tr th {\n",
              "        vertical-align: top;\n",
              "    }\n",
              "\n",
              "    .dataframe thead th {\n",
              "        text-align: right;\n",
              "    }\n",
              "</style>\n",
              "<table border=\"1\" class=\"dataframe\">\n",
              "  <thead>\n",
              "    <tr style=\"text-align: right;\">\n",
              "      <th></th>\n",
              "      <th>ATA</th>\n",
              "      <th>api_eta</th>\n",
              "      <th>month</th>\n",
              "      <th>pickup_gu</th>\n",
              "      <th>hour</th>\n",
              "      <th>distance</th>\n",
              "    </tr>\n",
              "  </thead>\n",
              "  <tbody>\n",
              "    <tr>\n",
              "      <th>0</th>\n",
              "      <td>6.13</td>\n",
              "      <td>8.32</td>\n",
              "      <td>12</td>\n",
              "      <td>12</td>\n",
              "      <td>22</td>\n",
              "      <td>44.521977</td>\n",
              "    </tr>\n",
              "    <tr>\n",
              "      <th>1</th>\n",
              "      <td>5.37</td>\n",
              "      <td>3.05</td>\n",
              "      <td>12</td>\n",
              "      <td>17</td>\n",
              "      <td>11</td>\n",
              "      <td>3.989066</td>\n",
              "    </tr>\n",
              "    <tr>\n",
              "      <th>2</th>\n",
              "      <td>6.27</td>\n",
              "      <td>5.00</td>\n",
              "      <td>7</td>\n",
              "      <td>22</td>\n",
              "      <td>19</td>\n",
              "      <td>4.814699</td>\n",
              "    </tr>\n",
              "    <tr>\n",
              "      <th>3</th>\n",
              "      <td>10.52</td>\n",
              "      <td>8.47</td>\n",
              "      <td>12</td>\n",
              "      <td>20</td>\n",
              "      <td>21</td>\n",
              "      <td>77.341173</td>\n",
              "    </tr>\n",
              "    <tr>\n",
              "      <th>4</th>\n",
              "      <td>12.45</td>\n",
              "      <td>6.65</td>\n",
              "      <td>7</td>\n",
              "      <td>0</td>\n",
              "      <td>12</td>\n",
              "      <td>14.888851</td>\n",
              "    </tr>\n",
              "  </tbody>\n",
              "</table>\n",
              "</div>"
            ],
            "text/plain": [
              "     ATA  api_eta  month  pickup_gu  hour   distance\n",
              "0   6.13     8.32     12         12    22  44.521977\n",
              "1   5.37     3.05     12         17    11   3.989066\n",
              "2   6.27     5.00      7         22    19   4.814699\n",
              "3  10.52     8.47     12         20    21  77.341173\n",
              "4  12.45     6.65      7          0    12  14.888851"
            ]
          },
          "metadata": {},
          "execution_count": 45
        }
      ]
    },
    {
      "cell_type": "code",
      "metadata": {
        "colab": {
          "base_uri": "https://localhost:8080/",
          "height": 206
        },
        "id": "Q4-W-Dqj8eDT",
        "outputId": "a88f6588-0a6d-403c-9922-fc167df17926"
      },
      "source": [
        "tada_eta.head()"
      ],
      "execution_count": 46,
      "outputs": [
        {
          "output_type": "execute_result",
          "data": {
            "text/html": [
              "<div>\n",
              "<style scoped>\n",
              "    .dataframe tbody tr th:only-of-type {\n",
              "        vertical-align: middle;\n",
              "    }\n",
              "\n",
              "    .dataframe tbody tr th {\n",
              "        vertical-align: top;\n",
              "    }\n",
              "\n",
              "    .dataframe thead th {\n",
              "        text-align: right;\n",
              "    }\n",
              "</style>\n",
              "<table border=\"1\" class=\"dataframe\">\n",
              "  <thead>\n",
              "    <tr style=\"text-align: right;\">\n",
              "      <th></th>\n",
              "      <th>ATA</th>\n",
              "      <th>api_eta</th>\n",
              "      <th>month</th>\n",
              "      <th>pickup_gu</th>\n",
              "      <th>hour</th>\n",
              "      <th>distance</th>\n",
              "    </tr>\n",
              "  </thead>\n",
              "  <tbody>\n",
              "    <tr>\n",
              "      <th>0</th>\n",
              "      <td>6.13</td>\n",
              "      <td>8.32</td>\n",
              "      <td>12</td>\n",
              "      <td>12</td>\n",
              "      <td>22</td>\n",
              "      <td>44.521977</td>\n",
              "    </tr>\n",
              "    <tr>\n",
              "      <th>1</th>\n",
              "      <td>5.37</td>\n",
              "      <td>3.05</td>\n",
              "      <td>12</td>\n",
              "      <td>17</td>\n",
              "      <td>11</td>\n",
              "      <td>3.989066</td>\n",
              "    </tr>\n",
              "    <tr>\n",
              "      <th>2</th>\n",
              "      <td>6.27</td>\n",
              "      <td>5.00</td>\n",
              "      <td>7</td>\n",
              "      <td>22</td>\n",
              "      <td>19</td>\n",
              "      <td>4.814699</td>\n",
              "    </tr>\n",
              "    <tr>\n",
              "      <th>3</th>\n",
              "      <td>10.52</td>\n",
              "      <td>8.47</td>\n",
              "      <td>12</td>\n",
              "      <td>20</td>\n",
              "      <td>21</td>\n",
              "      <td>77.341173</td>\n",
              "    </tr>\n",
              "    <tr>\n",
              "      <th>4</th>\n",
              "      <td>12.45</td>\n",
              "      <td>6.65</td>\n",
              "      <td>7</td>\n",
              "      <td>0</td>\n",
              "      <td>12</td>\n",
              "      <td>14.888851</td>\n",
              "    </tr>\n",
              "  </tbody>\n",
              "</table>\n",
              "</div>"
            ],
            "text/plain": [
              "     ATA  api_eta  month  pickup_gu  hour   distance\n",
              "0   6.13     8.32     12         12    22  44.521977\n",
              "1   5.37     3.05     12         17    11   3.989066\n",
              "2   6.27     5.00      7         22    19   4.814699\n",
              "3  10.52     8.47     12         20    21  77.341173\n",
              "4  12.45     6.65      7          0    12  14.888851"
            ]
          },
          "metadata": {},
          "execution_count": 46
        }
      ]
    },
    {
      "cell_type": "markdown",
      "metadata": {
        "id": "rSV2WD_beuGw"
      },
      "source": [
        "## 구는 카테고리 피쳐니까 잠깐 빼고,"
      ]
    },
    {
      "cell_type": "code",
      "metadata": {
        "id": "RJCNxJdE8iRQ"
      },
      "source": [
        "pickup_gu_m=tada_eta['pickup_gu']\n",
        "tada_eta=tada_eta.drop('pickup_gu',1)"
      ],
      "execution_count": 47,
      "outputs": []
    },
    {
      "cell_type": "code",
      "metadata": {
        "colab": {
          "base_uri": "https://localhost:8080/",
          "height": 81
        },
        "id": "3V4Wo3QU8p-K",
        "outputId": "ab82ade1-672e-4cec-e801-b989d74cb802"
      },
      "source": [
        "tada_eta.head(1)"
      ],
      "execution_count": 48,
      "outputs": [
        {
          "output_type": "execute_result",
          "data": {
            "text/html": [
              "<div>\n",
              "<style scoped>\n",
              "    .dataframe tbody tr th:only-of-type {\n",
              "        vertical-align: middle;\n",
              "    }\n",
              "\n",
              "    .dataframe tbody tr th {\n",
              "        vertical-align: top;\n",
              "    }\n",
              "\n",
              "    .dataframe thead th {\n",
              "        text-align: right;\n",
              "    }\n",
              "</style>\n",
              "<table border=\"1\" class=\"dataframe\">\n",
              "  <thead>\n",
              "    <tr style=\"text-align: right;\">\n",
              "      <th></th>\n",
              "      <th>ATA</th>\n",
              "      <th>api_eta</th>\n",
              "      <th>month</th>\n",
              "      <th>hour</th>\n",
              "      <th>distance</th>\n",
              "    </tr>\n",
              "  </thead>\n",
              "  <tbody>\n",
              "    <tr>\n",
              "      <th>0</th>\n",
              "      <td>6.13</td>\n",
              "      <td>8.32</td>\n",
              "      <td>12</td>\n",
              "      <td>22</td>\n",
              "      <td>44.521977</td>\n",
              "    </tr>\n",
              "  </tbody>\n",
              "</table>\n",
              "</div>"
            ],
            "text/plain": [
              "    ATA  api_eta  month  hour   distance\n",
              "0  6.13     8.32     12    22  44.521977"
            ]
          },
          "metadata": {},
          "execution_count": 48
        }
      ]
    },
    {
      "cell_type": "markdown",
      "metadata": {
        "id": "chz-SzLoSfjn"
      },
      "source": [
        "## 데이터 셋 나누기\n",
        "\n",
        "## PCA & 정규화는 생략. 오히려 성능 떨어짐"
      ]
    },
    {
      "cell_type": "code",
      "metadata": {
        "id": "yZOdlqpXSfBm"
      },
      "source": [
        "train = tada_eta[:12000]\n",
        "test = tada_eta[12000:]\n",
        "\n",
        "\n",
        "x_train = np.asarray(train.drop('ATA',1))\n",
        "y_train = np.asarray(train['ATA'])\n",
        "x_test = np.asarray(test.drop('ATA',1))\n",
        "y_test = np.asarray(test['ATA'])\n",
        "eta_features = [x for i,x in enumerate(tada_eta.columns) if i!=0]\n",
        "\n",
        "# PCA는 생략한다.\n",
        "\n",
        "# # Principal Components Analysis (PCA)\n",
        "# # Using PCA to find the first two principal components of the breast cancer dataset\n",
        "# from sklearn.preprocessing import StandardScaler\n",
        "# from sklearn.decomposition import PCA\n",
        "# from sklearn.datasets import load_breast_cancer\n",
        "\n",
        "# # Before applying PCA, each feature should be centered (zero mean) and with unit variance\n",
        "# # PCA를 하기전에는 정규화를 해야한다. 그렇지 않으면 성능이 좋지 않을 수 있다..!\n",
        "\n",
        "# X_normalized = StandardScaler().fit(x_train).transform(x_train)  \n",
        "# pca = PCA(n_components = 2).fit(X_normalized) # n_componets =2 는 2차원으로 변환한다는 걸 뜻한다. \n",
        "# X_pca = pca.transform(X_normalized) # transform은 해줘야 한다.\n",
        "\n",
        "# # print(train.shape, X_pca.shape)\n",
        "\n",
        "\n",
        "# x_normalized = StandardScaler().fit(x_test).transform(x_test)  \n",
        "# pca = PCA(n_components = 2).fit(x_normalized) # n_componets =2 는 2차원으로 변환한다는 걸 뜻한다. \n",
        "# x_pca = pca.transform(x_normalized) # transform은 해줘야 한다.\n",
        "\n",
        "# print(x_train.shape, X_pca.shape,x_test.shape,x_pca.shape)"
      ],
      "execution_count": 49,
      "outputs": []
    },
    {
      "cell_type": "markdown",
      "metadata": {
        "id": "44OlB_QnK4_f"
      },
      "source": [
        "## grid search & early_stopping =False, random_state=0 추가"
      ]
    },
    {
      "cell_type": "code",
      "metadata": {
        "id": "4MIF-I90c-2T"
      },
      "source": [
        "from sklearn.experimental import enable_hist_gradient_boosting  # noqa\n",
        "# 이제 앙상블에서 정상적으로 가져올 수 있습니다.\n",
        "from sklearn.metrics import mean_absolute_error"
      ],
      "execution_count": 50,
      "outputs": []
    },
    {
      "cell_type": "code",
      "metadata": {
        "colab": {
          "base_uri": "https://localhost:8080/"
        },
        "id": "ES-oG0mL9URx",
        "outputId": "fd54a902-0a36-4bee-a469-a3332c611a0d"
      },
      "source": [
        "from sklearn import ensemble\n",
        "from sklearn.metrics import mean_squared_error\n",
        "from sklearn.model_selection import GridSearchCV\n",
        "\n",
        "# Hyperparameter 조합 정의\n",
        "param_grid = {'max_iter': [100, 200, 300],\n",
        "  'max_depth': [2, 3, 4, 5],\n",
        "   'min_samples_leaf': [1, 20, 100],\n",
        "  'learning_rate': [0.01, 0.02, 0.05],\n",
        "  'early_stopping':['False'],\n",
        "  'random_state':[0]\n",
        "  # 'categorical_features':[5]\n",
        "  }\n",
        "# grid search 모델 정의, 학습 및 model selection\n",
        "grid_search = GridSearchCV(estimator=ensemble.HistGradientBoostingRegressor(),\n",
        "                   param_grid=param_grid, \n",
        "                   cv=3, n_jobs=-1, scoring='neg_mean_squared_error', verbose=2)\n",
        "grid_search.fit(x_train, y_train)\n",
        "print(grid_search.best_params_)\n",
        "reg = ensemble.HistGradientBoostingRegressor(**grid_search.best_params_)"
      ],
      "execution_count": 52,
      "outputs": [
        {
          "output_type": "stream",
          "name": "stdout",
          "text": [
            "Fitting 3 folds for each of 108 candidates, totalling 324 fits\n",
            "{'early_stopping': 'False', 'learning_rate': 0.05, 'max_depth': 3, 'max_iter': 100, 'min_samples_leaf': 1, 'random_state': 0}\n"
          ]
        }
      ]
    },
    {
      "cell_type": "code",
      "metadata": {
        "id": "DGiPEb05KE0N",
        "colab": {
          "base_uri": "https://localhost:8080/"
        },
        "outputId": "b9c0476a-d44b-4b65-fff5-bf8774880732"
      },
      "source": [
        "params = {'max_iter': 100, # 트리의 개수\n",
        "          'max_depth': 3,\n",
        "           'min_samples_leaf': 1,\n",
        "          'learning_rate': 0.06,\n",
        "          'early_stopping':'False',\n",
        "          'random_state':0\n",
        "           } # 'squared_error'와 같음\n",
        "\n",
        "\n",
        "hist = ensemble.HistGradientBoostingRegressor(**params)\n",
        "hist.fit(x_train, y_train)\n",
        "\n",
        "mse = mean_squared_error(y_test, hist.predict(x_test))\n",
        "print(\"The mean squared error (MSE) on test set: {:.4f}\".format(mse))\n",
        "print(\"The initial error of API ETA on test set: {:.4f}\".format(mean_squared_error(y_test, x_test[:,0]) ))\n",
        "\n",
        "mae = mean_absolute_error(y_test, hist.predict(x_test))\n",
        "print(\"The mean absolute error (MAE) on test set: {:.4f}\".format(mae))\n",
        "print(\"The initial error of API ETA on test set: {:.4f}\".format(mean_absolute_error(y_test, x_test[:,0]) ))"
      ],
      "execution_count": 61,
      "outputs": [
        {
          "output_type": "stream",
          "name": "stdout",
          "text": [
            "The mean squared error (MSE) on test set: 8.3750\n",
            "The initial error of API ETA on test set: 13.7135\n",
            "The mean absolute error (MAE) on test set: 2.0830\n",
            "The initial error of API ETA on test set: 2.7047\n"
          ]
        }
      ]
    },
    {
      "cell_type": "markdown",
      "metadata": {
        "id": "LoxBVfeRMMjU"
      },
      "source": [
        "## PredefinedSplit, 파라미터 늘리기"
      ]
    },
    {
      "cell_type": "code",
      "metadata": {
        "id": "Z9V_npTTLWRf"
      },
      "source": [
        "# 파라미터 값 좀 더 확장\n",
        "param_grid = {'max_iter': [100, 200, 300, 400],\n",
        "  'max_depth': [1,2, 3, 4,5],\n",
        "   'min_samples_leaf': [1, 20, 50, 100],\n",
        "  'learning_rate': [0.01, 0.02, 0.05],\n",
        "  'early_stopping':['False'],\n",
        "  'random_state':[0]\n",
        "  #  'categorical_features':[5, 6, 7, 8, 9, 10, 11, 12, 13, 14, 15, 16, 17, 18, 19, 20, 21, 22, 23, 24, 25, 26, 27, 28, 29, 30]\n",
        "   } "
      ],
      "execution_count": 62,
      "outputs": []
    },
    {
      "cell_type": "code",
      "metadata": {
        "id": "KD86az_K6mRE",
        "colab": {
          "base_uri": "https://localhost:8080/"
        },
        "outputId": "34c96ddd-3124-431f-97a2-1eb32f46acf8"
      },
      "source": [
        "from sklearn.model_selection import GridSearchCV\n",
        "from sklearn.model_selection import PredefinedSplit\n",
        "# from sklearn.ensemble import HistGradientBoostingRegressor\n",
        "\n",
        "\n",
        "# train set과 test set의 input과 output를 각각 이어 붙여서 X,y를 정의 \n",
        "X = np.concatenate((x_train,x_test), axis=0)\n",
        "y = np.concatenate((y_train,y_test), axis=0)\n",
        "\n",
        "# 전체 데이터 X에서 training data에 해당하는 index는 -1, test data에 해당하는 index는 0이 되도록, \n",
        "# 여기서는 [-1, -1, ... , -1, 0, 0, ... , 0] 같은 형태의 1차원 배열 test fold와 predefined split을 정의\n",
        "pds = PredefinedSplit(test_fold=[-1]*len(x_train)+[0]*len(x_test))\n",
        "# grid search 모델 정의, 학습 및 model selection\n",
        "grid_search = GridSearchCV(estimator=ensemble.HistGradientBoostingRegressor(), \n",
        "                   param_grid=param_grid,\n",
        "                   cv=pds, n_jobs=-1, scoring='neg_mean_squared_error', verbose=2)\n",
        "grid_search.fit(X, y)\n",
        "print(grid_search.best_params_)"
      ],
      "execution_count": 63,
      "outputs": [
        {
          "output_type": "stream",
          "name": "stdout",
          "text": [
            "Fitting 1 folds for each of 240 candidates, totalling 240 fits\n",
            "{'early_stopping': 'False', 'learning_rate': 0.02, 'max_depth': 5, 'max_iter': 200, 'min_samples_leaf': 100, 'random_state': 0}\n"
          ]
        }
      ]
    },
    {
      "cell_type": "markdown",
      "metadata": {
        "id": "IIzKOt7bgTVP"
      },
      "source": [
        "--"
      ]
    },
    {
      "cell_type": "code",
      "metadata": {
        "colab": {
          "base_uri": "https://localhost:8080/"
        },
        "id": "eZ5pxlo843x-",
        "outputId": "f9326103-dd72-4271-a0ec-248375af88e5"
      },
      "source": [
        "from sklearn import ensemble\n",
        "from sklearn.metrics import mean_squared_error\n",
        "from sklearn.model_selection import GridSearchCV\n",
        "\n",
        "\n",
        "params = {'max_iter': 200, # 트리의 개수\n",
        "          'max_depth': 5,\n",
        "           'min_samples_leaf': 100,\n",
        "          'learning_rate': 0.02,\n",
        "          'early_stopping':'False',\n",
        "          'random_state':0\n",
        "         } # 'squared_error'와 같음\n",
        "\n",
        "hist = ensemble.HistGradientBoostingRegressor()\n",
        "hist.set_params(**params)\n",
        "         \n",
        "hist.fit(x_train, y_train)\n",
        "\n",
        "mse = mean_squared_error(y_test, hist.predict(x_test))\n",
        "print(\"The mean squared error (MSE) on test set: {:.4f}\".format(mse))\n",
        "print(\"The initial error of API ETA on test set: {:.4f}\".format(mean_squared_error(y_test, x_test[:,0]) ))\n",
        "\n",
        "mae = mean_absolute_error(y_test, hist.predict(x_test))\n",
        "print(\"The mean absolute error (MAE) on test set: {:.4f}\".format(mae))\n",
        "print(\"The initial error of API ETA on test set: {:.4f}\".format(mean_absolute_error(y_test, x_test[:,0]) ))"
      ],
      "execution_count": 68,
      "outputs": [
        {
          "output_type": "stream",
          "name": "stdout",
          "text": [
            "The mean squared error (MSE) on test set: 8.2643\n",
            "The initial error of API ETA on test set: 13.7135\n",
            "The mean absolute error (MAE) on test set: 2.0688\n",
            "The initial error of API ETA on test set: 2.7047\n"
          ]
        }
      ]
    },
    {
      "cell_type": "markdown",
      "metadata": {
        "id": "on81iEdnAk5H"
      },
      "source": [
        "성능 : 8.2643"
      ]
    },
    {
      "cell_type": "markdown",
      "metadata": {
        "id": "cGUmXHH615Zg"
      },
      "source": [
        "------------"
      ]
    },
    {
      "cell_type": "markdown",
      "metadata": {
        "id": "W3pOF-5YPypO"
      },
      "source": [
        "# 카테고리 피쳐 구 추가, PCA 적용"
      ]
    },
    {
      "cell_type": "code",
      "metadata": {
        "id": "2G5VtN-DP18E"
      },
      "source": [
        "# tada_eta['pickup_gu']=pickup_gu_m\n",
        "# tada_eta.head()"
      ],
      "execution_count": null,
      "outputs": []
    },
    {
      "cell_type": "code",
      "metadata": {
        "id": "7nzc3yyw_qQ6"
      },
      "source": [
        "# tada_eta.drop('pickup_gu',axis=1,inplace=True)"
      ],
      "execution_count": null,
      "outputs": []
    },
    {
      "cell_type": "code",
      "metadata": {
        "colab": {
          "base_uri": "https://localhost:8080/",
          "height": 206
        },
        "id": "9PDOLbER_yLE",
        "outputId": "3606896e-51af-485d-a1db-68360e046414"
      },
      "source": [
        "tada_eta.head()"
      ],
      "execution_count": 69,
      "outputs": [
        {
          "output_type": "execute_result",
          "data": {
            "text/html": [
              "<div>\n",
              "<style scoped>\n",
              "    .dataframe tbody tr th:only-of-type {\n",
              "        vertical-align: middle;\n",
              "    }\n",
              "\n",
              "    .dataframe tbody tr th {\n",
              "        vertical-align: top;\n",
              "    }\n",
              "\n",
              "    .dataframe thead th {\n",
              "        text-align: right;\n",
              "    }\n",
              "</style>\n",
              "<table border=\"1\" class=\"dataframe\">\n",
              "  <thead>\n",
              "    <tr style=\"text-align: right;\">\n",
              "      <th></th>\n",
              "      <th>ATA</th>\n",
              "      <th>api_eta</th>\n",
              "      <th>month</th>\n",
              "      <th>hour</th>\n",
              "      <th>distance</th>\n",
              "    </tr>\n",
              "  </thead>\n",
              "  <tbody>\n",
              "    <tr>\n",
              "      <th>0</th>\n",
              "      <td>6.13</td>\n",
              "      <td>8.32</td>\n",
              "      <td>12</td>\n",
              "      <td>22</td>\n",
              "      <td>44.521977</td>\n",
              "    </tr>\n",
              "    <tr>\n",
              "      <th>1</th>\n",
              "      <td>5.37</td>\n",
              "      <td>3.05</td>\n",
              "      <td>12</td>\n",
              "      <td>11</td>\n",
              "      <td>3.989066</td>\n",
              "    </tr>\n",
              "    <tr>\n",
              "      <th>2</th>\n",
              "      <td>6.27</td>\n",
              "      <td>5.00</td>\n",
              "      <td>7</td>\n",
              "      <td>19</td>\n",
              "      <td>4.814699</td>\n",
              "    </tr>\n",
              "    <tr>\n",
              "      <th>3</th>\n",
              "      <td>10.52</td>\n",
              "      <td>8.47</td>\n",
              "      <td>12</td>\n",
              "      <td>21</td>\n",
              "      <td>77.341173</td>\n",
              "    </tr>\n",
              "    <tr>\n",
              "      <th>4</th>\n",
              "      <td>12.45</td>\n",
              "      <td>6.65</td>\n",
              "      <td>7</td>\n",
              "      <td>12</td>\n",
              "      <td>14.888851</td>\n",
              "    </tr>\n",
              "  </tbody>\n",
              "</table>\n",
              "</div>"
            ],
            "text/plain": [
              "     ATA  api_eta  month  hour   distance\n",
              "0   6.13     8.32     12    22  44.521977\n",
              "1   5.37     3.05     12    11   3.989066\n",
              "2   6.27     5.00      7    19   4.814699\n",
              "3  10.52     8.47     12    21  77.341173\n",
              "4  12.45     6.65      7    12  14.888851"
            ]
          },
          "metadata": {},
          "execution_count": 69
        }
      ]
    },
    {
      "cell_type": "code",
      "metadata": {
        "colab": {
          "base_uri": "https://localhost:8080/"
        },
        "id": "ux3YKGQDhuw2",
        "outputId": "850d4b80-fa47-4402-8e61-c9966497bd36"
      },
      "source": [
        "# Principal Components Analysis (PCA)\n",
        "# Using PCA to find the first two principal components of the breast cancer dataset\n",
        "from sklearn.preprocessing import StandardScaler\n",
        "from sklearn.decomposition import PCA\n",
        "from sklearn.datasets import load_breast_cancer\n",
        "\n",
        "# Before applying PCA, each feature should be centered (zero mean) and with unit variance\n",
        "# PCA를 하기전에는 정규화를 해야한다. 그렇지 않으면 성능이 좋지 않을 수 있다..!\n",
        "\n",
        "X_normalized = StandardScaler().fit(x_train).transform(x_train)  \n",
        "pca = PCA(n_components = 2).fit(X_normalized) # n_componets =2 는 2차원으로 변환한다는 걸 뜻한다. \n",
        "X_pca = pca.transform(X_normalized) # transform은 해줘야 한다.\n",
        "\n",
        "# print(train.shape, X_pca.shape)\n",
        "\n",
        "\n",
        "x_normalized = StandardScaler().fit(x_test).transform(x_test)  \n",
        "pca = PCA(n_components = 2).fit(x_normalized) # n_componets =2 는 2차원으로 변환한다는 걸 뜻한다. \n",
        "x_pca = pca.transform(x_normalized) # transform은 해줘야 한다.\n",
        "\n",
        "print(x_train.shape, X_pca.shape,x_test.shape,x_pca.shape)\n",
        "\n",
        "\n"
      ],
      "execution_count": 70,
      "outputs": [
        {
          "output_type": "stream",
          "name": "stdout",
          "text": [
            "(12000, 4) (12000, 2) (1916, 4) (1916, 2)\n"
          ]
        }
      ]
    },
    {
      "cell_type": "code",
      "metadata": {
        "id": "MPuNzzxUENO3"
      },
      "source": [
        "pick_12000,pickup_1916=pickup_gu_m[:12000],pickup_gu_m[12000:]"
      ],
      "execution_count": 71,
      "outputs": []
    },
    {
      "cell_type": "code",
      "metadata": {
        "id": "j5xinoFpFkns"
      },
      "source": [
        "pick_12=np.asarray(pick_12000).reshape(-1,1)\n",
        "pick_19=np.asarray(pickup_1916).reshape(-1,1)"
      ],
      "execution_count": 72,
      "outputs": []
    },
    {
      "cell_type": "code",
      "metadata": {
        "colab": {
          "base_uri": "https://localhost:8080/"
        },
        "id": "NJ_lzdJWGTl_",
        "outputId": "7750a2db-58b2-4fb3-971f-0b11fe03322b"
      },
      "source": [
        "pick_19.shape"
      ],
      "execution_count": 73,
      "outputs": [
        {
          "output_type": "execute_result",
          "data": {
            "text/plain": [
              "(1916, 1)"
            ]
          },
          "metadata": {},
          "execution_count": 73
        }
      ]
    },
    {
      "cell_type": "code",
      "metadata": {
        "id": "Vb3U53M8Ccef"
      },
      "source": [
        " pick_=np.asarray(pickup_gu_m).reshape(-1,1)\n",
        "\n",
        "x_pca=np.concatenate((x_pca,pick_19),axis=1)\n",
        "X_pca=np.concatenate((X_pca,pick_12),axis=1)"
      ],
      "execution_count": 74,
      "outputs": []
    },
    {
      "cell_type": "code",
      "metadata": {
        "id": "Mel19BKTQj4Q"
      },
      "source": [
        "# 파라미터 값 좀 더 확장한 버전으로\n",
        "param_grid = {'max_iter': [100, 200, 300,400],\n",
        "  'max_depth': [1,2, 3, 4, ],\n",
        "   'min_samples_leaf': [1, 20, 50],\n",
        "  'learning_rate': [0.01, 0.02, 0.05],\n",
        "  'early_stopping':['False'],\n",
        "  'categorical_features':[2],\n",
        "  'random_state':[0]} \n",
        "\n",
        "\n",
        "\n",
        "from sklearn.model_selection import GridSearchCV\n",
        "from sklearn.model_selection import PredefinedSplit\n",
        "# from sklearn.ensemble import HistGradientBoostingRegressor\n",
        "\n",
        "\n",
        "# train set과 test set의 input과 output를 각각 이어 붙여서 X,y를 정의 \n",
        "X = np.concatenate((X_pca,x_pca), axis=0)\n",
        "y = np.concatenate((y_train,y_test), axis=0)\n",
        "\n",
        "# 전체 데이터 X에서 training data에 해당하는 index는 -1, test data에 해당하는 index는 0이 되도록, \n",
        "# 여기서는 [-1, -1, ... , -1, 0, 0, ... , 0] 같은 형태의 1차원 배열 test fold와 predefined split을 정의\n",
        "pds = PredefinedSplit(test_fold=[-1]*len(X_pca)+[0]*len(x_pca))\n",
        "# grid search 모델 정의, 학습 및 model selection\n",
        "grid_search = GridSearchCV(estimator=ensemble.HistGradientBoostingRegressor(), \n",
        "                   param_grid=param_grid,\n",
        "                   cv=pds, n_jobs=-1, scoring='neg_mean_squared_error', verbose=2)\n",
        "grid_search.fit(X, y)\n",
        "print(grid_search.best_params_)"
      ],
      "execution_count": null,
      "outputs": []
    },
    {
      "cell_type": "markdown",
      "source": [
        "### PCA를 쓰니 결과가 더 안좋아졌다. PCA 기법은 배제한다."
      ],
      "metadata": {
        "id": "GCR3-kgJyUfZ"
      }
    },
    {
      "cell_type": "code",
      "metadata": {
        "colab": {
          "base_uri": "https://localhost:8080/"
        },
        "id": "Njjt2gNZQs5I",
        "outputId": "a170235e-2e30-4981-d0ef-5123d357c5a7"
      },
      "source": [
        "from sklearn import ensemble\n",
        "from sklearn.metrics import mean_squared_error\n",
        "from sklearn.model_selection import GridSearchCV\n",
        "\n",
        "\n",
        "params = {'max_iter': 100, # 트리의 개수\n",
        "          'max_depth': 4,\n",
        "           'min_samples_leaf': 20,\n",
        "          'learning_rate': 0.05,\n",
        "          'early_stopping':'False'\n",
        "          ,'categorical_features':2,\n",
        "          'random_state':0\n",
        "         } \n",
        "\n",
        "hist = ensemble.HistGradientBoostingRegressor()\n",
        "hist.set_params(**params)\n",
        "         \n",
        "hist.fit(X_pca, y_train)\n",
        "\n",
        "mse = mean_squared_error(y_test, hist.predict(x_pca))\n",
        "print(\"The mean squared error (MSE) on test set: {:.4f}\".format(mse))\n",
        "print(\"The initial error of API ETA on test set: {:.4f}\".format(mean_squared_error(y_test, x_pca[:,0]) ))\n",
        "\n",
        "mae = mean_absolute_error(y_test, hist.predict(x_pca))\n",
        "print(\"The mean absolute error (MAE) on test set: {:.4f}\".format(mae))\n",
        "print(\"The initial error of API ETA on test set: {:.4f}\".format(mean_absolute_error(y_test, x_pca[:,0]) ))"
      ],
      "execution_count": 78,
      "outputs": [
        {
          "output_type": "stream",
          "name": "stdout",
          "text": [
            "The mean squared error (MSE) on test set: 10.5227\n",
            "The initial error of API ETA on test set: 94.1883\n",
            "The mean absolute error (MAE) on test set: 2.4254\n",
            "The initial error of API ETA on test set: 8.4648\n"
          ]
        }
      ]
    },
    {
      "cell_type": "markdown",
      "metadata": {
        "id": "8RYzUj61PsOo"
      },
      "source": [
        "## 최종:\n",
        "### The mean squared error (MSE) on test set: 8.2643"
      ]
    },
    {
      "cell_type": "markdown",
      "metadata": {
        "id": "15oPUfDRQ8In"
      },
      "source": [
        "----------------------------"
      ]
    }
  ]
}