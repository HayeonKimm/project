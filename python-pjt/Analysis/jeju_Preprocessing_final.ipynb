{
 "cells": [
  {
   "cell_type": "markdown",
   "id": "5a6012be",
   "metadata": {},
   "source": [
    "# preprocessing"
   ]
  },
  {
   "cell_type": "code",
   "execution_count": 2,
   "id": "8253104a",
   "metadata": {
    "ExecuteTime": {
     "end_time": "2021-07-19T05:34:07.109490Z",
     "start_time": "2021-07-19T05:34:05.321696Z"
    }
   },
   "outputs": [],
   "source": [
    "import pandas as pd\n",
    "import seaborn as sns\n",
    "import matplotlib.pyplot as plt\n",
    "plt.rcParams['font.family'] = 'NanumGothic'  #Windows\n",
    "# plt.rcParams['font.family']='AppleGothic'    # Mac"
   ]
  },
  {
   "cell_type": "code",
   "execution_count": 3,
   "id": "e2786ff3",
   "metadata": {
    "ExecuteTime": {
     "end_time": "2021-07-19T05:34:07.125480Z",
     "start_time": "2021-07-19T05:34:07.111487Z"
    }
   },
   "outputs": [],
   "source": [
    "%matplotlib inline"
   ]
  },
  {
   "cell_type": "code",
   "execution_count": 4,
   "id": "fe9cb4f6",
   "metadata": {
    "ExecuteTime": {
     "end_time": "2021-07-19T05:34:07.469267Z",
     "start_time": "2021-07-19T05:34:07.128477Z"
    }
   },
   "outputs": [],
   "source": [
    "df=pd.read_csv(\"../전체 데이터/김하연_원본데이터.csv\",encoding='cp949',low_memory=False) # Mac\n",
    "df=pd.read_csv(\"..\\\\전체 데이터\\\\김하연_원본데이터.csv\",encoding='cp949',low_memory=False) # Windows"
   ]
  },
  {
   "cell_type": "code",
   "execution_count": 5,
   "id": "b1f191f2",
   "metadata": {
    "ExecuteTime": {
     "end_time": "2021-07-19T05:34:07.500247Z",
     "start_time": "2021-07-19T05:34:07.474264Z"
    }
   },
   "outputs": [
    {
     "data": {
      "text/html": [
       "<div>\n",
       "<style scoped>\n",
       "    .dataframe tbody tr th:only-of-type {\n",
       "        vertical-align: middle;\n",
       "    }\n",
       "\n",
       "    .dataframe tbody tr th {\n",
       "        vertical-align: top;\n",
       "    }\n",
       "\n",
       "    .dataframe thead th {\n",
       "        text-align: right;\n",
       "    }\n",
       "</style>\n",
       "<table border=\"1\" class=\"dataframe\">\n",
       "  <thead>\n",
       "    <tr style=\"text-align: right;\">\n",
       "      <th></th>\n",
       "      <th>장소 POI에 대한 ID 구분 번호 체계</th>\n",
       "      <th>위치좌표 X축값</th>\n",
       "      <th>위치좌표 Y축값</th>\n",
       "      <th>구분</th>\n",
       "      <th>장소명</th>\n",
       "      <th>소재지</th>\n",
       "      <th>데이터기준일자</th>\n",
       "    </tr>\n",
       "  </thead>\n",
       "  <tbody>\n",
       "    <tr>\n",
       "      <th>0</th>\n",
       "      <td>3</td>\n",
       "      <td>126.568803</td>\n",
       "      <td>33.236546</td>\n",
       "      <td>교통시설</td>\n",
       "      <td>동방파제</td>\n",
       "      <td>제주특별자치도 서귀포시 서귀동 758-2</td>\n",
       "      <td>2015-12-31</td>\n",
       "    </tr>\n",
       "    <tr>\n",
       "      <th>1</th>\n",
       "      <td>4</td>\n",
       "      <td>126.562554</td>\n",
       "      <td>33.235071</td>\n",
       "      <td>지명관련</td>\n",
       "      <td>새섬</td>\n",
       "      <td>제주특별자치도 서귀포시 서귀동 산 3-3</td>\n",
       "      <td>2015-12-31</td>\n",
       "    </tr>\n",
       "    <tr>\n",
       "      <th>2</th>\n",
       "      <td>5</td>\n",
       "      <td>126.599675</td>\n",
       "      <td>33.230314</td>\n",
       "      <td>지명관련</td>\n",
       "      <td>섶섬</td>\n",
       "      <td>제주특별자치도 서귀포시 보목동 산 1</td>\n",
       "      <td>2015-12-31</td>\n",
       "    </tr>\n",
       "    <tr>\n",
       "      <th>3</th>\n",
       "      <td>6</td>\n",
       "      <td>126.565891</td>\n",
       "      <td>33.226031</td>\n",
       "      <td>지명관련</td>\n",
       "      <td>문섬</td>\n",
       "      <td>제주특별자치도 서귀포시 서귀동 산 4</td>\n",
       "      <td>2015-12-31</td>\n",
       "    </tr>\n",
       "    <tr>\n",
       "      <th>4</th>\n",
       "      <td>7</td>\n",
       "      <td>126.516395</td>\n",
       "      <td>33.218414</td>\n",
       "      <td>지명관련</td>\n",
       "      <td>범섬</td>\n",
       "      <td>제주특별자치도 서귀포시 법환동 산 2</td>\n",
       "      <td>2015-12-31</td>\n",
       "    </tr>\n",
       "  </tbody>\n",
       "</table>\n",
       "</div>"
      ],
      "text/plain": [
       "   장소 POI에 대한 ID 구분 번호 체계    위치좌표 X축값   위치좌표 Y축값     구분   장소명  \\\n",
       "0                        3  126.568803  33.236546  교통시설  동방파제   \n",
       "1                        4  126.562554  33.235071  지명관련    새섬   \n",
       "2                        5  126.599675  33.230314  지명관련    섶섬   \n",
       "3                        6  126.565891  33.226031  지명관련    문섬   \n",
       "4                        7  126.516395  33.218414  지명관련    범섬   \n",
       "\n",
       "                      소재지     데이터기준일자  \n",
       "0  제주특별자치도 서귀포시 서귀동 758-2  2015-12-31  \n",
       "1  제주특별자치도 서귀포시 서귀동 산 3-3  2015-12-31  \n",
       "2    제주특별자치도 서귀포시 보목동 산 1  2015-12-31  \n",
       "3    제주특별자치도 서귀포시 서귀동 산 4  2015-12-31  \n",
       "4    제주특별자치도 서귀포시 법환동 산 2  2015-12-31  "
      ]
     },
     "execution_count": 5,
     "metadata": {},
     "output_type": "execute_result"
    }
   ],
   "source": [
    "df.head()"
   ]
  },
  {
   "cell_type": "code",
   "execution_count": 6,
   "id": "cdeaaa71",
   "metadata": {
    "ExecuteTime": {
     "end_time": "2021-07-19T05:34:07.515237Z",
     "start_time": "2021-07-19T05:34:07.503246Z"
    }
   },
   "outputs": [
    {
     "data": {
      "text/plain": [
       "Index(['장소 POI에 대한 ID 구분 번호 체계 ', '위치좌표 X축값 ', '위치좌표 Y축값 ', '구분', '장소명', '소재지',\n",
       "       '데이터기준일자'],\n",
       "      dtype='object')"
      ]
     },
     "execution_count": 6,
     "metadata": {},
     "output_type": "execute_result"
    }
   ],
   "source": [
    "df.columns"
   ]
  },
  {
   "cell_type": "markdown",
   "id": "eb7665fa",
   "metadata": {},
   "source": [
    "### 칼럼 정리"
   ]
  },
  {
   "cell_type": "code",
   "execution_count": 7,
   "id": "4e6e5885",
   "metadata": {
    "ExecuteTime": {
     "end_time": "2021-07-19T05:34:07.530229Z",
     "start_time": "2021-07-19T05:34:07.517237Z"
    }
   },
   "outputs": [],
   "source": [
    "df = df.drop(['데이터기준일자'], axis=1)"
   ]
  },
  {
   "cell_type": "code",
   "execution_count": 8,
   "id": "2509681a",
   "metadata": {
    "ExecuteTime": {
     "end_time": "2021-07-19T05:34:07.560209Z",
     "start_time": "2021-07-19T05:34:07.534227Z"
    }
   },
   "outputs": [
    {
     "data": {
      "text/html": [
       "<div>\n",
       "<style scoped>\n",
       "    .dataframe tbody tr th:only-of-type {\n",
       "        vertical-align: middle;\n",
       "    }\n",
       "\n",
       "    .dataframe tbody tr th {\n",
       "        vertical-align: top;\n",
       "    }\n",
       "\n",
       "    .dataframe thead th {\n",
       "        text-align: right;\n",
       "    }\n",
       "</style>\n",
       "<table border=\"1\" class=\"dataframe\">\n",
       "  <thead>\n",
       "    <tr style=\"text-align: right;\">\n",
       "      <th></th>\n",
       "      <th>장소 POI에 대한 ID 구분 번호 체계</th>\n",
       "      <th>위치좌표 X축값</th>\n",
       "      <th>위치좌표 Y축값</th>\n",
       "      <th>구분</th>\n",
       "      <th>장소명</th>\n",
       "      <th>소재지</th>\n",
       "    </tr>\n",
       "  </thead>\n",
       "  <tbody>\n",
       "    <tr>\n",
       "      <th>0</th>\n",
       "      <td>3</td>\n",
       "      <td>126.568803</td>\n",
       "      <td>33.236546</td>\n",
       "      <td>교통시설</td>\n",
       "      <td>동방파제</td>\n",
       "      <td>제주특별자치도 서귀포시 서귀동 758-2</td>\n",
       "    </tr>\n",
       "    <tr>\n",
       "      <th>1</th>\n",
       "      <td>4</td>\n",
       "      <td>126.562554</td>\n",
       "      <td>33.235071</td>\n",
       "      <td>지명관련</td>\n",
       "      <td>새섬</td>\n",
       "      <td>제주특별자치도 서귀포시 서귀동 산 3-3</td>\n",
       "    </tr>\n",
       "    <tr>\n",
       "      <th>2</th>\n",
       "      <td>5</td>\n",
       "      <td>126.599675</td>\n",
       "      <td>33.230314</td>\n",
       "      <td>지명관련</td>\n",
       "      <td>섶섬</td>\n",
       "      <td>제주특별자치도 서귀포시 보목동 산 1</td>\n",
       "    </tr>\n",
       "    <tr>\n",
       "      <th>3</th>\n",
       "      <td>6</td>\n",
       "      <td>126.565891</td>\n",
       "      <td>33.226031</td>\n",
       "      <td>지명관련</td>\n",
       "      <td>문섬</td>\n",
       "      <td>제주특별자치도 서귀포시 서귀동 산 4</td>\n",
       "    </tr>\n",
       "    <tr>\n",
       "      <th>4</th>\n",
       "      <td>7</td>\n",
       "      <td>126.516395</td>\n",
       "      <td>33.218414</td>\n",
       "      <td>지명관련</td>\n",
       "      <td>범섬</td>\n",
       "      <td>제주특별자치도 서귀포시 법환동 산 2</td>\n",
       "    </tr>\n",
       "  </tbody>\n",
       "</table>\n",
       "</div>"
      ],
      "text/plain": [
       "   장소 POI에 대한 ID 구분 번호 체계    위치좌표 X축값   위치좌표 Y축값     구분   장소명  \\\n",
       "0                        3  126.568803  33.236546  교통시설  동방파제   \n",
       "1                        4  126.562554  33.235071  지명관련    새섬   \n",
       "2                        5  126.599675  33.230314  지명관련    섶섬   \n",
       "3                        6  126.565891  33.226031  지명관련    문섬   \n",
       "4                        7  126.516395  33.218414  지명관련    범섬   \n",
       "\n",
       "                      소재지  \n",
       "0  제주특별자치도 서귀포시 서귀동 758-2  \n",
       "1  제주특별자치도 서귀포시 서귀동 산 3-3  \n",
       "2    제주특별자치도 서귀포시 보목동 산 1  \n",
       "3    제주특별자치도 서귀포시 서귀동 산 4  \n",
       "4    제주특별자치도 서귀포시 법환동 산 2  "
      ]
     },
     "execution_count": 8,
     "metadata": {},
     "output_type": "execute_result"
    }
   ],
   "source": [
    "df.head()"
   ]
  },
  {
   "cell_type": "markdown",
   "id": "022d7d8a",
   "metadata": {},
   "source": [
    "### 이상치 제거"
   ]
  },
  {
   "cell_type": "code",
   "execution_count": 9,
   "id": "c2466ffe",
   "metadata": {
    "ExecuteTime": {
     "end_time": "2021-07-19T05:34:07.592189Z",
     "start_time": "2021-07-19T05:34:07.563210Z"
    }
   },
   "outputs": [],
   "source": [
    "place_list=df['장소명'].unique().tolist()\n",
    "# place_list"
   ]
  },
  {
   "cell_type": "code",
   "execution_count": 10,
   "id": "fac90427",
   "metadata": {
    "ExecuteTime": {
     "end_time": "2021-07-19T05:34:07.624170Z",
     "start_time": "2021-07-19T05:34:07.593189Z"
    }
   },
   "outputs": [
    {
     "data": {
      "text/plain": [
       "65772"
      ]
     },
     "execution_count": 10,
     "metadata": {},
     "output_type": "execute_result"
    }
   ],
   "source": [
    "len(df['장소명'].unique().tolist())"
   ]
  },
  {
   "cell_type": "code",
   "execution_count": 11,
   "id": "0e77a855",
   "metadata": {
    "ExecuteTime": {
     "end_time": "2021-07-19T05:34:07.656150Z",
     "start_time": "2021-07-19T05:34:07.626173Z"
    }
   },
   "outputs": [],
   "source": [
    "df=df[~df['장소명'].isin(['1', '2', '3','4','5','6','7','8','9'])]"
   ]
  },
  {
   "cell_type": "code",
   "execution_count": 12,
   "id": "0d3914fe",
   "metadata": {
    "ExecuteTime": {
     "end_time": "2021-07-19T05:34:09.027308Z",
     "start_time": "2021-07-19T05:34:07.657149Z"
    }
   },
   "outputs": [
    {
     "name": "stdout",
     "output_type": "stream",
     "text": [
      "['1', '2', '3', '4', '5', '6', '7', '8', '9', '10', '11', '12', '13', '14', '15', '16', '17', '18']\n"
     ]
    }
   ],
   "source": [
    "real_list=[]\n",
    "\n",
    "for i in range(1,1001):\n",
    "    if str(i) in place_list:\n",
    "        real_list.append(str(i))\n",
    "\n",
    "print(real_list)"
   ]
  },
  {
   "cell_type": "code",
   "execution_count": 13,
   "id": "4bd0f9ac",
   "metadata": {
    "ExecuteTime": {
     "end_time": "2021-07-19T05:34:09.058310Z",
     "start_time": "2021-07-19T05:34:09.029317Z"
    }
   },
   "outputs": [],
   "source": [
    "df=df[~df['장소명'].isin(['10', '11', '12', '13', '14', '15', '16', '17', '18'])]"
   ]
  },
  {
   "cell_type": "code",
   "execution_count": 14,
   "id": "7f9ff35b",
   "metadata": {
    "ExecuteTime": {
     "end_time": "2021-07-19T05:34:09.089271Z",
     "start_time": "2021-07-19T05:34:09.060287Z"
    }
   },
   "outputs": [],
   "source": [
    "df=df[~df['장소명'].isin(['-'])]"
   ]
  },
  {
   "cell_type": "code",
   "execution_count": 15,
   "id": "d23fbcaa",
   "metadata": {
    "ExecuteTime": {
     "end_time": "2021-07-19T05:34:09.119253Z",
     "start_time": "2021-07-19T05:34:09.091272Z"
    }
   },
   "outputs": [],
   "source": [
    "df=df[~df['장소명'].isin(['N6',\n",
    " 'N4',\n",
    " 'N5',\n",
    " 'N7',\n",
    " 'S4',\n",
    " 'S3',\n",
    " 'S5',\n",
    " 'N2',\n",
    " 'N3',\n",
    " 'N8',\n",
    " 'N1',\n",
    " 'S9',\n",
    " 'S1',\n",
    " 'S2',\n",
    " 'S6',\n",
    " 'S7',\n",
    " 'S8',\n",
    " 'E9',\n",
    " 'N9',\n",
    " 'E4',\n",
    " 'E3',\n",
    " 'E1',\n",
    " 'E2',\n",
    " 'E5',\n",
    " 'E6',\n",
    " 'E8',\n",
    " 'E7'])]"
   ]
  },
  {
   "cell_type": "markdown",
   "id": "33571cdf",
   "metadata": {},
   "source": [
    "### 시, 동 칼럼으로 나누기 "
   ]
  },
  {
   "cell_type": "code",
   "execution_count": 16,
   "id": "cd52a652",
   "metadata": {
    "ExecuteTime": {
     "end_time": "2021-07-19T05:34:10.533379Z",
     "start_time": "2021-07-19T05:34:09.121250Z"
    }
   },
   "outputs": [],
   "source": [
    "sido_list=[]\n",
    "sido = df['소재지'].str.contains('제주시')\n",
    "for i in range(len(df)):\n",
    "\n",
    "    if sido.iloc[i] == True:\n",
    "        sido_list.append('제주시')\n",
    "        \n",
    "    \n",
    "    elif sido.iloc[i] == False:\n",
    "        sido_list.append('서귀포시')\n",
    "        \n",
    "    else:\n",
    "        pass\n",
    "    \n",
    "# print(sido_list)"
   ]
  },
  {
   "cell_type": "code",
   "execution_count": 17,
   "id": "62f4474b",
   "metadata": {
    "ExecuteTime": {
     "end_time": "2021-07-19T05:34:10.673294Z",
     "start_time": "2021-07-19T05:34:10.535379Z"
    }
   },
   "outputs": [],
   "source": [
    "sojaeji = []\n",
    "\n",
    "for i in df['소재지'].str.split(' '):\n",
    "    sojaeji.append(i[1])    "
   ]
  },
  {
   "cell_type": "code",
   "execution_count": 18,
   "id": "2cd85fcb",
   "metadata": {
    "ExecuteTime": {
     "end_time": "2021-07-19T05:34:10.689283Z",
     "start_time": "2021-07-19T05:34:10.676292Z"
    }
   },
   "outputs": [],
   "source": [
    "df['시구분'] = sojaeji"
   ]
  },
  {
   "cell_type": "code",
   "execution_count": 19,
   "id": "0033d5d9",
   "metadata": {
    "ExecuteTime": {
     "end_time": "2021-07-19T05:34:10.860180Z",
     "start_time": "2021-07-19T05:34:10.691282Z"
    }
   },
   "outputs": [],
   "source": [
    "sojaeji2 = []\n",
    "\n",
    "for i in df['소재지'].str.split(' '):\n",
    "    sojaeji2.append(i[2])  "
   ]
  },
  {
   "cell_type": "code",
   "execution_count": 20,
   "id": "5816b308",
   "metadata": {
    "ExecuteTime": {
     "end_time": "2021-07-19T05:34:10.875171Z",
     "start_time": "2021-07-19T05:34:10.862179Z"
    }
   },
   "outputs": [],
   "source": [
    "df['동구분'] = sojaeji2"
   ]
  },
  {
   "cell_type": "code",
   "execution_count": 21,
   "id": "da8a2e10",
   "metadata": {
    "ExecuteTime": {
     "end_time": "2021-07-19T05:34:10.906150Z",
     "start_time": "2021-07-19T05:34:10.877169Z"
    },
    "scrolled": false
   },
   "outputs": [
    {
     "data": {
      "text/html": [
       "<div>\n",
       "<style scoped>\n",
       "    .dataframe tbody tr th:only-of-type {\n",
       "        vertical-align: middle;\n",
       "    }\n",
       "\n",
       "    .dataframe tbody tr th {\n",
       "        vertical-align: top;\n",
       "    }\n",
       "\n",
       "    .dataframe thead th {\n",
       "        text-align: right;\n",
       "    }\n",
       "</style>\n",
       "<table border=\"1\" class=\"dataframe\">\n",
       "  <thead>\n",
       "    <tr style=\"text-align: right;\">\n",
       "      <th></th>\n",
       "      <th>장소 POI에 대한 ID 구분 번호 체계</th>\n",
       "      <th>위치좌표 X축값</th>\n",
       "      <th>위치좌표 Y축값</th>\n",
       "      <th>구분</th>\n",
       "      <th>장소명</th>\n",
       "      <th>소재지</th>\n",
       "      <th>시구분</th>\n",
       "      <th>동구분</th>\n",
       "    </tr>\n",
       "  </thead>\n",
       "  <tbody>\n",
       "    <tr>\n",
       "      <th>0</th>\n",
       "      <td>3</td>\n",
       "      <td>126.568803</td>\n",
       "      <td>33.236546</td>\n",
       "      <td>교통시설</td>\n",
       "      <td>동방파제</td>\n",
       "      <td>제주특별자치도 서귀포시 서귀동 758-2</td>\n",
       "      <td>서귀포시</td>\n",
       "      <td>서귀동</td>\n",
       "    </tr>\n",
       "    <tr>\n",
       "      <th>1</th>\n",
       "      <td>4</td>\n",
       "      <td>126.562554</td>\n",
       "      <td>33.235071</td>\n",
       "      <td>지명관련</td>\n",
       "      <td>새섬</td>\n",
       "      <td>제주특별자치도 서귀포시 서귀동 산 3-3</td>\n",
       "      <td>서귀포시</td>\n",
       "      <td>서귀동</td>\n",
       "    </tr>\n",
       "    <tr>\n",
       "      <th>2</th>\n",
       "      <td>5</td>\n",
       "      <td>126.599675</td>\n",
       "      <td>33.230314</td>\n",
       "      <td>지명관련</td>\n",
       "      <td>섶섬</td>\n",
       "      <td>제주특별자치도 서귀포시 보목동 산 1</td>\n",
       "      <td>서귀포시</td>\n",
       "      <td>보목동</td>\n",
       "    </tr>\n",
       "    <tr>\n",
       "      <th>3</th>\n",
       "      <td>6</td>\n",
       "      <td>126.565891</td>\n",
       "      <td>33.226031</td>\n",
       "      <td>지명관련</td>\n",
       "      <td>문섬</td>\n",
       "      <td>제주특별자치도 서귀포시 서귀동 산 4</td>\n",
       "      <td>서귀포시</td>\n",
       "      <td>서귀동</td>\n",
       "    </tr>\n",
       "    <tr>\n",
       "      <th>4</th>\n",
       "      <td>7</td>\n",
       "      <td>126.516395</td>\n",
       "      <td>33.218414</td>\n",
       "      <td>지명관련</td>\n",
       "      <td>범섬</td>\n",
       "      <td>제주특별자치도 서귀포시 법환동 산 2</td>\n",
       "      <td>서귀포시</td>\n",
       "      <td>법환동</td>\n",
       "    </tr>\n",
       "  </tbody>\n",
       "</table>\n",
       "</div>"
      ],
      "text/plain": [
       "   장소 POI에 대한 ID 구분 번호 체계    위치좌표 X축값   위치좌표 Y축값     구분   장소명  \\\n",
       "0                        3  126.568803  33.236546  교통시설  동방파제   \n",
       "1                        4  126.562554  33.235071  지명관련    새섬   \n",
       "2                        5  126.599675  33.230314  지명관련    섶섬   \n",
       "3                        6  126.565891  33.226031  지명관련    문섬   \n",
       "4                        7  126.516395  33.218414  지명관련    범섬   \n",
       "\n",
       "                      소재지   시구분  동구분  \n",
       "0  제주특별자치도 서귀포시 서귀동 758-2  서귀포시  서귀동  \n",
       "1  제주특별자치도 서귀포시 서귀동 산 3-3  서귀포시  서귀동  \n",
       "2    제주특별자치도 서귀포시 보목동 산 1  서귀포시  보목동  \n",
       "3    제주특별자치도 서귀포시 서귀동 산 4  서귀포시  서귀동  \n",
       "4    제주특별자치도 서귀포시 법환동 산 2  서귀포시  법환동  "
      ]
     },
     "execution_count": 21,
     "metadata": {},
     "output_type": "execute_result"
    }
   ],
   "source": [
    "df.head()"
   ]
  },
  {
   "cell_type": "markdown",
   "id": "1e75061a",
   "metadata": {},
   "source": [
    "### 위도,경도 이상치 검사"
   ]
  },
  {
   "cell_type": "code",
   "execution_count": 22,
   "id": "07ea5dfb",
   "metadata": {
    "ExecuteTime": {
     "end_time": "2021-07-19T05:34:11.123015Z",
     "start_time": "2021-07-19T05:34:10.908148Z"
    }
   },
   "outputs": [
    {
     "data": {
      "text/plain": [
       "<matplotlib.axes._subplots.AxesSubplot at 0x7fd9a119a220>"
      ]
     },
     "execution_count": 22,
     "metadata": {},
     "output_type": "execute_result"
    },
    {
     "data": {
      "image/png": "[encoded data removed]",
      "text/plain": [
       "<Figure size 360x360 with 1 Axes>"
      ]
     },
     "metadata": {
      "needs_background": "light"
     },
     "output_type": "display_data"
    }
   ],
   "source": [
    "plt.figure(figsize=(5,5))\n",
    "\n",
    "sns.set_style('darkgrid')\n",
    "sns.boxplot(data=df['위치좌표 Y축값 '])"
   ]
  },
  {
   "cell_type": "code",
   "execution_count": 23,
   "id": "ffbe3bd9",
   "metadata": {
    "ExecuteTime": {
     "end_time": "2021-07-19T05:34:11.355872Z",
     "start_time": "2021-07-19T05:34:11.130015Z"
    }
   },
   "outputs": [
    {
     "data": {
      "text/plain": [
       "<matplotlib.axes._subplots.AxesSubplot at 0x7fd9a21ea850>"
      ]
     },
     "execution_count": 23,
     "metadata": {},
     "output_type": "execute_result"
    },
    {
     "data": {
      "image/png": "[encoded data removed]",
      "text/plain": [
       "<Figure size 360x360 with 1 Axes>"
      ]
     },
     "metadata": {},
     "output_type": "display_data"
    }
   ],
   "source": [
    "plt.figure(figsize=(5,5))\n",
    "\n",
    "sns.set_style('darkgrid')\n",
    "sns.boxplot(data=df['위치좌표 X축값 '],color='red')"
   ]
  },
  {
   "cell_type": "code",
   "execution_count": 24,
   "id": "78fa6b3f",
   "metadata": {
    "ExecuteTime": {
     "end_time": "2021-07-19T05:34:11.854566Z",
     "start_time": "2021-07-19T05:34:11.359871Z"
    }
   },
   "outputs": [
    {
     "data": {
      "text/plain": [
       "{'whiskers': [<matplotlib.lines.Line2D at 0x7fd9a415a370>,\n",
       "  <matplotlib.lines.Line2D at 0x7fd9a415a6d0>],\n",
       " 'caps': [<matplotlib.lines.Line2D at 0x7fd9a4d1aeb0>,\n",
       "  <matplotlib.lines.Line2D at 0x7fd9a4e8cf70>],\n",
       " 'boxes': [<matplotlib.lines.Line2D at 0x7fd9a4d1ad60>],\n",
       " 'medians': [<matplotlib.lines.Line2D at 0x7fd9a36d5a30>],\n",
       " 'fliers': [<matplotlib.lines.Line2D at 0x7fd9a415a8e0>],\n",
       " 'means': []}"
      ]
     },
     "execution_count": 24,
     "metadata": {},
     "output_type": "execute_result"
    },
    {
     "data": {
      "text/plain": [
       "<Figure size 1080x576 with 0 Axes>"
      ]
     },
     "metadata": {},
     "output_type": "display_data"
    },
    {
     "data": {
      "image/png": "[encoded data removed]",
      "text/plain": [
       "<Figure size 432x288 with 2 Axes>"
      ]
     },
     "metadata": {},
     "output_type": "display_data"
    }
   ],
   "source": [
    "plt.figure(figsize = (15,8))\n",
    "fig, ax = plt.subplots(1,2)\n",
    "\n",
    "df['위치좌표 Y축값 '].plot(kind = 'hist', ax = ax[0])\n",
    "plt.boxplot(df['위치좌표 Y축값 '])"
   ]
  },
  {
   "cell_type": "code",
   "execution_count": 25,
   "id": "811df85c",
   "metadata": {
    "ExecuteTime": {
     "end_time": "2021-07-19T05:34:11.916529Z",
     "start_time": "2021-07-19T05:34:11.855565Z"
    }
   },
   "outputs": [
    {
     "name": "stdout",
     "output_type": "stream",
     "text": [
      "1분위수 :  33.303386749999994\n",
      "3분위수 :  33.500108000000004\n"
     ]
    },
    {
     "data": {
      "text/html": [
       "<div>\n",
       "<style scoped>\n",
       "    .dataframe tbody tr th:only-of-type {\n",
       "        vertical-align: middle;\n",
       "    }\n",
       "\n",
       "    .dataframe tbody tr th {\n",
       "        vertical-align: top;\n",
       "    }\n",
       "\n",
       "    .dataframe thead th {\n",
       "        text-align: right;\n",
       "    }\n",
       "</style>\n",
       "<table border=\"1\" class=\"dataframe\">\n",
       "  <thead>\n",
       "    <tr style=\"text-align: right;\">\n",
       "      <th></th>\n",
       "      <th>장소 POI에 대한 ID 구분 번호 체계</th>\n",
       "      <th>위치좌표 X축값</th>\n",
       "      <th>위치좌표 Y축값</th>\n",
       "      <th>구분</th>\n",
       "      <th>장소명</th>\n",
       "      <th>소재지</th>\n",
       "      <th>시구분</th>\n",
       "      <th>동구분</th>\n",
       "    </tr>\n",
       "  </thead>\n",
       "  <tbody>\n",
       "    <tr>\n",
       "      <th>8</th>\n",
       "      <td>11</td>\n",
       "      <td>126.270300</td>\n",
       "      <td>33.425837</td>\n",
       "      <td>교육기관</td>\n",
       "      <td>수원초등학교</td>\n",
       "      <td>제주특별자치도 제주시 한림읍 대림리 1591</td>\n",
       "      <td>제주시</td>\n",
       "      <td>한림읍</td>\n",
       "    </tr>\n",
       "    <tr>\n",
       "      <th>9</th>\n",
       "      <td>12</td>\n",
       "      <td>126.312871</td>\n",
       "      <td>33.420172</td>\n",
       "      <td>교육기관</td>\n",
       "      <td>어도초등학교</td>\n",
       "      <td>제주특별자치도 제주시 애월읍 봉성리 3276</td>\n",
       "      <td>제주시</td>\n",
       "      <td>애월읍</td>\n",
       "    </tr>\n",
       "    <tr>\n",
       "      <th>10</th>\n",
       "      <td>13</td>\n",
       "      <td>126.293435</td>\n",
       "      <td>33.442419</td>\n",
       "      <td>교육기관</td>\n",
       "      <td>귀덕초등학교</td>\n",
       "      <td>제주특별자치도 제주시 한림읍 귀덕리 1118</td>\n",
       "      <td>제주시</td>\n",
       "      <td>한림읍</td>\n",
       "    </tr>\n",
       "    <tr>\n",
       "      <th>11</th>\n",
       "      <td>14</td>\n",
       "      <td>126.330457</td>\n",
       "      <td>33.435404</td>\n",
       "      <td>교육기관</td>\n",
       "      <td>납읍초등학교</td>\n",
       "      <td>제주특별자치도 제주시 애월읍 납읍리 1504-2</td>\n",
       "      <td>제주시</td>\n",
       "      <td>애월읍</td>\n",
       "    </tr>\n",
       "    <tr>\n",
       "      <th>12</th>\n",
       "      <td>15</td>\n",
       "      <td>126.437909</td>\n",
       "      <td>33.476643</td>\n",
       "      <td>지명관련</td>\n",
       "      <td>참오랭이</td>\n",
       "      <td>제주특별자치도 제주시 외도일동 21</td>\n",
       "      <td>제주시</td>\n",
       "      <td>외도일동</td>\n",
       "    </tr>\n",
       "  </tbody>\n",
       "</table>\n",
       "</div>"
      ],
      "text/plain": [
       "    장소 POI에 대한 ID 구분 번호 체계    위치좌표 X축값   위치좌표 Y축값     구분     장소명  \\\n",
       "8                        11  126.270300  33.425837  교육기관  수원초등학교   \n",
       "9                        12  126.312871  33.420172  교육기관  어도초등학교   \n",
       "10                       13  126.293435  33.442419  교육기관  귀덕초등학교   \n",
       "11                       14  126.330457  33.435404  교육기관  납읍초등학교   \n",
       "12                       15  126.437909  33.476643  지명관련    참오랭이   \n",
       "\n",
       "                           소재지  시구분   동구분  \n",
       "8     제주특별자치도 제주시 한림읍 대림리 1591  제주시   한림읍  \n",
       "9     제주특별자치도 제주시 애월읍 봉성리 3276  제주시   애월읍  \n",
       "10    제주특별자치도 제주시 한림읍 귀덕리 1118  제주시   한림읍  \n",
       "11  제주특별자치도 제주시 애월읍 납읍리 1504-2  제주시   애월읍  \n",
       "12         제주특별자치도 제주시 외도일동 21  제주시  외도일동  "
      ]
     },
     "execution_count": 25,
     "metadata": {},
     "output_type": "execute_result"
    }
   ],
   "source": [
    "first_quantile = df['위치좌표 Y축값 '].quantile(0.25)\n",
    "third_quantile = df['위치좌표 Y축값 '].quantile(0.75)\n",
    "print('1분위수 : ', first_quantile)\n",
    "print('3분위수 : ', third_quantile)\n",
    "\n",
    "df_quantile = df[(df['위치좌표 Y축값 '] >= first_quantile) & (df['위치좌표 Y축값 '] <= third_quantile)]\n",
    "df_quantile.head()"
   ]
  },
  {
   "cell_type": "markdown",
   "id": "887e148f",
   "metadata": {},
   "source": [
    "### 파일 저장"
   ]
  },
  {
   "cell_type": "code",
   "execution_count": 27,
   "id": "2589634a",
   "metadata": {
    "ExecuteTime": {
     "end_time": "2021-07-19T05:34:11.932518Z",
     "start_time": "2021-07-19T05:34:11.918527Z"
    }
   },
   "outputs": [],
   "source": [
    "# df.to_csv('../전체 데이터/김하연_가공데이터.csv',index=False,encoding='cp949') # Mac\n",
    "# df.to_csv('..\\\\전체 데이터\\\\김하연_가공데이터.csv',index=False,encoding='cp949') # Windwos"
   ]
  }
 ],
 "metadata": {
  "hide_input": false,
  "kernelspec": {
   "display_name": "Python 3",
   "language": "python",
   "name": "python3"
  },
  "language_info": {
   "codemirror_mode": {
    "name": "ipython",
    "version": 3
   },
   "file_extension": ".py",
   "mimetype": "text/x-python",
   "name": "python",
   "nbconvert_exporter": "python",
   "pygments_lexer": "ipython3",
   "version": "3.8.3"
  },
  "toc": {
   "base_numbering": 1,
   "nav_menu": {},
   "number_sections": true,
   "sideBar": true,
   "skip_h1_title": false,
   "title_cell": "Table of Contents",
   "title_sidebar": "Contents",
   "toc_cell": false,
   "toc_position": {},
   "toc_section_display": true,
   "toc_window_display": true
  },
  "varInspector": {
   "cols": {
    "lenName": 16,
    "lenType": 16,
    "lenVar": 40
   },
   "kernels_config": {
    "python": {
     "delete_cmd_postfix": "",
     "delete_cmd_prefix": "del ",
     "library": "var_list.py",
     "varRefreshCmd": "print(var_dic_list())"
    },
    "r": {
     "delete_cmd_postfix": ") ",
     "delete_cmd_prefix": "rm(",
     "library": "var_list.r",
     "varRefreshCmd": "cat(var_dic_list()) "
    }
   },
   "types_to_exclude": [
    "module",
    "function",
    "builtin_function_or_method",
    "instance",
    "_Feature"
   ],
   "window_display": false
  }
 },
 "nbformat": 4,
 "nbformat_minor": 5
}
