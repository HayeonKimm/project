{
 "cells": [
  {
   "cell_type": "code",
   "execution_count": 1,
   "id": "522b306c",
   "metadata": {},
   "outputs": [],
   "source": [
    "import pandas as pd\n",
    "import numpy as np\n",
    "import seaborn as sns\n",
    "import missingno"
   ]
  },
  {
   "cell_type": "code",
   "execution_count": 31,
   "id": "53e354d9",
   "metadata": {},
   "outputs": [],
   "source": [
    "import matplotlib.pyplot as plt\n",
    "from matplotlib import font_manager,rc\n",
    "\n",
    "plt.rc('font',family= 'Malgun Gothic')  # 한글깨짐방지 두줄.\n",
    "plt.rc('axes',unicode_minus=False)\n",
    "\n",
    "\n",
    "# 그래프가 노트북 안에 보이게 하기 위해\n",
    "%matplotlib inline"
   ]
  },
  {
   "cell_type": "code",
   "execution_count": 32,
   "id": "c0743819",
   "metadata": {},
   "outputs": [],
   "source": [
    "df=pd.read_csv(\"../input/서울특별시 학원 교습소정보.csv\",low_memory=False,encoding='cp949')"
   ]
  },
  {
   "cell_type": "code",
   "execution_count": 34,
   "id": "7e1f7886",
   "metadata": {},
   "outputs": [
    {
     "data": {
      "text/plain": [
       "(25032, 22)"
      ]
     },
     "execution_count": 34,
     "metadata": {},
     "output_type": "execute_result"
    }
   ],
   "source": [
    "df.shape"
   ]
  },
  {
   "cell_type": "code",
   "execution_count": 35,
   "id": "7c449148",
   "metadata": {},
   "outputs": [
    {
     "name": "stdout",
     "output_type": "stream",
     "text": [
      "<class 'pandas.core.frame.DataFrame'>\n",
      "RangeIndex: 25032 entries, 0 to 25031\n",
      "Data columns (total 22 columns):\n",
      " #   Column      Non-Null Count  Dtype  \n",
      "---  ------      --------------  -----  \n",
      " 0   행정구역명       24973 non-null  object \n",
      " 1   학원/교습소      25032 non-null  object \n",
      " 2   학원지정번호      25032 non-null  int64  \n",
      " 3   학원명         25032 non-null  object \n",
      " 4   도로명주소       25019 non-null  object \n",
      " 5   도로명상세주소     24925 non-null  object \n",
      " 6   분야명         25032 non-null  object \n",
      " 7   교습계열명       24589 non-null  object \n",
      " 8   교습과정목록명     17565 non-null  object \n",
      " 9   교습과정명       24591 non-null  object \n",
      " 10  정원합계        25032 non-null  int64  \n",
      " 11  일시수용능력인원합계  24965 non-null  float64\n",
      " 12  인당수강료내용     4220 non-null   object \n",
      " 13  수강료공개여부     23582 non-null  object \n",
      " 14  기숙사학원여부     22825 non-null  object \n",
      " 15  도로명우편번호     25031 non-null  float64\n",
      " 16  등록상태명       25032 non-null  object \n",
      " 17  등록일자        25032 non-null  int64  \n",
      " 18  휴원시작일자      340 non-null    float64\n",
      " 19  휴원종료일자      340 non-null    float64\n",
      " 20  개설일자        25032 non-null  int64  \n",
      " 21  적재일시        25032 non-null  int64  \n",
      "dtypes: float64(4), int64(5), object(13)\n",
      "memory usage: 4.2+ MB\n"
     ]
    }
   ],
   "source": [
    "df.info()"
   ]
  },
  {
   "cell_type": "code",
   "execution_count": 36,
   "id": "dc0be57e",
   "metadata": {},
   "outputs": [
    {
     "data": {
      "text/html": [
       "<div>\n",
       "<style scoped>\n",
       "    .dataframe tbody tr th:only-of-type {\n",
       "        vertical-align: middle;\n",
       "    }\n",
       "\n",
       "    .dataframe tbody tr th {\n",
       "        vertical-align: top;\n",
       "    }\n",
       "\n",
       "    .dataframe thead th {\n",
       "        text-align: right;\n",
       "    }\n",
       "</style>\n",
       "<table border=\"1\" class=\"dataframe\">\n",
       "  <thead>\n",
       "    <tr style=\"text-align: right;\">\n",
       "      <th></th>\n",
       "      <th>행정구역명</th>\n",
       "      <th>학원/교습소</th>\n",
       "      <th>학원지정번호</th>\n",
       "      <th>학원명</th>\n",
       "      <th>도로명주소</th>\n",
       "      <th>도로명상세주소</th>\n",
       "      <th>분야명</th>\n",
       "      <th>교습계열명</th>\n",
       "      <th>교습과정목록명</th>\n",
       "      <th>교습과정명</th>\n",
       "      <th>...</th>\n",
       "      <th>인당수강료내용</th>\n",
       "      <th>수강료공개여부</th>\n",
       "      <th>기숙사학원여부</th>\n",
       "      <th>도로명우편번호</th>\n",
       "      <th>등록상태명</th>\n",
       "      <th>등록일자</th>\n",
       "      <th>휴원시작일자</th>\n",
       "      <th>휴원종료일자</th>\n",
       "      <th>개설일자</th>\n",
       "      <th>적재일시</th>\n",
       "    </tr>\n",
       "  </thead>\n",
       "  <tbody>\n",
       "    <tr>\n",
       "      <th>0</th>\n",
       "      <td>동대문구</td>\n",
       "      <td>학원</td>\n",
       "      <td>1000000043</td>\n",
       "      <td>도우리이용기술학원</td>\n",
       "      <td>서울특별시 동대문구 왕산로33길 32</td>\n",
       "      <td>/ 2층  (제기동)</td>\n",
       "      <td>직업기술</td>\n",
       "      <td>산업응용기술</td>\n",
       "      <td>이?미용/</td>\n",
       "      <td>이?미용</td>\n",
       "      <td>...</td>\n",
       "      <td>NaN</td>\n",
       "      <td>Y</td>\n",
       "      <td>N</td>\n",
       "      <td>130862.0</td>\n",
       "      <td>개원</td>\n",
       "      <td>19670209</td>\n",
       "      <td>NaN</td>\n",
       "      <td>NaN</td>\n",
       "      <td>19670209</td>\n",
       "      <td>20210627</td>\n",
       "    </tr>\n",
       "    <tr>\n",
       "      <th>1</th>\n",
       "      <td>동대문구</td>\n",
       "      <td>학원</td>\n",
       "      <td>1000000064</td>\n",
       "      <td>대성회계실무학원</td>\n",
       "      <td>서울특별시 동대문구 왕산로 225</td>\n",
       "      <td>/ 5층2호?5층6호?5층7호 중 일부(B호) (청량리동/ 미주상가)</td>\n",
       "      <td>종합(대)</td>\n",
       "      <td>NaN</td>\n",
       "      <td>전산회계/컴퓨터(정보처리/통신기기/인터넷/소프트웨어)/</td>\n",
       "      <td>NaN</td>\n",
       "      <td>...</td>\n",
       "      <td>NaN</td>\n",
       "      <td>Y</td>\n",
       "      <td>N</td>\n",
       "      <td>2490.0</td>\n",
       "      <td>개원</td>\n",
       "      <td>19681227</td>\n",
       "      <td>NaN</td>\n",
       "      <td>NaN</td>\n",
       "      <td>19681227</td>\n",
       "      <td>20210627</td>\n",
       "    </tr>\n",
       "    <tr>\n",
       "      <th>2</th>\n",
       "      <td>동대문구</td>\n",
       "      <td>학원</td>\n",
       "      <td>1000000083</td>\n",
       "      <td>국제전자과학학원</td>\n",
       "      <td>서울특별시동대문구  고산자로36길3</td>\n",
       "      <td>3층일부(제기동)</td>\n",
       "      <td>직업기술</td>\n",
       "      <td>산업기반기술</td>\n",
       "      <td>전자/</td>\n",
       "      <td>전자</td>\n",
       "      <td>...</td>\n",
       "      <td>NaN</td>\n",
       "      <td>Y</td>\n",
       "      <td>N</td>\n",
       "      <td>130865.0</td>\n",
       "      <td>개원</td>\n",
       "      <td>19680210</td>\n",
       "      <td>NaN</td>\n",
       "      <td>NaN</td>\n",
       "      <td>19680210</td>\n",
       "      <td>20210627</td>\n",
       "    </tr>\n",
       "  </tbody>\n",
       "</table>\n",
       "<p>3 rows × 22 columns</p>\n",
       "</div>"
      ],
      "text/plain": [
       "  행정구역명 학원/교습소      학원지정번호        학원명                 도로명주소  \\\n",
       "0  동대문구     학원  1000000043  도우리이용기술학원  서울특별시 동대문구 왕산로33길 32   \n",
       "1  동대문구     학원  1000000064   대성회계실무학원    서울특별시 동대문구 왕산로 225   \n",
       "2  동대문구     학원  1000000083   국제전자과학학원   서울특별시동대문구  고산자로36길3   \n",
       "\n",
       "                                  도로명상세주소    분야명   교습계열명  \\\n",
       "0                             / 2층  (제기동)   직업기술  산업응용기술   \n",
       "1  / 5층2호?5층6호?5층7호 중 일부(B호) (청량리동/ 미주상가)  종합(대)     NaN   \n",
       "2                               3층일부(제기동)   직업기술  산업기반기술   \n",
       "\n",
       "                          교습과정목록명 교습과정명  ...  인당수강료내용  수강료공개여부 기숙사학원여부  \\\n",
       "0                           이?미용/  이?미용  ...      NaN        Y       N   \n",
       "1  전산회계/컴퓨터(정보처리/통신기기/인터넷/소프트웨어)/   NaN  ...      NaN        Y       N   \n",
       "2                             전자/    전자  ...      NaN        Y       N   \n",
       "\n",
       "    도로명우편번호 등록상태명      등록일자 휴원시작일자  휴원종료일자      개설일자      적재일시  \n",
       "0  130862.0    개원  19670209    NaN     NaN  19670209  20210627  \n",
       "1    2490.0    개원  19681227    NaN     NaN  19681227  20210627  \n",
       "2  130865.0    개원  19680210    NaN     NaN  19680210  20210627  \n",
       "\n",
       "[3 rows x 22 columns]"
      ]
     },
     "execution_count": 36,
     "metadata": {},
     "output_type": "execute_result"
    }
   ],
   "source": [
    "df.head(3)"
   ]
  },
  {
   "cell_type": "code",
   "execution_count": 37,
   "id": "9930444f",
   "metadata": {},
   "outputs": [
    {
     "data": {
      "text/plain": [
       "<AxesSubplot:>"
      ]
     },
     "execution_count": 37,
     "metadata": {},
     "output_type": "execute_result"
    },
    {
     "data": {
      "image/png": "[encoded data removed]",
      "text/plain": [
       "<Figure size 1800x720 with 2 Axes>"
      ]
     },
     "metadata": {
      "needs_background": "light"
     },
     "output_type": "display_data"
    }
   ],
   "source": [
    "missingno.matrix(df)"
   ]
  },
  {
   "cell_type": "code",
   "execution_count": 38,
   "id": "d48c1648",
   "metadata": {},
   "outputs": [
    {
     "data": {
      "text/plain": [
       "7467"
      ]
     },
     "execution_count": 38,
     "metadata": {},
     "output_type": "execute_result"
    }
   ],
   "source": [
    "df['교습과정목록명'].isnull().sum()"
   ]
  },
  {
   "cell_type": "code",
   "execution_count": 25,
   "id": "e288e2da",
   "metadata": {},
   "outputs": [
    {
     "data": {
      "text/plain": [
       "행정구역명            59\n",
       "학원/교습소            0\n",
       "학원지정번호            0\n",
       "학원명               0\n",
       "도로명주소            13\n",
       "도로명상세주소         107\n",
       "분야명               0\n",
       "교습계열명           443\n",
       "교습과정목록명        7467\n",
       "교습과정명           441\n",
       "정원합계              0\n",
       "일시수용능력인원합계       67\n",
       "인당수강료내용       20812\n",
       "수강료공개여부        1450\n",
       "기숙사학원여부        2207\n",
       "도로명우편번호           1\n",
       "등록상태명             0\n",
       "등록일자              0\n",
       "휴원시작일자        24692\n",
       "휴원종료일자        24692\n",
       "개설일자              0\n",
       "적재일시              0\n",
       "dtype: int64"
      ]
     },
     "execution_count": 25,
     "metadata": {},
     "output_type": "execute_result"
    }
   ],
   "source": [
    "df.isnull().sum()"
   ]
  },
  {
   "cell_type": "code",
   "execution_count": 50,
   "id": "89a181ce",
   "metadata": {},
   "outputs": [],
   "source": [
    "drop_column=df[['인당수강료내용','휴원시작일자','휴원종료일자']]\n",
    "\n",
    "df = df.drop(drop_column,axis=1)"
   ]
  },
  {
   "cell_type": "code",
   "execution_count": 56,
   "id": "4095b393",
   "metadata": {},
   "outputs": [
    {
     "data": {
      "text/plain": [
       "(25032, 19)"
      ]
     },
     "execution_count": 56,
     "metadata": {},
     "output_type": "execute_result"
    }
   ],
   "source": [
    "df.shape"
   ]
  },
  {
   "cell_type": "code",
   "execution_count": 57,
   "id": "a6cdeb75",
   "metadata": {},
   "outputs": [
    {
     "data": {
      "text/html": [
       "<div>\n",
       "<style scoped>\n",
       "    .dataframe tbody tr th:only-of-type {\n",
       "        vertical-align: middle;\n",
       "    }\n",
       "\n",
       "    .dataframe tbody tr th {\n",
       "        vertical-align: top;\n",
       "    }\n",
       "\n",
       "    .dataframe thead th {\n",
       "        text-align: right;\n",
       "    }\n",
       "</style>\n",
       "<table border=\"1\" class=\"dataframe\">\n",
       "  <thead>\n",
       "    <tr style=\"text-align: right;\">\n",
       "      <th></th>\n",
       "      <th>행정구역명</th>\n",
       "      <th>학원/교습소</th>\n",
       "      <th>학원지정번호</th>\n",
       "      <th>학원명</th>\n",
       "      <th>도로명주소</th>\n",
       "      <th>도로명상세주소</th>\n",
       "      <th>분야명</th>\n",
       "      <th>교습계열명</th>\n",
       "      <th>교습과정목록명</th>\n",
       "      <th>교습과정명</th>\n",
       "      <th>정원합계</th>\n",
       "      <th>일시수용능력인원합계</th>\n",
       "      <th>수강료공개여부</th>\n",
       "      <th>기숙사학원여부</th>\n",
       "      <th>도로명우편번호</th>\n",
       "      <th>등록상태명</th>\n",
       "      <th>등록일자</th>\n",
       "      <th>개설일자</th>\n",
       "      <th>적재일시</th>\n",
       "    </tr>\n",
       "  </thead>\n",
       "  <tbody>\n",
       "    <tr>\n",
       "      <th>0</th>\n",
       "      <td>동대문구</td>\n",
       "      <td>학원</td>\n",
       "      <td>1000000043</td>\n",
       "      <td>도우리이용기술학원</td>\n",
       "      <td>서울특별시 동대문구 왕산로33길 32</td>\n",
       "      <td>/ 2층  (제기동)</td>\n",
       "      <td>직업기술</td>\n",
       "      <td>산업응용기술</td>\n",
       "      <td>이?미용/</td>\n",
       "      <td>이?미용</td>\n",
       "      <td>40</td>\n",
       "      <td>20.0</td>\n",
       "      <td>Y</td>\n",
       "      <td>N</td>\n",
       "      <td>130862.0</td>\n",
       "      <td>개원</td>\n",
       "      <td>19670209</td>\n",
       "      <td>19670209</td>\n",
       "      <td>20210627</td>\n",
       "    </tr>\n",
       "  </tbody>\n",
       "</table>\n",
       "</div>"
      ],
      "text/plain": [
       "  행정구역명 학원/교습소      학원지정번호        학원명                 도로명주소      도로명상세주소  \\\n",
       "0  동대문구     학원  1000000043  도우리이용기술학원  서울특별시 동대문구 왕산로33길 32  / 2층  (제기동)   \n",
       "\n",
       "    분야명   교습계열명 교습과정목록명 교습과정명  정원합계  일시수용능력인원합계 수강료공개여부 기숙사학원여부   도로명우편번호  \\\n",
       "0  직업기술  산업응용기술   이?미용/  이?미용    40        20.0       Y       N  130862.0   \n",
       "\n",
       "  등록상태명      등록일자      개설일자      적재일시  \n",
       "0    개원  19670209  19670209  20210627  "
      ]
     },
     "execution_count": 57,
     "metadata": {},
     "output_type": "execute_result"
    }
   ],
   "source": [
    "df.head(1)"
   ]
  },
  {
   "cell_type": "code",
   "execution_count": 63,
   "id": "5b05d485",
   "metadata": {},
   "outputs": [
    {
     "data": {
      "text/plain": [
       "array(['이?미용/', '전산회계/컴퓨터(정보처리/통신기기/인터넷/소프트웨어)/', '전자/', ...,\n",
       "       '보습/진학상담지도/실용외국어(유아/초?중?고)/', '피아노-바이엘', '논술기초A'], dtype=object)"
      ]
     },
     "execution_count": 63,
     "metadata": {},
     "output_type": "execute_result"
    }
   ],
   "source": [
    "df['교습과정목록명'].unique()"
   ]
  },
  {
   "cell_type": "code",
   "execution_count": 64,
   "id": "510a91af",
   "metadata": {},
   "outputs": [
    {
     "data": {
      "text/plain": [
       "3093"
      ]
     },
     "execution_count": 64,
     "metadata": {},
     "output_type": "execute_result"
    }
   ],
   "source": [
    "df['교습과정목록명'].nunique()"
   ]
  },
  {
   "cell_type": "code",
   "execution_count": 76,
   "id": "adcfd8cf",
   "metadata": {},
   "outputs": [
    {
     "data": {
      "text/plain": [
       "<AxesSubplot:>"
      ]
     },
     "execution_count": 76,
     "metadata": {},
     "output_type": "execute_result"
    },
    {
     "data": {
      "image/png": "[encoded data removed]",
      "text/plain": [
       "<Figure size 720x432 with 1 Axes>"
      ]
     },
     "metadata": {
      "needs_background": "light"
     },
     "output_type": "display_data"
    }
   ],
   "source": [
    "df_gyo=df['교습과정목록명'].value_counts(ascending=False).head(15)\n",
    "\n",
    "\n",
    "plt.figure(figsize=(10,6))\n",
    "df_gyo.plot.bar(rot=30)"
   ]
  },
  {
   "cell_type": "code",
   "execution_count": 84,
   "id": "3e9ec12e",
   "metadata": {},
   "outputs": [
    {
     "data": {
      "text/plain": [
       "1106"
      ]
     },
     "execution_count": 84,
     "metadata": {},
     "output_type": "execute_result"
    }
   ],
   "source": [
    "df['도로명주소'].str.contains('마포').sum()"
   ]
  },
  {
   "cell_type": "code",
   "execution_count": 98,
   "id": "a1cd90c0",
   "metadata": {},
   "outputs": [
    {
     "data": {
      "text/plain": [
       "13"
      ]
     },
     "execution_count": 98,
     "metadata": {},
     "output_type": "execute_result"
    }
   ],
   "source": [
    "df['도로명주소'].isnull().sum()"
   ]
  },
  {
   "cell_type": "code",
   "execution_count": 103,
   "id": "d061102c",
   "metadata": {},
   "outputs": [],
   "source": [
    "df['도로명주소'].fillna('0',inplace=True)"
   ]
  },
  {
   "cell_type": "code",
   "execution_count": 104,
   "id": "6a3e49c6",
   "metadata": {},
   "outputs": [
    {
     "data": {
      "text/plain": [
       "0"
      ]
     },
     "execution_count": 104,
     "metadata": {},
     "output_type": "execute_result"
    }
   ],
   "source": [
    "df['도로명주소'].isnull().sum()"
   ]
  },
  {
   "cell_type": "code",
   "execution_count": 107,
   "id": "1fd50f10",
   "metadata": {},
   "outputs": [],
   "source": [
    "df_mapo = df[df['도로명주소'].str.contains('마포')]"
   ]
  },
  {
   "cell_type": "code",
   "execution_count": 109,
   "id": "539ce617",
   "metadata": {},
   "outputs": [
    {
     "data": {
      "text/plain": [
       "array(['직업기술', '예능(대)', '독서실', '입시.검정 및 보습', '기타(대)', '인문사회(대)', '국제화',\n",
       "       '종합(대)', '기예(대)'], dtype=object)"
      ]
     },
     "execution_count": 109,
     "metadata": {},
     "output_type": "execute_result"
    }
   ],
   "source": [
    "df_mapo['분야명'].unique()"
   ]
  },
  {
   "cell_type": "code",
   "execution_count": 115,
   "id": "4b182c8c",
   "metadata": {},
   "outputs": [
    {
     "data": {
      "text/html": [
       "<div>\n",
       "<style scoped>\n",
       "    .dataframe tbody tr th:only-of-type {\n",
       "        vertical-align: middle;\n",
       "    }\n",
       "\n",
       "    .dataframe tbody tr th {\n",
       "        vertical-align: top;\n",
       "    }\n",
       "\n",
       "    .dataframe thead th {\n",
       "        text-align: right;\n",
       "    }\n",
       "</style>\n",
       "<table border=\"1\" class=\"dataframe\">\n",
       "  <thead>\n",
       "    <tr style=\"text-align: right;\">\n",
       "      <th></th>\n",
       "      <th>행정구역명</th>\n",
       "      <th>학원/교습소</th>\n",
       "      <th>학원지정번호</th>\n",
       "      <th>학원명</th>\n",
       "      <th>도로명주소</th>\n",
       "      <th>도로명상세주소</th>\n",
       "      <th>분야명</th>\n",
       "      <th>교습계열명</th>\n",
       "      <th>교습과정목록명</th>\n",
       "      <th>교습과정명</th>\n",
       "      <th>정원합계</th>\n",
       "      <th>일시수용능력인원합계</th>\n",
       "      <th>수강료공개여부</th>\n",
       "      <th>기숙사학원여부</th>\n",
       "      <th>도로명우편번호</th>\n",
       "      <th>등록상태명</th>\n",
       "      <th>등록일자</th>\n",
       "      <th>개설일자</th>\n",
       "      <th>적재일시</th>\n",
       "    </tr>\n",
       "  </thead>\n",
       "  <tbody>\n",
       "    <tr>\n",
       "      <th>95</th>\n",
       "      <td>마포구</td>\n",
       "      <td>학원</td>\n",
       "      <td>1000003731</td>\n",
       "      <td>엠앤엠이화음악학원</td>\n",
       "      <td>서울특별시 마포구 월드컵로25길 98</td>\n",
       "      <td>/ 2층 (망원동)</td>\n",
       "      <td>예능(대)</td>\n",
       "      <td>예능(중)</td>\n",
       "      <td>음악/</td>\n",
       "      <td>음악</td>\n",
       "      <td>145</td>\n",
       "      <td>26.0</td>\n",
       "      <td>Y</td>\n",
       "      <td>N</td>\n",
       "      <td>3959.0</td>\n",
       "      <td>개원</td>\n",
       "      <td>19710508</td>\n",
       "      <td>19710508</td>\n",
       "      <td>20210627</td>\n",
       "    </tr>\n",
       "  </tbody>\n",
       "</table>\n",
       "</div>"
      ],
      "text/plain": [
       "   행정구역명 학원/교습소      학원지정번호        학원명                 도로명주소     도로명상세주소  \\\n",
       "95   마포구     학원  1000003731  엠앤엠이화음악학원  서울특별시 마포구 월드컵로25길 98  / 2층 (망원동)   \n",
       "\n",
       "      분야명  교습계열명 교습과정목록명 교습과정명  정원합계  일시수용능력인원합계 수강료공개여부 기숙사학원여부  도로명우편번호  \\\n",
       "95  예능(대)  예능(중)     음악/    음악   145        26.0       Y       N   3959.0   \n",
       "\n",
       "   등록상태명      등록일자      개설일자      적재일시  \n",
       "95    개원  19710508  19710508  20210627  "
      ]
     },
     "execution_count": 115,
     "metadata": {},
     "output_type": "execute_result"
    }
   ],
   "source": [
    "df_mapo[df_mapo['교습과정명']=='음악'].head(1)"
   ]
  },
  {
   "cell_type": "code",
   "execution_count": 118,
   "id": "c65a81ef",
   "metadata": {},
   "outputs": [
    {
     "data": {
      "text/plain": [
       "(142, 19)"
      ]
     },
     "execution_count": 118,
     "metadata": {},
     "output_type": "execute_result"
    }
   ],
   "source": [
    "df_mapo_music = df_mapo[df_mapo['교습과정명']=='음악']\n",
    "df_mapo_music.shape"
   ]
  },
  {
   "cell_type": "code",
   "execution_count": 127,
   "id": "1653422c",
   "metadata": {},
   "outputs": [
    {
     "data": {
      "text/plain": [
       "22312    1998\n",
       "14087     300\n",
       "23145     228\n",
       "185       222\n",
       "8423      180\n",
       "23215     165\n",
       "15809     165\n",
       "11453     156\n",
       "95        145\n",
       "1967      125\n",
       "17041     120\n",
       "3505      120\n",
       "17995     120\n",
       "23089     108\n",
       "152       100\n",
       "Name: 정원합계, dtype: int64"
      ]
     },
     "execution_count": 127,
     "metadata": {},
     "output_type": "execute_result"
    }
   ],
   "source": [
    "df_ma_jung=df_mapo_music['정원합계'].sort_values(ascending=False).head(15)"
   ]
  },
  {
   "cell_type": "code",
   "execution_count": 126,
   "id": "c505b28c",
   "metadata": {},
   "outputs": [
    {
     "data": {
      "text/plain": [
       "<AxesSubplot:>"
      ]
     },
     "execution_count": 126,
     "metadata": {},
     "output_type": "execute_result"
    },
    {
     "data": {
      "image/png": "[encoded data removed]",
      "text/plain": [
       "<Figure size 432x288 with 1 Axes>"
      ]
     },
     "metadata": {
      "needs_background": "light"
     },
     "output_type": "display_data"
    }
   ],
   "source": [
    "df_ma_jung.plot.bar()"
   ]
  },
  {
   "cell_type": "code",
   "execution_count": 132,
   "id": "3730db90",
   "metadata": {},
   "outputs": [
    {
     "data": {
      "text/plain": [
       "95                            / 2층 (망원동)\n",
       "97                              2층 (서교동)\n",
       "118                             2층 (망원동)\n",
       "122                             2층 (창전동)\n",
       "152                           2.3층 (망원동)\n",
       "                      ...               \n",
       "24296                           3층 (용강동)\n",
       "24723                 태영아파트 남상가103호(대흥동)\n",
       "24831                            3층(창전동)\n",
       "24902                         / 1층 (아현동)\n",
       "25006    도화3지구우성@18동 우성A상가 207/208호(도화동)\n",
       "Name: 도로명상세주소, Length: 142, dtype: object"
      ]
     },
     "execution_count": 132,
     "metadata": {},
     "output_type": "execute_result"
    }
   ],
   "source": [
    "df_mapo_music['도로명상세주소']"
   ]
  },
  {
   "cell_type": "code",
   "execution_count": 135,
   "id": "3372e984",
   "metadata": {
    "scrolled": true
   },
   "outputs": [],
   "source": [
    "df_mangwon=df_mapo_music[df_mapo_music['도로명상세주소'].str.contains('망원',na=False)]"
   ]
  },
  {
   "cell_type": "code",
   "execution_count": 137,
   "id": "487009f5",
   "metadata": {},
   "outputs": [
    {
     "data": {
      "text/html": [
       "<div>\n",
       "<style scoped>\n",
       "    .dataframe tbody tr th:only-of-type {\n",
       "        vertical-align: middle;\n",
       "    }\n",
       "\n",
       "    .dataframe tbody tr th {\n",
       "        vertical-align: top;\n",
       "    }\n",
       "\n",
       "    .dataframe thead th {\n",
       "        text-align: right;\n",
       "    }\n",
       "</style>\n",
       "<table border=\"1\" class=\"dataframe\">\n",
       "  <thead>\n",
       "    <tr style=\"text-align: right;\">\n",
       "      <th></th>\n",
       "      <th>행정구역명</th>\n",
       "      <th>학원/교습소</th>\n",
       "      <th>학원지정번호</th>\n",
       "      <th>학원명</th>\n",
       "      <th>도로명주소</th>\n",
       "      <th>도로명상세주소</th>\n",
       "      <th>분야명</th>\n",
       "      <th>교습계열명</th>\n",
       "      <th>교습과정목록명</th>\n",
       "      <th>교습과정명</th>\n",
       "      <th>정원합계</th>\n",
       "      <th>일시수용능력인원합계</th>\n",
       "      <th>수강료공개여부</th>\n",
       "      <th>기숙사학원여부</th>\n",
       "      <th>도로명우편번호</th>\n",
       "      <th>등록상태명</th>\n",
       "      <th>등록일자</th>\n",
       "      <th>개설일자</th>\n",
       "      <th>적재일시</th>\n",
       "    </tr>\n",
       "  </thead>\n",
       "  <tbody>\n",
       "    <tr>\n",
       "      <th>95</th>\n",
       "      <td>마포구</td>\n",
       "      <td>학원</td>\n",
       "      <td>1000003731</td>\n",
       "      <td>엠앤엠이화음악학원</td>\n",
       "      <td>서울특별시 마포구 월드컵로25길 98</td>\n",
       "      <td>/ 2층 (망원동)</td>\n",
       "      <td>예능(대)</td>\n",
       "      <td>예능(중)</td>\n",
       "      <td>음악/</td>\n",
       "      <td>음악</td>\n",
       "      <td>145</td>\n",
       "      <td>26.0</td>\n",
       "      <td>Y</td>\n",
       "      <td>N</td>\n",
       "      <td>3959.0</td>\n",
       "      <td>개원</td>\n",
       "      <td>19710508</td>\n",
       "      <td>19710508</td>\n",
       "      <td>20210627</td>\n",
       "    </tr>\n",
       "    <tr>\n",
       "      <th>118</th>\n",
       "      <td>마포구</td>\n",
       "      <td>학원</td>\n",
       "      <td>1000004896</td>\n",
       "      <td>벨라뮤직아카데미음악학원</td>\n",
       "      <td>서울특별시 마포구 망원로 57</td>\n",
       "      <td>2층 (망원동)</td>\n",
       "      <td>예능(대)</td>\n",
       "      <td>예능(중)</td>\n",
       "      <td>음악/</td>\n",
       "      <td>음악</td>\n",
       "      <td>40</td>\n",
       "      <td>60.0</td>\n",
       "      <td>N</td>\n",
       "      <td>N</td>\n",
       "      <td>121823.0</td>\n",
       "      <td>개원</td>\n",
       "      <td>19890722</td>\n",
       "      <td>19890722</td>\n",
       "      <td>20210627</td>\n",
       "    </tr>\n",
       "    <tr>\n",
       "      <th>152</th>\n",
       "      <td>마포구</td>\n",
       "      <td>학원</td>\n",
       "      <td>1000006810</td>\n",
       "      <td>새우리피아노학원</td>\n",
       "      <td>서울특별시 마포구 방울내로 41</td>\n",
       "      <td>2.3층 (망원동)</td>\n",
       "      <td>예능(대)</td>\n",
       "      <td>예능(중)</td>\n",
       "      <td>음악/</td>\n",
       "      <td>음악</td>\n",
       "      <td>100</td>\n",
       "      <td>52.0</td>\n",
       "      <td>N</td>\n",
       "      <td>N</td>\n",
       "      <td>121824.0</td>\n",
       "      <td>개원</td>\n",
       "      <td>19921126</td>\n",
       "      <td>19921126</td>\n",
       "      <td>20210627</td>\n",
       "    </tr>\n",
       "    <tr>\n",
       "      <th>1967</th>\n",
       "      <td>마포구</td>\n",
       "      <td>학원</td>\n",
       "      <td>11860</td>\n",
       "      <td>이제이음악학원</td>\n",
       "      <td>서울특별시 마포구 월드컵로25길 99</td>\n",
       "      <td>2층 (망원동)</td>\n",
       "      <td>예능(대)</td>\n",
       "      <td>예능(중)</td>\n",
       "      <td>음악/</td>\n",
       "      <td>음악</td>\n",
       "      <td>125</td>\n",
       "      <td>30.0</td>\n",
       "      <td>N</td>\n",
       "      <td>N</td>\n",
       "      <td>121823.0</td>\n",
       "      <td>개원</td>\n",
       "      <td>20051117</td>\n",
       "      <td>20051117</td>\n",
       "      <td>20210627</td>\n",
       "    </tr>\n",
       "    <tr>\n",
       "      <th>5098</th>\n",
       "      <td>마포구</td>\n",
       "      <td>교습소</td>\n",
       "      <td>22091</td>\n",
       "      <td>슈만과피아노여행음악교습소</td>\n",
       "      <td>서울특별시 마포구 월드컵로31길 85</td>\n",
       "      <td>/ 1층 일부(우측) (망원동/ 명남아띠)</td>\n",
       "      <td>예능(대)</td>\n",
       "      <td>예능(중)</td>\n",
       "      <td>피아노 초급</td>\n",
       "      <td>음악</td>\n",
       "      <td>15</td>\n",
       "      <td>6.0</td>\n",
       "      <td>Y</td>\n",
       "      <td>N</td>\n",
       "      <td>3960.0</td>\n",
       "      <td>개원</td>\n",
       "      <td>20080910</td>\n",
       "      <td>20080910</td>\n",
       "      <td>20210627</td>\n",
       "    </tr>\n",
       "    <tr>\n",
       "      <th>5834</th>\n",
       "      <td>마포구</td>\n",
       "      <td>교습소</td>\n",
       "      <td>25002</td>\n",
       "      <td>임마누엘음악교습소</td>\n",
       "      <td>서울특별시 마포구 방울내로5길 38</td>\n",
       "      <td>1층일부101호 (망원동)</td>\n",
       "      <td>예능(대)</td>\n",
       "      <td>예능(중)</td>\n",
       "      <td>초급피아노</td>\n",
       "      <td>음악</td>\n",
       "      <td>16</td>\n",
       "      <td>4.0</td>\n",
       "      <td>Y</td>\n",
       "      <td>N</td>\n",
       "      <td>3955.0</td>\n",
       "      <td>개원</td>\n",
       "      <td>20090803</td>\n",
       "      <td>20090803</td>\n",
       "      <td>20210627</td>\n",
       "    </tr>\n",
       "    <tr>\n",
       "      <th>6654</th>\n",
       "      <td>마포구</td>\n",
       "      <td>교습소</td>\n",
       "      <td>27640</td>\n",
       "      <td>제이음악교습소</td>\n",
       "      <td>서울특별시 마포구 월드컵로25길 99</td>\n",
       "      <td>1층일부 (망원동)</td>\n",
       "      <td>예능(대)</td>\n",
       "      <td>예능(중)</td>\n",
       "      <td>초급</td>\n",
       "      <td>음악</td>\n",
       "      <td>20</td>\n",
       "      <td>4.0</td>\n",
       "      <td>N</td>\n",
       "      <td>N</td>\n",
       "      <td>3958.0</td>\n",
       "      <td>개원</td>\n",
       "      <td>20100219</td>\n",
       "      <td>20100219</td>\n",
       "      <td>20210627</td>\n",
       "    </tr>\n",
       "    <tr>\n",
       "      <th>6739</th>\n",
       "      <td>마포구</td>\n",
       "      <td>교습소</td>\n",
       "      <td>27905</td>\n",
       "      <td>안단테음악교습소</td>\n",
       "      <td>서울특별시 마포구 월드컵로25길 70</td>\n",
       "      <td>2층 (망원동)</td>\n",
       "      <td>예능(대)</td>\n",
       "      <td>예능(중)</td>\n",
       "      <td>초급피아노</td>\n",
       "      <td>음악</td>\n",
       "      <td>21</td>\n",
       "      <td>7.0</td>\n",
       "      <td>N</td>\n",
       "      <td>N</td>\n",
       "      <td>3959.0</td>\n",
       "      <td>개원</td>\n",
       "      <td>20100305</td>\n",
       "      <td>20100305</td>\n",
       "      <td>20210627</td>\n",
       "    </tr>\n",
       "    <tr>\n",
       "      <th>8005</th>\n",
       "      <td>마포구</td>\n",
       "      <td>교습소</td>\n",
       "      <td>3000012144</td>\n",
       "      <td>브람스음악교습소</td>\n",
       "      <td>서울특별시 마포구 월드컵로25길 26</td>\n",
       "      <td>마포영화블렌하임104동12-3호13-1호 (망원동)</td>\n",
       "      <td>예능(대)</td>\n",
       "      <td>예능(중)</td>\n",
       "      <td>피아노고급1</td>\n",
       "      <td>음악</td>\n",
       "      <td>30</td>\n",
       "      <td>5.0</td>\n",
       "      <td>NaN</td>\n",
       "      <td>N</td>\n",
       "      <td>3964.0</td>\n",
       "      <td>개원</td>\n",
       "      <td>20110927</td>\n",
       "      <td>20110927</td>\n",
       "      <td>20210627</td>\n",
       "    </tr>\n",
       "    <tr>\n",
       "      <th>11294</th>\n",
       "      <td>마포구</td>\n",
       "      <td>교습소</td>\n",
       "      <td>3000021231</td>\n",
       "      <td>통기타스테이션음악교습소</td>\n",
       "      <td>서울특별시 마포구 월드컵로31길 102</td>\n",
       "      <td>/ 1층 101호 (망원동/ 정윤빌라)</td>\n",
       "      <td>예능(대)</td>\n",
       "      <td>예능(중)</td>\n",
       "      <td>고급</td>\n",
       "      <td>음악</td>\n",
       "      <td>7</td>\n",
       "      <td>2.0</td>\n",
       "      <td>Y</td>\n",
       "      <td>N</td>\n",
       "      <td>3955.0</td>\n",
       "      <td>개원</td>\n",
       "      <td>20141010</td>\n",
       "      <td>20141010</td>\n",
       "      <td>20210627</td>\n",
       "    </tr>\n",
       "    <tr>\n",
       "      <th>11422</th>\n",
       "      <td>마포구</td>\n",
       "      <td>교습소</td>\n",
       "      <td>3000021524</td>\n",
       "      <td>해피뮤직스토리음악교습소</td>\n",
       "      <td>서울특별시 마포구 동교로 59</td>\n",
       "      <td>/ 1층 일부 좌측 (망원동)</td>\n",
       "      <td>예능(대)</td>\n",
       "      <td>예능(중)</td>\n",
       "      <td>NaN</td>\n",
       "      <td>음악</td>\n",
       "      <td>36</td>\n",
       "      <td>4.0</td>\n",
       "      <td>Y</td>\n",
       "      <td>N</td>\n",
       "      <td>4018.0</td>\n",
       "      <td>개원</td>\n",
       "      <td>20141112</td>\n",
       "      <td>20141112</td>\n",
       "      <td>20210627</td>\n",
       "    </tr>\n",
       "    <tr>\n",
       "      <th>13009</th>\n",
       "      <td>마포구</td>\n",
       "      <td>교습소</td>\n",
       "      <td>3000024906</td>\n",
       "      <td>더플릇음악교습소</td>\n",
       "      <td>서울특별시 마포구 희우정로20길 54</td>\n",
       "      <td>/ 2층 (망원동)</td>\n",
       "      <td>예능(대)</td>\n",
       "      <td>예능(중)</td>\n",
       "      <td>NaN</td>\n",
       "      <td>음악</td>\n",
       "      <td>12</td>\n",
       "      <td>6.0</td>\n",
       "      <td>Y</td>\n",
       "      <td>N</td>\n",
       "      <td>4008.0</td>\n",
       "      <td>개원</td>\n",
       "      <td>20151216</td>\n",
       "      <td>20151216</td>\n",
       "      <td>20210627</td>\n",
       "    </tr>\n",
       "    <tr>\n",
       "      <th>14767</th>\n",
       "      <td>마포구</td>\n",
       "      <td>교습소</td>\n",
       "      <td>3000028112</td>\n",
       "      <td>슈만음악교습소</td>\n",
       "      <td>서울특별시 마포구 동교로 75</td>\n",
       "      <td>/ 2층 201호 (망원동)</td>\n",
       "      <td>예능(대)</td>\n",
       "      <td>예능(중)</td>\n",
       "      <td>피아노초급1</td>\n",
       "      <td>음악</td>\n",
       "      <td>33</td>\n",
       "      <td>6.0</td>\n",
       "      <td>Y</td>\n",
       "      <td>N</td>\n",
       "      <td>4018.0</td>\n",
       "      <td>개원</td>\n",
       "      <td>20170110</td>\n",
       "      <td>20170110</td>\n",
       "      <td>20210627</td>\n",
       "    </tr>\n",
       "    <tr>\n",
       "      <th>15576</th>\n",
       "      <td>마포구</td>\n",
       "      <td>교습소</td>\n",
       "      <td>3000029449</td>\n",
       "      <td>꿈의기타교습소</td>\n",
       "      <td>서울특별시 마포구 방울내로11길 65</td>\n",
       "      <td>/ 1층 101호 (망원동/ 삼정홈타운)</td>\n",
       "      <td>예능(대)</td>\n",
       "      <td>예능(중)</td>\n",
       "      <td>NaN</td>\n",
       "      <td>음악</td>\n",
       "      <td>28</td>\n",
       "      <td>4.0</td>\n",
       "      <td>Y</td>\n",
       "      <td>N</td>\n",
       "      <td>3961.0</td>\n",
       "      <td>개원</td>\n",
       "      <td>20170711</td>\n",
       "      <td>20170715</td>\n",
       "      <td>20210627</td>\n",
       "    </tr>\n",
       "    <tr>\n",
       "      <th>17298</th>\n",
       "      <td>마포구</td>\n",
       "      <td>교습소</td>\n",
       "      <td>3000032049</td>\n",
       "      <td>신고려음악교습소</td>\n",
       "      <td>서울특별시 마포구 월드컵로25길 85</td>\n",
       "      <td>/ 1층 일부 (망원동)</td>\n",
       "      <td>예능(대)</td>\n",
       "      <td>예능(중)</td>\n",
       "      <td>피아노기초(주5)</td>\n",
       "      <td>음악</td>\n",
       "      <td>42</td>\n",
       "      <td>7.0</td>\n",
       "      <td>Y</td>\n",
       "      <td>N</td>\n",
       "      <td>3958.0</td>\n",
       "      <td>개원</td>\n",
       "      <td>20180615</td>\n",
       "      <td>20180615</td>\n",
       "      <td>20210627</td>\n",
       "    </tr>\n",
       "    <tr>\n",
       "      <th>17747</th>\n",
       "      <td>마포구</td>\n",
       "      <td>교습소</td>\n",
       "      <td>3000032665</td>\n",
       "      <td>경희음악교습소</td>\n",
       "      <td>서울특별시 마포구 망원로 54-1</td>\n",
       "      <td>/ 4층 일부 (망원동)</td>\n",
       "      <td>예능(대)</td>\n",
       "      <td>예능(중)</td>\n",
       "      <td>NaN</td>\n",
       "      <td>음악</td>\n",
       "      <td>15</td>\n",
       "      <td>7.0</td>\n",
       "      <td>Y</td>\n",
       "      <td>N</td>\n",
       "      <td>4008.0</td>\n",
       "      <td>개원</td>\n",
       "      <td>20180928</td>\n",
       "      <td>20180928</td>\n",
       "      <td>20210627</td>\n",
       "    </tr>\n",
       "    <tr>\n",
       "      <th>17800</th>\n",
       "      <td>마포구</td>\n",
       "      <td>교습소</td>\n",
       "      <td>3000032748</td>\n",
       "      <td>안녕피아노음악교습소</td>\n",
       "      <td>서울특별시 마포구 월드컵로25길 95</td>\n",
       "      <td>/ 2층 (망원동/ 초원빌딩)</td>\n",
       "      <td>예능(대)</td>\n",
       "      <td>예능(중)</td>\n",
       "      <td>초급(바이엘과정)</td>\n",
       "      <td>음악</td>\n",
       "      <td>20</td>\n",
       "      <td>9.0</td>\n",
       "      <td>Y</td>\n",
       "      <td>N</td>\n",
       "      <td>3958.0</td>\n",
       "      <td>개원</td>\n",
       "      <td>20181011</td>\n",
       "      <td>20181011</td>\n",
       "      <td>20210627</td>\n",
       "    </tr>\n",
       "    <tr>\n",
       "      <th>19665</th>\n",
       "      <td>마포구</td>\n",
       "      <td>학원</td>\n",
       "      <td>3000035172</td>\n",
       "      <td>에덴음악학원</td>\n",
       "      <td>서울특별시 마포구 망원로3길 34</td>\n",
       "      <td>/ 1층 (망원동)</td>\n",
       "      <td>예능(대)</td>\n",
       "      <td>예능(중)</td>\n",
       "      <td>음악/</td>\n",
       "      <td>음악</td>\n",
       "      <td>30</td>\n",
       "      <td>50.0</td>\n",
       "      <td>Y</td>\n",
       "      <td>N</td>\n",
       "      <td>3959.0</td>\n",
       "      <td>개원</td>\n",
       "      <td>20190820</td>\n",
       "      <td>20190820</td>\n",
       "      <td>20210627</td>\n",
       "    </tr>\n",
       "  </tbody>\n",
       "</table>\n",
       "</div>"
      ],
      "text/plain": [
       "      행정구역명 학원/교습소      학원지정번호            학원명                  도로명주소  \\\n",
       "95      마포구     학원  1000003731      엠앤엠이화음악학원   서울특별시 마포구 월드컵로25길 98   \n",
       "118     마포구     학원  1000004896   벨라뮤직아카데미음악학원       서울특별시 마포구 망원로 57   \n",
       "152     마포구     학원  1000006810       새우리피아노학원      서울특별시 마포구 방울내로 41   \n",
       "1967    마포구     학원       11860        이제이음악학원   서울특별시 마포구 월드컵로25길 99   \n",
       "5098    마포구    교습소       22091  슈만과피아노여행음악교습소   서울특별시 마포구 월드컵로31길 85   \n",
       "5834    마포구    교습소       25002      임마누엘음악교습소    서울특별시 마포구 방울내로5길 38   \n",
       "6654    마포구    교습소       27640        제이음악교습소   서울특별시 마포구 월드컵로25길 99   \n",
       "6739    마포구    교습소       27905       안단테음악교습소   서울특별시 마포구 월드컵로25길 70   \n",
       "8005    마포구    교습소  3000012144       브람스음악교습소   서울특별시 마포구 월드컵로25길 26   \n",
       "11294   마포구    교습소  3000021231   통기타스테이션음악교습소  서울특별시 마포구 월드컵로31길 102   \n",
       "11422   마포구    교습소  3000021524   해피뮤직스토리음악교습소       서울특별시 마포구 동교로 59   \n",
       "13009   마포구    교습소  3000024906       더플릇음악교습소   서울특별시 마포구 희우정로20길 54   \n",
       "14767   마포구    교습소  3000028112        슈만음악교습소       서울특별시 마포구 동교로 75   \n",
       "15576   마포구    교습소  3000029449        꿈의기타교습소   서울특별시 마포구 방울내로11길 65   \n",
       "17298   마포구    교습소  3000032049       신고려음악교습소   서울특별시 마포구 월드컵로25길 85   \n",
       "17747   마포구    교습소  3000032665        경희음악교습소     서울특별시 마포구 망원로 54-1   \n",
       "17800   마포구    교습소  3000032748     안녕피아노음악교습소   서울특별시 마포구 월드컵로25길 95   \n",
       "19665   마포구     학원  3000035172         에덴음악학원     서울특별시 마포구 망원로3길 34   \n",
       "\n",
       "                            도로명상세주소    분야명  교습계열명    교습과정목록명 교습과정명  정원합계  \\\n",
       "95                       / 2층 (망원동)  예능(대)  예능(중)        음악/    음악   145   \n",
       "118                        2층 (망원동)  예능(대)  예능(중)        음악/    음악    40   \n",
       "152                      2.3층 (망원동)  예능(대)  예능(중)        음악/    음악   100   \n",
       "1967                       2층 (망원동)  예능(대)  예능(중)        음악/    음악   125   \n",
       "5098        / 1층 일부(우측) (망원동/ 명남아띠)  예능(대)  예능(중)     피아노 초급    음악    15   \n",
       "5834                 1층일부101호 (망원동)  예능(대)  예능(중)      초급피아노    음악    16   \n",
       "6654                     1층일부 (망원동)  예능(대)  예능(중)         초급    음악    20   \n",
       "6739                       2층 (망원동)  예능(대)  예능(중)      초급피아노    음악    21   \n",
       "8005   마포영화블렌하임104동12-3호13-1호 (망원동)  예능(대)  예능(중)     피아노고급1    음악    30   \n",
       "11294         / 1층 101호 (망원동/ 정윤빌라)  예능(대)  예능(중)         고급    음악     7   \n",
       "11422              / 1층 일부 좌측 (망원동)  예능(대)  예능(중)        NaN    음악    36   \n",
       "13009                    / 2층 (망원동)  예능(대)  예능(중)        NaN    음악    12   \n",
       "14767               / 2층 201호 (망원동)  예능(대)  예능(중)     피아노초급1    음악    33   \n",
       "15576        / 1층 101호 (망원동/ 삼정홈타운)  예능(대)  예능(중)        NaN    음악    28   \n",
       "17298                 / 1층 일부 (망원동)  예능(대)  예능(중)  피아노기초(주5)    음악    42   \n",
       "17747                 / 4층 일부 (망원동)  예능(대)  예능(중)        NaN    음악    15   \n",
       "17800              / 2층 (망원동/ 초원빌딩)  예능(대)  예능(중)  초급(바이엘과정)    음악    20   \n",
       "19665                    / 1층 (망원동)  예능(대)  예능(중)        음악/    음악    30   \n",
       "\n",
       "       일시수용능력인원합계 수강료공개여부 기숙사학원여부   도로명우편번호 등록상태명      등록일자      개설일자  \\\n",
       "95           26.0       Y       N    3959.0    개원  19710508  19710508   \n",
       "118          60.0       N       N  121823.0    개원  19890722  19890722   \n",
       "152          52.0       N       N  121824.0    개원  19921126  19921126   \n",
       "1967         30.0       N       N  121823.0    개원  20051117  20051117   \n",
       "5098          6.0       Y       N    3960.0    개원  20080910  20080910   \n",
       "5834          4.0       Y       N    3955.0    개원  20090803  20090803   \n",
       "6654          4.0       N       N    3958.0    개원  20100219  20100219   \n",
       "6739          7.0       N       N    3959.0    개원  20100305  20100305   \n",
       "8005          5.0     NaN       N    3964.0    개원  20110927  20110927   \n",
       "11294         2.0       Y       N    3955.0    개원  20141010  20141010   \n",
       "11422         4.0       Y       N    4018.0    개원  20141112  20141112   \n",
       "13009         6.0       Y       N    4008.0    개원  20151216  20151216   \n",
       "14767         6.0       Y       N    4018.0    개원  20170110  20170110   \n",
       "15576         4.0       Y       N    3961.0    개원  20170711  20170715   \n",
       "17298         7.0       Y       N    3958.0    개원  20180615  20180615   \n",
       "17747         7.0       Y       N    4008.0    개원  20180928  20180928   \n",
       "17800         9.0       Y       N    3958.0    개원  20181011  20181011   \n",
       "19665        50.0       Y       N    3959.0    개원  20190820  20190820   \n",
       "\n",
       "           적재일시  \n",
       "95     20210627  \n",
       "118    20210627  \n",
       "152    20210627  \n",
       "1967   20210627  \n",
       "5098   20210627  \n",
       "5834   20210627  \n",
       "6654   20210627  \n",
       "6739   20210627  \n",
       "8005   20210627  \n",
       "11294  20210627  \n",
       "11422  20210627  \n",
       "13009  20210627  \n",
       "14767  20210627  \n",
       "15576  20210627  \n",
       "17298  20210627  \n",
       "17747  20210627  \n",
       "17800  20210627  \n",
       "19665  20210627  "
      ]
     },
     "execution_count": 137,
     "metadata": {},
     "output_type": "execute_result"
    }
   ],
   "source": [
    "df_mangwon"
   ]
  },
  {
   "cell_type": "markdown",
   "id": "5e02a838",
   "metadata": {},
   "source": [
    "## 0805~  진행중.."
   ]
  },
  {
   "cell_type": "code",
   "execution_count": null,
   "id": "7917d5a6",
   "metadata": {},
   "outputs": [],
   "source": []
  }
 ],
 "metadata": {
  "kernelspec": {
   "display_name": "Python 3",
   "language": "python",
   "name": "python3"
  },
  "language_info": {
   "codemirror_mode": {
    "name": "ipython",
    "version": 3
   },
   "file_extension": ".py",
   "mimetype": "text/x-python",
   "name": "python",
   "nbconvert_exporter": "python",
   "pygments_lexer": "ipython3",
   "version": "3.8.10"
  }
 },
 "nbformat": 4,
 "nbformat_minor": 5
}
