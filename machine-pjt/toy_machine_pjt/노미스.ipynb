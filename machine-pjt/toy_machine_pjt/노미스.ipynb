{
 "cells": [
  {
   "cell_type": "markdown",
   "id": "ca536720",
   "metadata": {
    "colab_type": "text",
    "id": "view-in-github"
   },
   "source": [
    "<a href=\"https://colab.research.google.com/github/HayeonKimm/project/blob/master/python_machine-pjt/toy_machine_pjt/%EB%B6%93%EA%BD%83_%ED%92%88%EC%A2%85_%EC%98%88%EC%B8%A1%ED%95%B4%EB%B3%B4%EC%9E%901021.ipynb\" target=\"_parent\"><img src=\"https://colab.research.google.com/assets/colab-badge.svg\" alt=\"Open In Colab\"/></a>"
   ]
  },
  {
   "cell_type": "markdown",
   "id": "b83956dc",
   "metadata": {
    "id": "h2YP6irSoMtO"
   },
   "source": [
    "## 붖꽃 품종 예측 (DecisionTree)"
   ]
  },
  {
   "cell_type": "markdown",
   "id": "db46c24b",
   "metadata": {
    "id": "N-mhveIR5E0l"
   },
   "source": [
    "## 붓꽃 데이터 세트로 분류를 예측한 프로세스\n",
    "\n",
    "1.데이터 세트 분리  \n",
    "2.모델 학습  \n",
    "3.예측 수행  \n",
    "4.평가  "
   ]
  },
  {
   "cell_type": "code",
   "execution_count": 15,
   "id": "0c08321a",
   "metadata": {
    "ExecuteTime": {
     "end_time": "2021-11-11T03:56:43.080154Z",
     "start_time": "2021-11-11T03:56:43.057207Z"
    },
    "id": "cyLS_yHunIXT"
   },
   "outputs": [],
   "source": [
    "from sklearn.datasets import load_iris # 사이킷런에서 자체적으로 제공하는 데이터 세트를 생성하는 모듈의 모임.\n",
    "from sklearn.tree import DecisionTreeClassifier # 트리기반 ML알고리즘을 구현한 클래스의 모임 \n",
    "from sklearn.model_selection import train_test_split # 데이터 분리, 최적의 하이퍼 파라미터로 평가하기 위한 다양한 모듈의 모임"
   ]
  },
  {
   "cell_type": "code",
   "execution_count": 16,
   "id": "1c9d75d9",
   "metadata": {
    "ExecuteTime": {
     "end_time": "2021-11-11T03:56:43.173846Z",
     "start_time": "2021-11-11T03:56:43.163872Z"
    },
    "id": "tyJR0t33ni41"
   },
   "outputs": [],
   "source": [
    "import pandas as pd"
   ]
  },
  {
   "cell_type": "code",
   "execution_count": 17,
   "id": "a869a057",
   "metadata": {
    "ExecuteTime": {
     "end_time": "2021-11-11T03:56:43.328893Z",
     "start_time": "2021-11-11T03:56:43.309941Z"
    },
    "id": "0Qtdv3ploKOU"
   },
   "outputs": [],
   "source": [
    "iris = load_iris() # 원래 자체적으로 주어지는 데이터 "
   ]
  },
  {
   "cell_type": "code",
   "execution_count": 18,
   "id": "23d63296",
   "metadata": {
    "ExecuteTime": {
     "end_time": "2021-11-11T03:56:43.513512Z",
     "start_time": "2021-11-11T03:56:43.494529Z"
    },
    "id": "EQlvjVBKohJ1"
   },
   "outputs": [],
   "source": [
    "iris_data=iris.data # iris의 데이터만 따로 할당"
   ]
  },
  {
   "cell_type": "code",
   "execution_count": 19,
   "id": "1490b4d2",
   "metadata": {
    "ExecuteTime": {
     "end_time": "2021-11-11T03:56:43.652206Z",
     "start_time": "2021-11-11T03:56:43.639241Z"
    },
    "colab": {
     "base_uri": "https://localhost:8080/"
    },
    "id": "aTdFRCDZokil",
    "outputId": "74648746-3a7f-4baf-b800-735afcb84d60"
   },
   "outputs": [
    {
     "name": "stdout",
     "output_type": "stream",
     "text": [
      "iris target값: [0 0 0 0 0 0 0 0 0 0 0 0 0 0 0 0 0 0 0 0 0 0 0 0 0 0 0 0 0 0 0 0 0 0 0 0 0\n",
      " 0 0 0 0 0 0 0 0 0 0 0 0 0 1 1 1 1 1 1 1 1 1 1 1 1 1 1 1 1 1 1 1 1 1 1 1 1\n",
      " 1 1 1 1 1 1 1 1 1 1 1 1 1 1 1 1 1 1 1 1 1 1 1 1 1 1 2 2 2 2 2 2 2 2 2 2 2\n",
      " 2 2 2 2 2 2 2 2 2 2 2 2 2 2 2 2 2 2 2 2 2 2 2 2 2 2 2 2 2 2 2 2 2 2 2 2 2\n",
      " 2 2]\n",
      "iris target값 네임: ['setosa' 'versicolor' 'virginica']\n"
     ]
    }
   ],
   "source": [
    "iris_label = iris.target # 타겟값은 따로 할당.\n",
    "\n",
    "print('iris target값:', iris_label) # 타겟 값을 보여줘.\n",
    "print('iris target값 네임:', iris.target_names) # 타겟 이름을 알려줘 "
   ]
  },
  {
   "cell_type": "code",
   "execution_count": 21,
   "id": "312202d0",
   "metadata": {
    "ExecuteTime": {
     "end_time": "2021-11-11T03:56:45.371398Z",
     "start_time": "2021-11-11T03:56:45.355424Z"
    },
    "id": "LRbrbG6cpL6w"
   },
   "outputs": [],
   "source": [
    "X_train, X_test, y_train, y_test = train_test_split(iris_data, iris_label, test_size=0.2, random_state = 11)  # 트레이닝 셋 , 테스트 셋으로 나누었다. 테스트 셋 사이즈는 0.2 , 고로 트레이닝 사이즈는 0.8이다. \n",
    "\n",
    "# random_state = 11 로 고정시켰다. 수행 할 때마다 동일한 데이터 세트로 분리하기 위해서."
   ]
  },
  {
   "cell_type": "code",
   "execution_count": 22,
   "id": "bf3059f9",
   "metadata": {
    "ExecuteTime": {
     "end_time": "2021-11-11T03:56:47.181538Z",
     "start_time": "2021-11-11T03:56:47.157639Z"
    },
    "colab": {
     "base_uri": "https://localhost:8080/"
    },
    "id": "quOCmpKyp1V3",
    "outputId": "615b8184-59a0-41d8-c7fa-ca11d305c0fe"
   },
   "outputs": [
    {
     "data": {
      "text/plain": [
       "DecisionTreeClassifier(random_state=11)"
      ]
     },
     "execution_count": 22,
     "metadata": {},
     "output_type": "execute_result"
    }
   ],
   "source": [
    "# DecisionTreeClassifier 객체 생성\n",
    "dt_clf = DecisionTreeClassifier(random_state=11)\n",
    "\n",
    "# 학습을 수행하자 !\n",
    "dt_clf.fit(X_train, y_train)"
   ]
  },
  {
   "cell_type": "markdown",
   "id": "5f4dd30b",
   "metadata": {
    "id": "7kg4rhnPrQLB"
   },
   "source": [
    "## 학습완료"
   ]
  },
  {
   "cell_type": "code",
   "execution_count": 23,
   "id": "a06e9a7a",
   "metadata": {
    "ExecuteTime": {
     "end_time": "2021-11-11T03:56:51.940546Z",
     "start_time": "2021-11-11T03:56:51.923612Z"
    },
    "id": "cFMqga3JrT1f"
   },
   "outputs": [],
   "source": [
    "# 학습이 완료 됐다. 테스트 데이터로 잘 수행되었는지 알아보자.\n",
    "\n",
    "pred = dt_clf.predict(X_test) # X 테스트 데이터로 y 테스트 데이터 예측을 수행해보자. "
   ]
  },
  {
   "cell_type": "markdown",
   "id": "7d68d27f",
   "metadata": {
    "id": "WJ4tRzENrqnK"
   },
   "source": [
    "## 정확도 측정"
   ]
  },
  {
   "cell_type": "code",
   "execution_count": 24,
   "id": "139d6499",
   "metadata": {
    "ExecuteTime": {
     "end_time": "2021-11-11T03:56:54.536380Z",
     "start_time": "2021-11-11T03:56:54.523413Z"
    },
    "colab": {
     "base_uri": "https://localhost:8080/"
    },
    "id": "ok6H4qqEri1t",
    "outputId": "79c5da7b-bce0-4b33-e239-996699c308a3"
   },
   "outputs": [
    {
     "name": "stdout",
     "output_type": "stream",
     "text": [
      "예측 정확도: 0.9333\n"
     ]
    }
   ],
   "source": [
    "# accuracy_score 임포트\n",
    "from sklearn.metrics import accuracy_score \n",
    "\n",
    "print('예측 정확도: {0:.4f}'.format(accuracy_score(y_test,pred)))"
   ]
  },
  {
   "cell_type": "code",
   "execution_count": 39,
   "id": "5fb69b8d",
   "metadata": {
    "ExecuteTime": {
     "end_time": "2021-11-11T04:30:41.368876Z",
     "start_time": "2021-11-11T04:30:41.355911Z"
    }
   },
   "outputs": [
    {
     "data": {
      "text/plain": [
       "array([2, 2, 1, 1, 2, 0, 1, 0, 0, 1, 1, 1, 1, 2, 2, 0, 2, 1, 2, 2, 1, 0,\n",
       "       0, 1, 0, 0, 2, 1, 0, 1])"
      ]
     },
     "execution_count": 39,
     "metadata": {},
     "output_type": "execute_result"
    }
   ],
   "source": [
    "pred\n",
    "# len(pred)"
   ]
  },
  {
   "cell_type": "code",
   "execution_count": 38,
   "id": "37c4fd46",
   "metadata": {
    "ExecuteTime": {
     "end_time": "2021-11-11T04:30:39.321328Z",
     "start_time": "2021-11-11T04:30:39.303376Z"
    }
   },
   "outputs": [
    {
     "data": {
      "text/plain": [
       "array([[6.8, 3. , 5.5, 2.1],\n",
       "       [6.7, 3. , 5.2, 2.3],\n",
       "       [6.3, 2.8, 5.1, 1.5],\n",
       "       [6.3, 3.3, 4.7, 1.6],\n",
       "       [6.4, 2.7, 5.3, 1.9],\n",
       "       [4.9, 3.1, 1.5, 0.1],\n",
       "       [6.7, 3.1, 4.4, 1.4],\n",
       "       [5.7, 4.4, 1.5, 0.4],\n",
       "       [4.8, 3.1, 1.6, 0.2],\n",
       "       [6.1, 2.9, 4.7, 1.4],\n",
       "       [6. , 2.2, 5. , 1.5],\n",
       "       [6. , 2.2, 4. , 1. ],\n",
       "       [5.4, 3. , 4.5, 1.5],\n",
       "       [5.7, 2.5, 5. , 2. ],\n",
       "       [6.9, 3.1, 5.4, 2.1],\n",
       "       [4.5, 2.3, 1.3, 0.3],\n",
       "       [6.3, 2.9, 5.6, 1.8],\n",
       "       [5.6, 3. , 4.5, 1.5],\n",
       "       [6.5, 3.2, 5.1, 2. ],\n",
       "       [5.8, 2.7, 5.1, 1.9],\n",
       "       [5.6, 2.5, 3.9, 1.1],\n",
       "       [4.7, 3.2, 1.3, 0.2],\n",
       "       [4.6, 3.6, 1. , 0.2],\n",
       "       [6.4, 3.2, 4.5, 1.5],\n",
       "       [4.8, 3. , 1.4, 0.1],\n",
       "       [4.8, 3.4, 1.6, 0.2],\n",
       "       [5.9, 3. , 5.1, 1.8],\n",
       "       [6.6, 3. , 4.4, 1.4],\n",
       "       [5.4, 3.9, 1.3, 0.4],\n",
       "       [6. , 3.4, 4.5, 1.6]])"
      ]
     },
     "execution_count": 38,
     "metadata": {},
     "output_type": "execute_result"
    }
   ],
   "source": [
    "X_test\n",
    "# len(X_test)"
   ]
  },
  {
   "cell_type": "code",
   "execution_count": 41,
   "id": "024a404e",
   "metadata": {
    "ExecuteTime": {
     "end_time": "2021-11-11T04:31:26.115148Z",
     "start_time": "2021-11-11T04:31:26.106137Z"
    }
   },
   "outputs": [
    {
     "data": {
      "text/plain": [
       "['sepal length (cm)',\n",
       " 'sepal width (cm)',\n",
       " 'petal length (cm)',\n",
       " 'petal width (cm)']"
      ]
     },
     "execution_count": 41,
     "metadata": {},
     "output_type": "execute_result"
    }
   ],
   "source": [
    "iris.feature_names"
   ]
  },
  {
   "cell_type": "code",
   "execution_count": 34,
   "id": "207ccb6b",
   "metadata": {
    "ExecuteTime": {
     "end_time": "2021-11-11T04:28:09.493037Z",
     "start_time": "2021-11-11T04:28:09.487990Z"
    }
   },
   "outputs": [],
   "source": [
    "# myDf=pd.concat([X_test, pred], axis=1, sort=False)\n",
    "# myDf"
   ]
  },
  {
   "cell_type": "code",
   "execution_count": null,
   "id": "3efa2917",
   "metadata": {},
   "outputs": [],
   "source": [
    "# iris target값 네임: ['setosa' 'versicolor' 'virginica']"
   ]
  },
  {
   "cell_type": "markdown",
   "id": "576d64f5",
   "metadata": {},
   "source": [
    "### 앞에서 3번째, 뒤에서 3번째까지 비교 확인한 결과"
   ]
  },
  {
   "cell_type": "code",
   "execution_count": null,
   "id": "68636195",
   "metadata": {},
   "outputs": [],
   "source": [
    "[6.8, 3. , 5.5, 2.1], 일치\n",
    "[6.7, 3. , 5.2, 2.3], 일치\n",
    "[6.3, 2.8, 5.1, 1.5], 일치\n",
    "\n",
    "\n",
    "[6.6, 3. , 4.4, 1.4], 서비스와 예측값 일치\n",
    "[5.4, 3.9, 1.3, 0.4], 일치\n",
    "[6. , 3.4, 4.5, 1.6]]) 일치"
   ]
  }
 ],
 "metadata": {
  "hide_input": false,
  "kernelspec": {
   "display_name": "Python 3 (ipykernel)",
   "language": "python",
   "name": "python3"
  },
  "language_info": {
   "codemirror_mode": {
    "name": "ipython",
    "version": 3
   },
   "file_extension": ".py",
   "mimetype": "text/x-python",
   "name": "python",
   "nbconvert_exporter": "python",
   "pygments_lexer": "ipython3",
   "version": "3.8.11"
  },
  "toc": {
   "base_numbering": 1,
   "nav_menu": {},
   "number_sections": true,
   "sideBar": true,
   "skip_h1_title": false,
   "title_cell": "Table of Contents",
   "title_sidebar": "Contents",
   "toc_cell": false,
   "toc_position": {},
   "toc_section_display": true,
   "toc_window_display": false
  }
 },
 "nbformat": 4,
 "nbformat_minor": 5
}
